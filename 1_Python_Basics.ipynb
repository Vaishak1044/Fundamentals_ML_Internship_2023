{
  "nbformat": 4,
  "nbformat_minor": 0,
  "metadata": {
    "colab": {
      "provenance": [],
      "toc_visible": true,
      "authorship_tag": "ABX9TyOOOzslsmPtXDHPihoZtVuw",
      "include_colab_link": true
    },
    "kernelspec": {
      "name": "python3",
      "display_name": "Python 3"
    },
    "language_info": {
      "name": "python"
    }
  },
  "cells": [
    {
      "cell_type": "markdown",
      "metadata": {
        "id": "view-in-github",
        "colab_type": "text"
      },
      "source": [
        "<a href=\"https://colab.research.google.com/github/Vaishak1044/Fundamentals_ML_Internship_2023/blob/main/1_Python_Basics.ipynb\" target=\"_parent\"><img src=\"https://colab.research.google.com/assets/colab-badge.svg\" alt=\"Open In Colab\"/></a>"
      ]
    },
    {
      "cell_type": "markdown",
      "source": [],
      "metadata": {
        "id": "11VPQe7c3lLl"
      }
    },
    {
      "cell_type": "markdown",
      "source": [
        "Print and Arithmatic operators"
      ],
      "metadata": {
        "id": "m0zEgnC86WUU"
      }
    },
    {
      "cell_type": "markdown",
      "source": [
        "Python basics for Machine Learning"
      ],
      "metadata": {
        "id": "cegMaUFi1oxX"
      }
    },
    {
      "cell_type": "markdown",
      "source": [
        "Python is a high level, interpreter type, dynamically programmed, object oriented language\n"
      ],
      "metadata": {
        "id": "HicbsHQn3mQ6"
      }
    },
    {
      "cell_type": "markdown",
      "source": [
        "# Print and Arithmatic Operators"
      ],
      "metadata": {
        "id": "xNjk-oPj6xJv"
      }
    },
    {
      "cell_type": "code",
      "execution_count": null,
      "metadata": {
        "colab": {
          "base_uri": "https://localhost:8080/"
        },
        "id": "a8UrP83P1eds",
        "outputId": "8cd480bf-b82c-4235-9b99-b5d2d6b31f77"
      },
      "outputs": [
        {
          "output_type": "stream",
          "name": "stdout",
          "text": [
            "Hello World\n"
          ]
        }
      ],
      "source": [
        "#Print 'Hello World'\n",
        "print('Hello World')"
      ]
    },
    {
      "cell_type": "code",
      "source": [
        "print('Hello\\nworld')"
      ],
      "metadata": {
        "colab": {
          "base_uri": "https://localhost:8080/"
        },
        "id": "TyyndrFOGJHC",
        "outputId": "d0d959e4-7a9b-4e87-b5db-0fe87322a6f4"
      },
      "execution_count": null,
      "outputs": [
        {
          "output_type": "stream",
          "name": "stdout",
          "text": [
            "Hello\n",
            "world\n"
          ]
        }
      ]
    },
    {
      "cell_type": "code",
      "source": [
        "print('''First Line\n",
        "Second Line\n",
        "Third Line''')"
      ],
      "metadata": {
        "colab": {
          "base_uri": "https://localhost:8080/"
        },
        "id": "jHuN9E_BFhWy",
        "outputId": "11c2622e-5e9e-4e28-ccbf-1fcc64558238"
      },
      "execution_count": null,
      "outputs": [
        {
          "output_type": "stream",
          "name": "stdout",
          "text": [
            "First Line\n",
            "Second Line\n",
            "Third Line\n"
          ]
        }
      ]
    },
    {
      "cell_type": "code",
      "source": [
        "#print with seperators\n",
        "print(\"Hello\", \"how are you?\", sep=\"---\")\n",
        "#print(\"Hello\", \"how are you?\", sep=\"\\n\")\n",
        "#print(\"Hello\", \"how are you?\", sep=\"\\t\")"
      ],
      "metadata": {
        "colab": {
          "base_uri": "https://localhost:8080/"
        },
        "id": "CmGmU8kBIOi6",
        "outputId": "d9ee4167-d055-4f0e-a497-39b7fa64e9c8"
      },
      "execution_count": null,
      "outputs": [
        {
          "output_type": "stream",
          "name": "stdout",
          "text": [
            "Hello---how are you?\n"
          ]
        }
      ]
    },
    {
      "cell_type": "markdown",
      "source": [
        "Arithmatic opertors"
      ],
      "metadata": {
        "id": "wnAWhN1p2Rjy"
      }
    },
    {
      "cell_type": "code",
      "source": [
        "10-5*2"
      ],
      "metadata": {
        "colab": {
          "base_uri": "https://localhost:8080/"
        },
        "id": "WA7ZqUzS1w6g",
        "outputId": "274784b9-4a2b-4019-9d4e-b0f4f3f25f5d"
      },
      "execution_count": null,
      "outputs": [
        {
          "output_type": "execute_result",
          "data": {
            "text/plain": [
              "0"
            ]
          },
          "metadata": {},
          "execution_count": 8
        }
      ]
    },
    {
      "cell_type": "code",
      "source": [
        "#modulus operator\n",
        "10%6"
      ],
      "metadata": {
        "colab": {
          "base_uri": "https://localhost:8080/"
        },
        "id": "EsMLrx-W2YK0",
        "outputId": "a694685a-6dd2-4c74-ed73-a107efe7be19"
      },
      "execution_count": null,
      "outputs": [
        {
          "output_type": "execute_result",
          "data": {
            "text/plain": [
              "4"
            ]
          },
          "metadata": {},
          "execution_count": 3
        }
      ]
    },
    {
      "cell_type": "code",
      "source": [
        "#floor division\n",
        "3//2"
      ],
      "metadata": {
        "colab": {
          "base_uri": "https://localhost:8080/"
        },
        "id": "oC9sRp-D2isv",
        "outputId": "60857e82-c0a9-4a7f-c08f-c6626915d97d"
      },
      "execution_count": null,
      "outputs": [
        {
          "output_type": "execute_result",
          "data": {
            "text/plain": [
              "1"
            ]
          },
          "metadata": {},
          "execution_count": 4
        }
      ]
    },
    {
      "cell_type": "code",
      "source": [
        "#round off\n",
        "round(1.5)"
      ],
      "metadata": {
        "colab": {
          "base_uri": "https://localhost:8080/"
        },
        "id": "pmIjKBlx2w2J",
        "outputId": "db16992c-a76a-40f2-b53c-76e94cab134c"
      },
      "execution_count": null,
      "outputs": [
        {
          "output_type": "execute_result",
          "data": {
            "text/plain": [
              "2"
            ]
          },
          "metadata": {},
          "execution_count": 7
        }
      ]
    },
    {
      "cell_type": "code",
      "source": [
        "round(1.5555,2)"
      ],
      "metadata": {
        "colab": {
          "base_uri": "https://localhost:8080/"
        },
        "id": "2GMnDW57215a",
        "outputId": "48979312-ecd4-4f6c-f6cd-4cc71c04ec9e"
      },
      "execution_count": null,
      "outputs": [
        {
          "output_type": "execute_result",
          "data": {
            "text/plain": [
              "1.56"
            ]
          },
          "metadata": {},
          "execution_count": 9
        }
      ]
    },
    {
      "cell_type": "code",
      "source": [
        "#exponential\n",
        "2**3"
      ],
      "metadata": {
        "colab": {
          "base_uri": "https://localhost:8080/"
        },
        "id": "DIWFLo5N3CiH",
        "outputId": "47c71c5c-cd18-4a63-c98d-75c93fdc8499"
      },
      "execution_count": null,
      "outputs": [
        {
          "output_type": "execute_result",
          "data": {
            "text/plain": [
              "8"
            ]
          },
          "metadata": {},
          "execution_count": 11
        }
      ]
    },
    {
      "cell_type": "markdown",
      "source": [
        "# Variables"
      ],
      "metadata": {
        "id": "BTxM9xDh68NG"
      }
    },
    {
      "cell_type": "markdown",
      "source": [
        "Assign multiple values to multiple variables"
      ],
      "metadata": {
        "id": "Ud6TMk3y3Y4C"
      }
    },
    {
      "cell_type": "code",
      "source": [
        "a,b,c=1,2,3\n",
        "#a=b=c=10"
      ],
      "metadata": {
        "id": "OjeGt2Qz3H7V"
      },
      "execution_count": null,
      "outputs": []
    },
    {
      "cell_type": "code",
      "source": [
        "print(a,b,c)"
      ],
      "metadata": {
        "colab": {
          "base_uri": "https://localhost:8080/"
        },
        "id": "7VfAyqCH3gbp",
        "outputId": "ffb96e4d-4a47-4af2-cc32-71b816822934"
      },
      "execution_count": null,
      "outputs": [
        {
          "output_type": "stream",
          "name": "stdout",
          "text": [
            "10 10 10\n"
          ]
        }
      ]
    },
    {
      "cell_type": "markdown",
      "source": [
        "Print by specifying the separation"
      ],
      "metadata": {
        "id": "Jlv36Wot4AV5"
      }
    },
    {
      "cell_type": "code",
      "source": [
        "print(a,b,c, sep='\\t')"
      ],
      "metadata": {
        "colab": {
          "base_uri": "https://localhost:8080/"
        },
        "id": "WEnuEWwt3i_a",
        "outputId": "62f9a35c-95c0-4890-e9eb-b09c44a592eb"
      },
      "execution_count": null,
      "outputs": [
        {
          "output_type": "stream",
          "name": "stdout",
          "text": [
            "1\t2\t3\n"
          ]
        }
      ]
    },
    {
      "cell_type": "code",
      "source": [
        "print(a,b,c, sep='   ')"
      ],
      "metadata": {
        "colab": {
          "base_uri": "https://localhost:8080/"
        },
        "id": "wAARlECy4KT5",
        "outputId": "14e91ed3-9935-47af-bdeb-9358da729704"
      },
      "execution_count": null,
      "outputs": [
        {
          "output_type": "stream",
          "name": "stdout",
          "text": [
            "1   2   3\n"
          ]
        }
      ]
    },
    {
      "cell_type": "markdown",
      "source": [
        "# Input\n"
      ],
      "metadata": {
        "id": "Hy0eAi6P6KNU"
      }
    },
    {
      "cell_type": "markdown",
      "source": [
        "Reading input"
      ],
      "metadata": {
        "id": "JkQ_p1-X4ePy"
      }
    },
    {
      "cell_type": "code",
      "source": [
        "a = input()\n",
        "#a = input('Enter input: ')\n",
        "#Note: input() reads value as a STRING"
      ],
      "metadata": {
        "colab": {
          "base_uri": "https://localhost:8080/"
        },
        "id": "4JssFDBb4Ntn",
        "outputId": "340b10cb-2d4e-460e-d2fa-3f856aea5f49"
      },
      "execution_count": null,
      "outputs": [
        {
          "name": "stdout",
          "output_type": "stream",
          "text": [
            "1\n",
            "Enter input: 10\n"
          ]
        }
      ]
    },
    {
      "cell_type": "code",
      "source": [
        "#Type Casting\n",
        "a = int(input('Enter value:'))\n",
        "print(type(a))\n",
        "b = float(input('Enter value: '))\n",
        "print(type(b))"
      ],
      "metadata": {
        "colab": {
          "base_uri": "https://localhost:8080/"
        },
        "id": "AeECXJJi4jZy",
        "outputId": "9c56ab59-578e-4723-ece5-84ca90aae6b1"
      },
      "execution_count": null,
      "outputs": [
        {
          "output_type": "stream",
          "name": "stdout",
          "text": [
            "Enter value:10\n",
            "<class 'int'>\n"
          ]
        }
      ]
    },
    {
      "cell_type": "markdown",
      "source": [
        "\n",
        "\n",
        "```\n",
        "# This is formatted as code\n",
        "```\n",
        "\n",
        "# Strings"
      ],
      "metadata": {
        "id": "MpQJdjPc6n8M"
      }
    },
    {
      "cell_type": "markdown",
      "source": [
        "STRINGS\n",
        "Declared using \"\" or ''"
      ],
      "metadata": {
        "id": "_NkxBPBz5Y7X"
      }
    },
    {
      "cell_type": "code",
      "source": [],
      "metadata": {
        "id": "JVU0zxKi6tuE"
      },
      "execution_count": null,
      "outputs": []
    },
    {
      "cell_type": "code",
      "source": [
        "x='Hello'\n",
        "print(x)"
      ],
      "metadata": {
        "colab": {
          "base_uri": "https://localhost:8080/"
        },
        "id": "qvq69U_q5H_u",
        "outputId": "2b9afd33-45b4-43e5-8de8-72d11a1279ce"
      },
      "execution_count": null,
      "outputs": [
        {
          "output_type": "stream",
          "name": "stdout",
          "text": [
            "Hello\n"
          ]
        }
      ]
    },
    {
      "cell_type": "code",
      "source": [
        "#Multi line strings\n",
        "print('''First line\n",
        "         Second line\n",
        "         Third line''')"
      ],
      "metadata": {
        "colab": {
          "base_uri": "https://localhost:8080/"
        },
        "id": "cKbbOAxP5j1r",
        "outputId": "223fa2f6-82f9-4d35-9946-4a71d2d4e863"
      },
      "execution_count": null,
      "outputs": [
        {
          "output_type": "stream",
          "name": "stdout",
          "text": [
            "First line\n",
            "         Second line\n",
            "         Third line\n"
          ]
        }
      ]
    },
    {
      "cell_type": "code",
      "source": [
        "#length of String\n",
        "str1 = 'hello'\n",
        "print(len(str1))\n"
      ],
      "metadata": {
        "colab": {
          "base_uri": "https://localhost:8080/"
        },
        "id": "BqdG8Q8b5xr0",
        "outputId": "9b58a885-46f9-4377-b597-8ff32c29e886"
      },
      "execution_count": null,
      "outputs": [
        {
          "output_type": "stream",
          "name": "stdout",
          "text": [
            "5\n"
          ]
        }
      ]
    },
    {
      "cell_type": "code",
      "source": [
        "#indexing\n",
        "print(str1[2])"
      ],
      "metadata": {
        "colab": {
          "base_uri": "https://localhost:8080/"
        },
        "id": "7lmZ0L6d7KMn",
        "outputId": "365f52d1-eb9d-44a3-8bd3-ae0a9270e989"
      },
      "execution_count": null,
      "outputs": [
        {
          "output_type": "stream",
          "name": "stdout",
          "text": [
            "l\n"
          ]
        }
      ]
    },
    {
      "cell_type": "code",
      "source": [
        "#string slicing: 0 to n-1\n",
        "print(str1[2:5])\n",
        "print(str1[0:2])\n",
        "print(str1[:3])\n",
        "print(str1[1:])\n",
        "print(str1[:])"
      ],
      "metadata": {
        "colab": {
          "base_uri": "https://localhost:8080/"
        },
        "id": "AJyaBPEg7P1u",
        "outputId": "eab9a4ca-63f4-45e3-c299-4283163873c3"
      },
      "execution_count": null,
      "outputs": [
        {
          "output_type": "stream",
          "name": "stdout",
          "text": [
            "llo\n",
            "he\n",
            "hel\n",
            "ello\n",
            "hello\n"
          ]
        }
      ]
    },
    {
      "cell_type": "code",
      "source": [
        "#String slicing with step size\n",
        "print(str1[0:5:1])\n",
        "print(str1[::2])\n",
        "print(str1[::-1])\n",
        "print(str1[-5:-1:1])\n",
        "print(str1[-1:-6:-1])"
      ],
      "metadata": {
        "colab": {
          "base_uri": "https://localhost:8080/"
        },
        "id": "RL76RWwe7XtO",
        "outputId": "6d4df90d-be8a-4770-b0c2-22d6470a9c8b"
      },
      "execution_count": null,
      "outputs": [
        {
          "output_type": "stream",
          "name": "stdout",
          "text": [
            "hello\n",
            "hlo\n",
            "olleh\n",
            "hell\n",
            "olleh\n"
          ]
        }
      ]
    },
    {
      "cell_type": "markdown",
      "source": [
        "Palindrome"
      ],
      "metadata": {
        "id": "Yc3b2RZm-S43"
      }
    },
    {
      "cell_type": "code",
      "source": [
        "str1 = input('Enter a string to check: ')\n",
        "if str1 == str1[::-1] :\n",
        "  print('Palindrome')\n",
        "else :\n",
        "  print('Not a palindrome')"
      ],
      "metadata": {
        "colab": {
          "base_uri": "https://localhost:8080/"
        },
        "id": "q16ZXWCh74VN",
        "outputId": "fcc46171-9747-4974-ea3e-6850e4438aab"
      },
      "execution_count": null,
      "outputs": [
        {
          "output_type": "stream",
          "name": "stdout",
          "text": [
            "Enter a string to check: mom\n",
            "Palindrome\n"
          ]
        }
      ]
    },
    {
      "cell_type": "markdown",
      "source": [
        "String Methods"
      ],
      "metadata": {
        "id": "Ar7oPhJU-4Xd"
      }
    },
    {
      "cell_type": "code",
      "source": [
        "str1='hello'\n",
        "print(str1.upper())\n",
        "print(str1.lower())\n",
        "print(str1.capitalize())\n",
        "str1= ' hel lo '\n",
        "print(str1.split())\n",
        "print(str1.strip())"
      ],
      "metadata": {
        "colab": {
          "base_uri": "https://localhost:8080/"
        },
        "id": "FZb8aDuX-l-G",
        "outputId": "fcf3056b-1bcb-484b-a41c-66cb731cb6a8"
      },
      "execution_count": null,
      "outputs": [
        {
          "output_type": "stream",
          "name": "stdout",
          "text": [
            "HELLO\n",
            "hello\n",
            "Hello\n",
            "['hel', 'lo']\n",
            "hel lo\n"
          ]
        }
      ]
    },
    {
      "cell_type": "markdown",
      "source": [
        "String concatention"
      ],
      "metadata": {
        "id": "0URihl_U_ft5"
      }
    },
    {
      "cell_type": "code",
      "source": [
        "x = 'hello'\n",
        "y = 'world'\n",
        "print(x+y)\n",
        "print(x+ ' '+y)"
      ],
      "metadata": {
        "colab": {
          "base_uri": "https://localhost:8080/"
        },
        "id": "9smafSVu_b_0",
        "outputId": "798ba4ec-6ffc-4e44-8cbc-78b66ed309e2"
      },
      "execution_count": null,
      "outputs": [
        {
          "output_type": "stream",
          "name": "stdout",
          "text": [
            "helloworld\n",
            "hello world\n"
          ]
        }
      ]
    },
    {
      "cell_type": "code",
      "source": [
        "age = 10\n",
        "txt = 'My age is '\n",
        "standard = 4\n",
        "print(txt + str(age) + ' ' +'I\\'m studying in class ' + str(standard))"
      ],
      "metadata": {
        "colab": {
          "base_uri": "https://localhost:8080/"
        },
        "id": "WDx9uJd7_ozo",
        "outputId": "7bbae945-b50f-4c77-c962-8e2fe06f4878"
      },
      "execution_count": null,
      "outputs": [
        {
          "output_type": "stream",
          "name": "stdout",
          "text": [
            "My age is 10 I'm studying in class 4\n"
          ]
        }
      ]
    },
    {
      "cell_type": "markdown",
      "source": [
        "String format method"
      ],
      "metadata": {
        "id": "TA9ria2yAJ_6"
      }
    },
    {
      "cell_type": "code",
      "source": [
        "print('%d %s cost $%.2f' % (6, 'bananas', 1.74))"
      ],
      "metadata": {
        "colab": {
          "base_uri": "https://localhost:8080/"
        },
        "id": "qDpSyIG-JtW4",
        "outputId": "60a9f6dd-723d-45da-bcc2-76d564217ebf"
      },
      "execution_count": null,
      "outputs": [
        {
          "output_type": "stream",
          "name": "stdout",
          "text": [
            "6 bananas cost $1.74\n"
          ]
        }
      ]
    },
    {
      "cell_type": "code",
      "source": [
        "print(f'My age is {age} and I\\'m studying in class {standard}')\n",
        "\n",
        "item = 'product1'\n",
        "price=99.99\n",
        "quantity=10\n",
        "print(f'Your order for {quantity} of {item} priced at {price*quantity} is confirmed')"
      ],
      "metadata": {
        "colab": {
          "base_uri": "https://localhost:8080/"
        },
        "id": "wZv8L10d_4HM",
        "outputId": "be339fac-2121-4e10-9161-3d6a85ebdf4e"
      },
      "execution_count": null,
      "outputs": [
        {
          "output_type": "stream",
          "name": "stdout",
          "text": [
            "My age is 10 and I'm studying in class 4\n",
            "Your order for 10 of product1 priced at 999.9 is confirmed\n"
          ]
        }
      ]
    },
    {
      "cell_type": "code",
      "source": [
        "#@title Program to Find ASCII Value of Character\n",
        "\n",
        "char = 'p'\n",
        "print(\"The ASCII value of '\" + char + \"' is\", ord(c))\n",
        "\n",
        "#ord() function to convert a character to an integer (ASCII value). This function returns the Unicode code point of that character."
      ],
      "metadata": {
        "colab": {
          "base_uri": "https://localhost:8080/"
        },
        "id": "4oFsBKGDn6Af",
        "outputId": "05f273c8-08e8-4c24-cc8d-8597e71aacef"
      },
      "execution_count": null,
      "outputs": [
        {
          "output_type": "stream",
          "name": "stdout",
          "text": [
            "The ASCII value of 'p' is 112\n"
          ]
        }
      ]
    },
    {
      "cell_type": "code",
      "source": [
        "#Modify the code above to get characters from their corresponding ASCII values using the chr() function\n",
        "chr(65)"
      ],
      "metadata": {
        "colab": {
          "base_uri": "https://localhost:8080/",
          "height": 36
        },
        "id": "vr4FMfHZs6cZ",
        "outputId": "deb859b1-cda1-43dd-cf5a-290efa6501cc"
      },
      "execution_count": null,
      "outputs": [
        {
          "output_type": "execute_result",
          "data": {
            "text/plain": [
              "'A'"
            ],
            "application/vnd.google.colaboratory.intrinsic+json": {
              "type": "string"
            }
          },
          "metadata": {},
          "execution_count": 10
        }
      ]
    },
    {
      "cell_type": "code",
      "source": [
        "#@title Program to convert Upper case to lower case and vice versa\n",
        "\n",
        "\n",
        "char1 = 'A'\n",
        "\n",
        "ASCII = ord(char1)\n",
        "print(ASCII)\n",
        "\n",
        "if ASCII > 64 and ASCII < 91:\n",
        "  print('Char is in upper case')\n",
        "  ASCII  +=  32\n",
        "  small_case = chr(ASCII)\n",
        "  print(small_case)\n",
        "elif ASCII > 96 and ASCII < 123:\n",
        "   pass\n"
      ],
      "metadata": {
        "colab": {
          "base_uri": "https://localhost:8080/"
        },
        "id": "HuYWlZ1p7fe-",
        "outputId": "267b9969-845f-48fb-8b8f-f3b8efe22dc9"
      },
      "execution_count": null,
      "outputs": [
        {
          "output_type": "stream",
          "name": "stdout",
          "text": [
            "65\n",
            "Char is in upper case\n",
            "a\n"
          ]
        }
      ]
    },
    {
      "cell_type": "markdown",
      "source": [
        "# Conditional statements"
      ],
      "metadata": {
        "id": "Skv4A55cB3vc"
      }
    },
    {
      "cell_type": "markdown",
      "source": [
        "Comparision operators:\n",
        "                      ==\n",
        "                      !=\n",
        "                      <\n",
        "                      >\n",
        "                      <=\n",
        "                      >="
      ],
      "metadata": {
        "id": "TIhH7COONXUI"
      }
    },
    {
      "cell_type": "code",
      "source": [
        "#ask\n",
        "print(10==10)\n",
        "print('Hello'==\"Hello\")"
      ],
      "metadata": {
        "colab": {
          "base_uri": "https://localhost:8080/"
        },
        "id": "qQMJ1BydodJx",
        "outputId": "b58aa186-486e-466d-9f47-4bffc969f05f"
      },
      "execution_count": null,
      "outputs": [
        {
          "output_type": "stream",
          "name": "stdout",
          "text": [
            "True\n",
            "True\n"
          ]
        }
      ]
    },
    {
      "cell_type": "markdown",
      "source": [
        "if **else** /elif/ nested if"
      ],
      "metadata": {
        "id": "bRBq5Fs3BzIj"
      }
    },
    {
      "cell_type": "code",
      "source": [
        "x=int(input('Enter first number: '))\n",
        "y=int(input('Enter second number: '))\n",
        "\n",
        "if x>y :\n",
        "  print(f'{x} is greater than {y}')\n",
        "else :\n",
        "  print(f'{y} is greater than {x}')"
      ],
      "metadata": {
        "colab": {
          "base_uri": "https://localhost:8080/"
        },
        "id": "bWfF4dgNAyQT",
        "outputId": "fc82a8a0-5c9c-4202-c937-ba17352157da"
      },
      "execution_count": null,
      "outputs": [
        {
          "output_type": "stream",
          "name": "stdout",
          "text": [
            "Enter first number: 5\n",
            "Enter second number: 5\n",
            "5 is greater than 5\n"
          ]
        }
      ]
    },
    {
      "cell_type": "code",
      "source": [
        "#elif\n",
        "x=int(input('Enter first number: '))\n",
        "y=int(input('Enter second number: '))\n",
        "\n",
        "if x>y :\n",
        "  print(f'{x} is greater than {y}')\n",
        "elif x<y :\n",
        "  print(f'{y} is greater than {x}')\n",
        "else:\n",
        "   print(f'{x} = {y}')"
      ],
      "metadata": {
        "colab": {
          "base_uri": "https://localhost:8080/"
        },
        "id": "pBu3xPL6EpkZ",
        "outputId": "a713c499-af2d-41a4-b133-242d40fd20de"
      },
      "execution_count": null,
      "outputs": [
        {
          "output_type": "stream",
          "name": "stdout",
          "text": [
            "Enter first number: 5\n",
            "Enter second number: 5\n",
            "5 = 5\n"
          ]
        }
      ]
    },
    {
      "cell_type": "code",
      "source": [
        "#nested if\n",
        "x=int(input('Enter first number: '))\n",
        "y=int(input('Enter second number: '))\n",
        "\n",
        "if x!=y :\n",
        "  if x>y :\n",
        "    print(f'{x} is greater than {y}')\n",
        "  else :\n",
        "    print(f'{y} is greater than {x}')\n",
        "else:\n",
        "   print(f'{x} = {y}')\n"
      ],
      "metadata": {
        "colab": {
          "base_uri": "https://localhost:8080/"
        },
        "id": "Bx5aOpAqLs_2",
        "outputId": "173f7f34-10d3-494c-98f7-725d9b887bd7"
      },
      "execution_count": null,
      "outputs": [
        {
          "output_type": "stream",
          "name": "stdout",
          "text": [
            "Enter first number: 2\n",
            "Enter second number: 3\n",
            "3 is greater than 2\n"
          ]
        }
      ]
    },
    {
      "cell_type": "code",
      "source": [
        "#Logical Operators: and, or, not\n",
        "a=10\n",
        "b=20\n",
        "\n",
        "if a>b and a!=b :\n",
        "  print('a is greater than b')\n",
        "else :\n",
        "  print('b is greater than a')"
      ],
      "metadata": {
        "colab": {
          "base_uri": "https://localhost:8080/"
        },
        "id": "1FJ4Trlgwihr",
        "outputId": "fcbcb4bf-77f0-47be-d28f-be0a5d0c4705"
      },
      "execution_count": null,
      "outputs": [
        {
          "output_type": "stream",
          "name": "stdout",
          "text": [
            "b is greater than a\n"
          ]
        }
      ]
    },
    {
      "cell_type": "code",
      "source": [
        "# pass is a keyword used if no code is written within a block and avoid indentation error\n",
        "a = 10\n",
        "if a<10 :\n",
        "  #pass"
      ],
      "metadata": {
        "id": "grlbO55_pjTP"
      },
      "execution_count": null,
      "outputs": []
    },
    {
      "cell_type": "markdown",
      "source": [
        "Types of CODE: WET and DRY\n",
        "WET: Write Everything Twice\n",
        "DRY: Don't Repeat Yourself"
      ],
      "metadata": {
        "id": "jd5dMZzxMeqc"
      }
    },
    {
      "cell_type": "code",
      "source": [
        "#ask\n",
        "num = [1,2,3,4]\n",
        "print(num*2)"
      ],
      "metadata": {
        "colab": {
          "base_uri": "https://localhost:8080/"
        },
        "id": "dTy-GTpGOYSM",
        "outputId": "00dde37d-b066-46a4-98c8-11873cf6294c"
      },
      "execution_count": null,
      "outputs": [
        {
          "output_type": "stream",
          "name": "stdout",
          "text": [
            "[1, 2, 3, 4, 1, 2, 3, 4]\n"
          ]
        }
      ]
    },
    {
      "cell_type": "markdown",
      "source": [
        "# LOOPS"
      ],
      "metadata": {
        "id": "CpW1CGVKNmSa"
      }
    },
    {
      "cell_type": "markdown",
      "source": [
        "Loops: Repeats a set of instructions as long as condition remains 'TRUE'"
      ],
      "metadata": {
        "id": "WE3-J6j4Nuw5"
      }
    },
    {
      "cell_type": "markdown",
      "source": [
        "while loop"
      ],
      "metadata": {
        "id": "KrzLcNkTOm6L"
      }
    },
    {
      "cell_type": "code",
      "source": [
        "i = 0\n",
        "while i<100 :\n",
        "  print(i)\n",
        "  i+=1"
      ],
      "metadata": {
        "colab": {
          "base_uri": "https://localhost:8080/"
        },
        "id": "equxPakrMTVL",
        "outputId": "7e690f30-1807-4610-cb30-988c33739da8"
      },
      "execution_count": null,
      "outputs": [
        {
          "output_type": "stream",
          "name": "stdout",
          "text": [
            "0\n",
            "1\n",
            "2\n",
            "3\n",
            "4\n",
            "5\n",
            "6\n",
            "7\n",
            "8\n",
            "9\n",
            "10\n",
            "11\n",
            "12\n",
            "13\n",
            "14\n",
            "15\n",
            "16\n",
            "17\n",
            "18\n",
            "19\n",
            "20\n",
            "21\n",
            "22\n",
            "23\n",
            "24\n",
            "25\n",
            "26\n",
            "27\n",
            "28\n",
            "29\n",
            "30\n",
            "31\n",
            "32\n",
            "33\n",
            "34\n",
            "35\n",
            "36\n",
            "37\n",
            "38\n",
            "39\n",
            "40\n",
            "41\n",
            "42\n",
            "43\n",
            "44\n",
            "45\n",
            "46\n",
            "47\n",
            "48\n",
            "49\n",
            "50\n",
            "51\n",
            "52\n",
            "53\n",
            "54\n",
            "55\n",
            "56\n",
            "57\n",
            "58\n",
            "59\n",
            "60\n",
            "61\n",
            "62\n",
            "63\n",
            "64\n",
            "65\n",
            "66\n",
            "67\n",
            "68\n",
            "69\n",
            "70\n",
            "71\n",
            "72\n",
            "73\n",
            "74\n",
            "75\n",
            "76\n",
            "77\n",
            "78\n",
            "79\n",
            "80\n",
            "81\n",
            "82\n",
            "83\n",
            "84\n",
            "85\n",
            "86\n",
            "87\n",
            "88\n",
            "89\n",
            "90\n",
            "91\n",
            "92\n",
            "93\n",
            "94\n",
            "95\n",
            "96\n",
            "97\n",
            "98\n",
            "99\n"
          ]
        }
      ]
    },
    {
      "cell_type": "code",
      "source": [
        "#@title Check whether the string is Symmetrical or Palindrome without reversing the string\n",
        "\n",
        "name=input(\"Enter the string:\")\n",
        "left=0   # to point to the first element\n",
        "right=len(name)-1 # pointer to the last element\n",
        "flag=1\n",
        "while left<right:\n",
        "  if name[left]!=name[right]:\n",
        "    flag=0\n",
        "    break\n",
        "  left+=1\n",
        "  right-=1\n",
        "if flag==1:\n",
        "  print(\"Palindrome\")\n",
        "else:\n",
        "  print(\"Not Palindrome\")"
      ],
      "metadata": {
        "colab": {
          "base_uri": "https://localhost:8080/"
        },
        "id": "hu3OBAw_EPJ2",
        "outputId": "b20413e2-c459-49ae-b0a8-c0c260dee1f5"
      },
      "execution_count": null,
      "outputs": [
        {
          "output_type": "stream",
          "name": "stdout",
          "text": [
            "Enter the string:sos\n",
            "Palindrome\n"
          ]
        }
      ]
    },
    {
      "cell_type": "markdown",
      "source": [
        "for loop: runs a set of instructions for all items in the collection"
      ],
      "metadata": {
        "id": "dA-GV507PGVc"
      }
    },
    {
      "cell_type": "code",
      "source": [
        "#@title printing an array content num=[1,2,3,4,5] using for loop\n",
        "num = [1,2,3,4,5]\n",
        "\n",
        "for i in num :\n",
        "  print(i,end='')\n",
        "  #print(i,end='\\t')"
      ],
      "metadata": {
        "colab": {
          "base_uri": "https://localhost:8080/"
        },
        "id": "h_O7aHBQO7st",
        "outputId": "8d56b81d-653d-492c-e45a-de2bb03240c9"
      },
      "execution_count": null,
      "outputs": [
        {
          "output_type": "stream",
          "name": "stdout",
          "text": [
            "11\t22\t33\t44\t55\t"
          ]
        }
      ]
    },
    {
      "cell_type": "code",
      "source": [
        "str1='Hello World'\n",
        "for i in str1 :\n",
        "  print(i)\n",
        "  #print(i,end='') #to print in a single line"
      ],
      "metadata": {
        "colab": {
          "base_uri": "https://localhost:8080/"
        },
        "id": "MxwlOmP3PSSG",
        "outputId": "5fe024a1-fc1f-4fb1-e060-3bbb473cb7fa"
      },
      "execution_count": null,
      "outputs": [
        {
          "output_type": "stream",
          "name": "stdout",
          "text": [
            "H\n",
            "e\n",
            "l\n",
            "l\n",
            "o\n",
            " \n",
            "W\n",
            "o\n",
            "r\n",
            "l\n",
            "d\n"
          ]
        }
      ]
    },
    {
      "cell_type": "code",
      "source": [
        "#@title Write a program to eliminate spaces from a String\n",
        "\n",
        "str1 = 'Hello World'\n",
        "for i in str1 :\n",
        "    if i ==' ':\n",
        "      pass\n",
        "      #continue\n",
        "      #break\n",
        "    else:\n",
        "      print(i, end='')"
      ],
      "metadata": {
        "colab": {
          "base_uri": "https://localhost:8080/"
        },
        "id": "p7cbvOw7QIvQ",
        "outputId": "b0a71089-3d8f-4e4a-8909-f6fd70fec75a"
      },
      "execution_count": null,
      "outputs": [
        {
          "output_type": "stream",
          "name": "stdout",
          "text": [
            "HelloWorld"
          ]
        }
      ]
    },
    {
      "cell_type": "markdown",
      "source": [
        "break: stops entire loop when 'break' keyword is encountered\n",
        "continue: skips current loop iteration and move on to next iteration of the loop"
      ],
      "metadata": {
        "id": "G_9oqHNRqrPX"
      }
    },
    {
      "cell_type": "code",
      "source": [
        "#range() in for loop\n",
        "for i in range(10) :\n",
        "  print(i)"
      ],
      "metadata": {
        "colab": {
          "base_uri": "https://localhost:8080/"
        },
        "id": "gjTV-ARDRY_f",
        "outputId": "7ad07a28-27dd-4bc1-fdbf-2c29152c7108"
      },
      "execution_count": null,
      "outputs": [
        {
          "output_type": "stream",
          "name": "stdout",
          "text": [
            "0\n",
            "1\n",
            "2\n",
            "3\n",
            "4\n",
            "5\n",
            "6\n",
            "7\n",
            "8\n",
            "9\n"
          ]
        }
      ]
    },
    {
      "cell_type": "code",
      "source": [
        "#range() with step size\n",
        "for i in range(0,10,2) :\n",
        "  print(i)"
      ],
      "metadata": {
        "colab": {
          "base_uri": "https://localhost:8080/"
        },
        "id": "jX4YuJ2RTpKs",
        "outputId": "d55d01ce-f609-4d43-c885-877fe608ae95"
      },
      "execution_count": null,
      "outputs": [
        {
          "output_type": "stream",
          "name": "stdout",
          "text": [
            "0\n",
            "2\n",
            "4\n",
            "6\n",
            "8\n"
          ]
        }
      ]
    },
    {
      "cell_type": "code",
      "source": [
        "#@title print string content using string index and eliminate first index content\n",
        "str1='hello world'\n",
        "for i in range(len(str1)):\n",
        "  if(i==0):\n",
        "    pass\n",
        "  else :\n",
        "    print(str1[i],end='')\n",
        "  \n"
      ],
      "metadata": {
        "colab": {
          "base_uri": "https://localhost:8080/"
        },
        "id": "Pt55-8k-T1xI",
        "outputId": "badd5ca9-3464-493c-f735-6e8cec8902ac"
      },
      "execution_count": null,
      "outputs": [
        {
          "output_type": "stream",
          "name": "stdout",
          "text": [
            "ello world"
          ]
        }
      ]
    },
    {
      "cell_type": "code",
      "source": [
        "#@title Display all the two digit numbers where the number and it's reverse are divisible by 3\n",
        "\n",
        "for i in range(10,100):\n",
        "  temp=str(i)\n",
        "  rev=int(temp[1]+temp[0])\n",
        "  if i%3==0 and rev%3==0:\n",
        "    print(i,end=' ')\n",
        "  "
      ],
      "metadata": {
        "colab": {
          "base_uri": "https://localhost:8080/"
        },
        "id": "8BKMyKMMFAOl",
        "outputId": "cc14e275-995e-42ea-9039-647c3ee068ef"
      },
      "execution_count": null,
      "outputs": [
        {
          "output_type": "stream",
          "name": "stdout",
          "text": [
            "12 15 18 21 24 27 30 33 36 39 42 45 48 51 54 57 60 63 66 69 72 75 78 81 84 87 90 93 96 99 "
          ]
        }
      ]
    },
    {
      "cell_type": "code",
      "source": [
        "#@title Program to Find HCF or GCD\n",
        "#The highest common factor (H.C.F) or greatest common divisor (G.C.D) of two numbers \n",
        "#is the largest positive integer that perfectly divides the two given numbers. \n",
        "#For example, the H.C.F of 12 and 14 is 2.\n",
        "\n",
        "num1 = 2 \n",
        "num2 = 4\n",
        "\n",
        "# choose the smaller number\n",
        "if num1 > num2:\n",
        "    smaller = num2\n",
        "else:\n",
        "    smaller = num1\n",
        "for i in range(1, smaller+1):\n",
        "    if((num1 % i == 0) and (num2 % i == 0)):\n",
        "        hcf = i \n",
        "    \n",
        "print(f'HCF = {hcf}')"
      ],
      "metadata": {
        "colab": {
          "base_uri": "https://localhost:8080/"
        },
        "id": "W0vOnHzKtoDs",
        "outputId": "23e25f58-1694-4297-f48a-8a23abc76937"
      },
      "execution_count": null,
      "outputs": [
        {
          "output_type": "stream",
          "name": "stdout",
          "text": [
            "HCF = 2\n"
          ]
        }
      ]
    },
    {
      "cell_type": "markdown",
      "source": [
        "The Least Common Multiple (LCM) is also referred to as the Lowest Common Multiple (LCM) and Least Common Divisor (LCD). For two integers a and b, denoted LCM(a,b), the LCM is the smallest positive integer that is evenly divisible by both a and b."
      ],
      "metadata": {
        "id": "xMzx_dT7vvI8"
      }
    },
    {
      "cell_type": "code",
      "source": [
        "#@title Program to Compute LCM\n",
        "x=2\n",
        "y=4\n",
        "if x > y:\n",
        "       greater = x\n",
        "else:\n",
        "       greater = y\n",
        "\n",
        "while(True):\n",
        "   if((greater % x == 0) and (greater % y == 0)):\n",
        "        lcm = greater\n",
        "        break\n",
        "   greater += 1\n",
        "\n",
        "print(lcm)\n"
      ],
      "metadata": {
        "colab": {
          "base_uri": "https://localhost:8080/"
        },
        "id": "D9ZHYYqQuxua",
        "outputId": "635d4018-fd72-425a-e718-1954d6a3a742"
      },
      "execution_count": null,
      "outputs": [
        {
          "output_type": "stream",
          "name": "stdout",
          "text": [
            "4\n"
          ]
        }
      ]
    },
    {
      "cell_type": "markdown",
      "source": [
        "# Lists: Items in a List are ordered, changeable and allow duplicates\n",
        "\n",
        "Ordered=indexed\n",
        "changeable=manipulated\n",
        "duplicates=multiple entries"
      ],
      "metadata": {
        "id": "e4hJ0Hx_Xu8R"
      }
    },
    {
      "cell_type": "code",
      "source": [
        "#@title Default title text\n",
        "l1 = ['Apple','Banana','Cherry']\n",
        "print(l1)\n",
        "print(len(l1))\n",
        "print(type(l1))\n",
        "print(*l1)"
      ],
      "metadata": {
        "colab": {
          "base_uri": "https://localhost:8080/"
        },
        "id": "W2jojcm2X1MB",
        "outputId": "cd71fc4b-5174-4d25-c6b8-74476ca71599"
      },
      "execution_count": null,
      "outputs": [
        {
          "output_type": "stream",
          "name": "stdout",
          "text": [
            "['Apple', 'Banana', 'Cherry']\n",
            "3\n",
            "<class 'list'>\n",
            "Apple Banana Cherry\n"
          ]
        }
      ]
    },
    {
      "cell_type": "code",
      "source": [
        "#ordered\n",
        "print(l1[0])\n",
        "print(l1[1:2])\n",
        "print(l1[:2])\n",
        "print(l1[-2])\n",
        "print(l1[::-1])"
      ],
      "metadata": {
        "colab": {
          "base_uri": "https://localhost:8080/"
        },
        "id": "wJ0EwJUsZ5to",
        "outputId": "7e193995-d2a3-4e85-ff32-0c546c426dd3"
      },
      "execution_count": null,
      "outputs": [
        {
          "output_type": "stream",
          "name": "stdout",
          "text": [
            "Apple\n",
            "['Banana']\n",
            "['Apple', 'Banana']\n",
            "Banana\n",
            "['Cherry', 'Banana', 'Apple']\n"
          ]
        }
      ]
    },
    {
      "cell_type": "code",
      "source": [
        "#changeable\n",
        "l1 = ['Apple','Banana','Cherry']\n",
        "l1[2]='Mango'\n",
        "print(l1)\n",
        "\n",
        "l1[1:3]= ['Kiwi'] #this will replace index 1 and 2 with just one item i.e., 'Kiwi'\n",
        "print(l1)\n",
        "\n",
        "l1[1:3] = ['Banana','Cherry']\n",
        "print(l1)\n",
        "\n"
      ],
      "metadata": {
        "colab": {
          "base_uri": "https://localhost:8080/"
        },
        "id": "uuS861YmbQV-",
        "outputId": "4ef7fa45-0bf7-4bd9-c09a-af138d0d8c37"
      },
      "execution_count": null,
      "outputs": [
        {
          "output_type": "stream",
          "name": "stdout",
          "text": [
            "['Apple', 'Banana', 'Mango']\n",
            "['Apple', 'Kiwi']\n",
            "['Apple', 'Banana', 'Cherry']\n"
          ]
        }
      ]
    },
    {
      "cell_type": "markdown",
      "source": [
        "List Methods"
      ],
      "metadata": {
        "id": "5IMAeH48jxdA"
      }
    },
    {
      "cell_type": "code",
      "source": [
        "#Append\n",
        "#l1[3]='Mango' cannot be used as index would be out of range, hence use append to add items at the last\n",
        "l1 = ['Apple','Banana','Cherry']\n",
        "\n",
        "l1.append('Mango')\n",
        "print(l1)\n",
        "\n",
        "#Insert: adds an item to specified index position\n",
        "l1.insert(2,'Orange')\n",
        "print(l1)\n",
        "\n",
        "#Extend: combine 2 lists/tuples/sets/dictionaries, numpy arrays as Lists\n",
        "l1=['Apple','Banana','Cherry']\n",
        "l2=[1,2,3]\n",
        "l1.extend(l2)\n",
        "print(l1)\n",
        "\n",
        "#Sort\n",
        "l1=['a','A','B','b','1']\n",
        "l1.sort()\n",
        "print(l1)\n",
        "\n",
        "#Reverse\n",
        "l1.reverse()\n",
        "print(l1)\n",
        "\n",
        "#Pop: l1.pop(index)\n",
        "l1.pop(2)\n",
        "print(l1)\n",
        "\n",
        "l1.pop() #removes last item\n",
        "print(l1)\n",
        "\n",
        "#Delete: Python keyword, it can delete all data types including Lists\n",
        "del l1[2]\n",
        "print(l1)\n",
        "\n",
        "#clear: empties the list\n",
        "l1.clear()\n",
        "print(l1)\n",
        "\n",
        "#Delete: Python keyword, it can delete all data types including Lists\n",
        "l1=['a','A','B','b','1']#\n",
        "del l1[2]\n",
        "print(l1)\n",
        "\n",
        "del l1 # deletes l1 from memory after this l1 will not exist and gives an error if tried to print\n",
        "#print(l1)\n"
      ],
      "metadata": {
        "colab": {
          "base_uri": "https://localhost:8080/"
        },
        "id": "mNBRvuqmiSot",
        "outputId": "561ffb10-e9f1-4532-8f20-497316d5b917"
      },
      "execution_count": null,
      "outputs": [
        {
          "output_type": "stream",
          "name": "stdout",
          "text": [
            "['Apple', 'Banana', 'Cherry', 'Mango']\n",
            "['Apple', 'Banana', 'Orange', 'Cherry', 'Mango']\n",
            "['Apple', 'Banana', 'Cherry', 1, 2, 3]\n",
            "['1', 'A', 'B', 'a', 'b']\n",
            "['b', 'a', 'B', 'A', '1']\n",
            "['b', 'a', 'A', '1']\n",
            "['b', 'a', 'A']\n",
            "['b', 'a']\n",
            "[]\n",
            "['a', 'A', 'b', '1']\n"
          ]
        }
      ]
    },
    {
      "cell_type": "code",
      "source": [
        "l1=['a','b','c']\n",
        "s='c'\n",
        "for i in l1:\n",
        "  if i == s:\n",
        "    print('Item found')\n",
        "    flag=1\n",
        "  else:\n",
        "    print('Item not found')\n",
        "    flag=0\n",
        "\n",
        "  if flag==1:\n",
        "    print('Found')"
      ],
      "metadata": {
        "colab": {
          "base_uri": "https://localhost:8080/"
        },
        "id": "I1iIMNuKfXCv",
        "outputId": "cc2fc313-9b84-4be8-a84c-b34cde6b579f"
      },
      "execution_count": null,
      "outputs": [
        {
          "output_type": "stream",
          "name": "stdout",
          "text": [
            "Item not found\n",
            "Item not found\n",
            "Item found\n",
            "Found\n"
          ]
        }
      ]
    },
    {
      "cell_type": "markdown",
      "source": [
        "#List comprehensions are a concise way to create lists in Python"
      ],
      "metadata": {
        "id": "lkP2hRpw1Q4r"
      }
    },
    {
      "cell_type": "code",
      "source": [
        "#create a list of squares of numbers from 0 to 9 without List comprehension\n",
        "\n",
        "l1=[]\n",
        "\n",
        "for x in range(10):\n",
        "  x=x**2\n",
        "  l1.append(x)\n",
        "\n",
        "print(l1)\n"
      ],
      "metadata": {
        "colab": {
          "base_uri": "https://localhost:8080/"
        },
        "id": "tLdC-YhK1eef",
        "outputId": "851ab38a-9225-4872-dc30-a83120d9e50e"
      },
      "execution_count": null,
      "outputs": [
        {
          "output_type": "stream",
          "name": "stdout",
          "text": [
            "[0, 1, 4, 9, 16, 25, 36, 49, 64, 81]\n"
          ]
        }
      ]
    },
    {
      "cell_type": "code",
      "source": [
        "#create a list of squares of numbers from 0 to 9 with List Comprehension\n",
        "\n",
        "square_numbers = [x**2 for x in range(10)]\n",
        "print(square_numbers)\n"
      ],
      "metadata": {
        "colab": {
          "base_uri": "https://localhost:8080/"
        },
        "id": "lS477ikV1LGN",
        "outputId": "28c94ed1-8569-4f8a-cdae-fb03018c2c98"
      },
      "execution_count": null,
      "outputs": [
        {
          "output_type": "stream",
          "name": "stdout",
          "text": [
            "[0, 1, 4, 9, 16, 25, 36, 49, 64, 81]\n"
          ]
        }
      ]
    },
    {
      "cell_type": "code",
      "source": [
        "#create a list of even numbers from a given list numbers without List Comprension\n",
        "\n",
        "numbers = [1, 2, 3, 4, 5, 6, 7, 8, 9, 10]\n",
        "l1=[]\n",
        "for i in numbers:\n",
        "  if i%2 == 0:\n",
        "    l1.append(i)\n",
        "print(l1)"
      ],
      "metadata": {
        "colab": {
          "base_uri": "https://localhost:8080/"
        },
        "id": "jxJOklGX2cy-",
        "outputId": "2ab23aa0-dcd4-440b-ec6b-8786f893bc1f"
      },
      "execution_count": null,
      "outputs": [
        {
          "output_type": "stream",
          "name": "stdout",
          "text": [
            "[2, 4, 6, 8, 10]\n"
          ]
        }
      ]
    },
    {
      "cell_type": "code",
      "source": [
        "#create a list of even numbers from a given list numbers with List Comprension\n",
        "\n",
        "numbers = [1, 2, 3, 4, 5, 6, 7, 8, 9, 10]\n",
        "even_numbers = [x for x in numbers if x % 2 == 0]\n",
        "print(even_numbers)\n"
      ],
      "metadata": {
        "colab": {
          "base_uri": "https://localhost:8080/"
        },
        "id": "NOAg6uUL2WMb",
        "outputId": "0fb55fe3-8007-4dec-a936-b2145ad7b5de"
      },
      "execution_count": null,
      "outputs": [
        {
          "output_type": "stream",
          "name": "stdout",
          "text": [
            "[2, 4, 6, 8, 10]\n"
          ]
        }
      ]
    },
    {
      "cell_type": "markdown",
      "source": [
        "LISTS SUMMARY:\n"
      ],
      "metadata": {
        "id": "3rLzt4Lbadxx"
      }
    },
    {
      "cell_type": "code",
      "source": [],
      "metadata": {
        "id": "Mz5sBB1n1U7A"
      },
      "execution_count": null,
      "outputs": []
    },
    {
      "cell_type": "code",
      "source": [
        "# Initialize a list\n",
        "numbers = [1, 2, 3, 4, 5]\n",
        "\n",
        "# Print the list\n",
        "print(\"Original list:\", numbers)\n",
        "\n",
        "# Access an item in the list\n",
        "print(\"The second item in the list is:\", numbers[1])\n",
        "\n",
        "# Modify an item in the list\n",
        "numbers[1] = 20\n",
        "print(\"Modified list:\", numbers)\n",
        "\n",
        "# Get the length of the list\n",
        "print(\"The length of the list is:\", len(numbers))\n",
        "\n",
        "# Append an item to the end of the list\n",
        "numbers.append(6)\n",
        "print(\"List after appending an item:\", numbers)\n",
        "\n",
        "# Remove an item from the list\n",
        "numbers.remove(6)\n",
        "print(\"List after removing an item:\", numbers)\n",
        "\n",
        "# Sort the list\n",
        "numbers.sort()\n",
        "print(\"Sorted list:\", numbers)\n",
        "\n",
        "# Reverse the list\n",
        "numbers.reverse()\n",
        "print(\"Reversed list:\", numbers)\n"
      ],
      "metadata": {
        "id": "3Qbm7Qgral0t"
      },
      "execution_count": null,
      "outputs": []
    },
    {
      "cell_type": "markdown",
      "source": [
        "EXERCISE\n",
        "\n",
        "Here's an exercise to help you practice working with lists in Python:\n",
        "\n",
        "1. Create a list of the following numbers: 1, 2, 3, 4, 5.\n",
        "2. Add the number 6 to the end of the list.\n",
        "3. Remove the number 2 from the list.\n",
        "4. Sort the list in ascending order.\n",
        "5. Reverse the list.\n",
        "6. Print the length of the list.\n",
        "7. Print the third item in the list.\n",
        "Here's one way to solve the exercise in Python code:"
      ],
      "metadata": {
        "id": "35s7FV4CbpA_"
      }
    },
    {
      "cell_type": "code",
      "source": [
        "# Initialize the list\n",
        "numbers = [1, 2, 3, 4, 5]\n",
        "\n",
        "# Add the number 6 to the end of the list\n",
        "numbers.append(6)\n",
        "\n",
        "# Remove the number 2 from the list\n",
        "numbers.remove(2)\n",
        "\n",
        "# Sort the list in ascending order\n",
        "numbers.sort()\n",
        "\n",
        "# Reverse the list\n",
        "numbers.reverse()\n",
        "\n",
        "# Print the length of the list\n",
        "print(\"The length of the list is:\", len(numbers))\n",
        "\n",
        "# Print the third item in the list\n",
        "print(\"The third item in the list is:\", numbers[2])\n"
      ],
      "metadata": {
        "id": "bayjdM66b8u6"
      },
      "execution_count": null,
      "outputs": []
    },
    {
      "cell_type": "markdown",
      "source": [
        "# Tuple: Collection of Items, where items are ordered, immuteable and allow duplicates"
      ],
      "metadata": {
        "id": "ocG4Y11tmWHM"
      }
    },
    {
      "cell_type": "code",
      "source": [
        "t1=('Apple','Banana','Cherry')\n",
        "print(t1)\n",
        "print(type(t1))\n",
        "\n",
        "t2='Apple','Banana','Cherry'\n",
        "print(t2)\n",
        "print(type(t2))\n",
        "\n",
        "#single value tuple must end with a comma seperator\n",
        "t3 = ('Hello')\n",
        "print(t3)\n",
        "print(type(t3))\n",
        "\n",
        "t4 = ('Hello',)\n",
        "#t4 = 'Hello',\n",
        "print(t4)\n",
        "print(type(t4))\n",
        "\n",
        "t5 = tuple(range(1, 10, 2))\n",
        "print(t5)\n",
        "print(type(t5))\n",
        "\n",
        "l1=[1,2,3]\n",
        "t_l1=tuple(l1)\n",
        "print(t_l1)\n"
      ],
      "metadata": {
        "colab": {
          "base_uri": "https://localhost:8080/"
        },
        "id": "hyM4ybGQj6Rw",
        "outputId": "5d8fe7f6-b86a-4909-ad84-1c4172ff6b03"
      },
      "execution_count": null,
      "outputs": [
        {
          "output_type": "stream",
          "name": "stdout",
          "text": [
            "('Apple', 'Banana', 'Cherry')\n",
            "<class 'tuple'>\n",
            "('Apple', 'Banana', 'Cherry')\n",
            "<class 'tuple'>\n",
            "Hello\n",
            "<class 'str'>\n",
            "('Hello',)\n",
            "<class 'tuple'>\n",
            "(1, 3, 5, 7, 9)\n",
            "<class 'tuple'>\n",
            "(1, 2, 3)\n"
          ]
        }
      ]
    },
    {
      "cell_type": "code",
      "source": [
        "#ordered\n",
        "print(t1[2])\n",
        "print(t1[:2])\n",
        "print(t1[::-1])"
      ],
      "metadata": {
        "colab": {
          "base_uri": "https://localhost:8080/"
        },
        "id": "QbSJaPPfmrkw",
        "outputId": "a3ad9b94-c909-4577-fc4c-1a60e1949718"
      },
      "execution_count": null,
      "outputs": [
        {
          "output_type": "stream",
          "name": "stdout",
          "text": [
            "Cherry\n",
            "('Apple', 'Banana')\n",
            "('Cherry', 'Banana', 'Apple')\n"
          ]
        }
      ]
    },
    {
      "cell_type": "code",
      "source": [
        "#immuteable\n",
        "#t1[2] = 'Mango' --> this doesn't work as items in a Tuple cannot be changed\n",
        "#To change an item, convert tuple to list and then change\n",
        "l1=list(t1)\n",
        "print(l1)"
      ],
      "metadata": {
        "colab": {
          "base_uri": "https://localhost:8080/"
        },
        "id": "f5CrUy8RnC2d",
        "outputId": "6c1d2bd7-cd45-44d4-8a68-1cdaf8ad063b"
      },
      "execution_count": null,
      "outputs": [
        {
          "output_type": "stream",
          "name": "stdout",
          "text": [
            "['Apple', 'Banana', 'Cherry']\n"
          ]
        }
      ]
    },
    {
      "cell_type": "code",
      "source": [
        "l1[2]='Mango'\n",
        "print(l1)\n",
        "\n",
        "t1=tuple(l1)\n",
        "print(t1)"
      ],
      "metadata": {
        "colab": {
          "base_uri": "https://localhost:8080/"
        },
        "id": "QkLV8B34nmv2",
        "outputId": "a395e9d7-ec7b-4674-9250-7821ee32c743"
      },
      "execution_count": null,
      "outputs": [
        {
          "output_type": "stream",
          "name": "stdout",
          "text": [
            "['Apple', 'Banana', 'Mango']\n",
            "('Apple', 'Banana', 'Mango')\n"
          ]
        }
      ]
    },
    {
      "cell_type": "markdown",
      "source": [
        "Tuple Methods"
      ],
      "metadata": {
        "id": "gTWWXEF3n2LC"
      }
    },
    {
      "cell_type": "code",
      "source": [
        "#There are no Tuple methods as Items in a Tuple are immuteable, so convert them to List and use List methods\n",
        "l1=list(t1)\n",
        "l1.append('Mango')\n",
        "l1.sort()\n",
        "print(l1)"
      ],
      "metadata": {
        "colab": {
          "base_uri": "https://localhost:8080/"
        },
        "id": "O1P3UNVXn4Sn",
        "outputId": "3c39357d-f7ec-4360-bd28-388b76a6fcb9"
      },
      "execution_count": null,
      "outputs": [
        {
          "output_type": "stream",
          "name": "stdout",
          "text": [
            "['Apple', 'Banana', 'Mango', 'Mango']\n"
          ]
        }
      ]
    },
    {
      "cell_type": "markdown",
      "source": [
        "# Set: Items in a Set are Unordered, unchangeable and don't allow duplicates\n",
        "\n",
        "Note: Set is 10 times faster than List and Tuple as it's Unordered"
      ],
      "metadata": {
        "id": "-F2cCcYrogdp"
      }
    },
    {
      "cell_type": "code",
      "source": [
        "#unordered: everytime program executes, the order changes\n",
        "s1 = {'a','b','c','d'}\n",
        "print(s1)"
      ],
      "metadata": {
        "colab": {
          "base_uri": "https://localhost:8080/"
        },
        "id": "HbPIGi3eotUE",
        "outputId": "c2cab755-7888-4eaf-be89-a6b127e19346"
      },
      "execution_count": null,
      "outputs": [
        {
          "output_type": "stream",
          "name": "stdout",
          "text": [
            "{'b', 'c', 'd', 'a'}\n"
          ]
        }
      ]
    },
    {
      "cell_type": "code",
      "source": [
        "#Accessing an item is Sets: use loops\n",
        "s1 = {'a','b','c','d'}\n",
        "for i in s1:\n",
        "  if i=='d' :\n",
        "    print(i)"
      ],
      "metadata": {
        "colab": {
          "base_uri": "https://localhost:8080/"
        },
        "id": "2nNvZ09IpCW_",
        "outputId": "b1e4f0a9-5cb6-4e1b-d421-f3947629d5e4"
      },
      "execution_count": null,
      "outputs": [
        {
          "output_type": "stream",
          "name": "stdout",
          "text": [
            "d\n"
          ]
        }
      ]
    },
    {
      "cell_type": "code",
      "source": [
        "#convert SET to a LIST\n",
        "l1 = list(s1)\n",
        "print(l1)"
      ],
      "metadata": {
        "colab": {
          "base_uri": "https://localhost:8080/"
        },
        "id": "xR0uEXzW37Rf",
        "outputId": "ddb7a2ea-eb57-40ef-a555-bb19a11742de"
      },
      "execution_count": null,
      "outputs": [
        {
          "output_type": "stream",
          "name": "stdout",
          "text": [
            "['c', 'd', 'b', 'a']\n"
          ]
        }
      ]
    },
    {
      "cell_type": "markdown",
      "source": [
        "Set methods"
      ],
      "metadata": {
        "id": "DhCijy3urmDw"
      }
    },
    {
      "cell_type": "code",
      "source": [
        "#Unchangeable: Items cannot be changed or replaced, but new items can be added and removed\n",
        "s1 = {'a','b','c','d'}\n",
        "s1.add('e') #item can get added to any place as there is no order\n",
        "print(s1)"
      ],
      "metadata": {
        "colab": {
          "base_uri": "https://localhost:8080/"
        },
        "id": "E9dIPiUopr68",
        "outputId": "9b29c71f-1ae9-4933-b27b-25dd9b9d3c9b"
      },
      "execution_count": null,
      "outputs": [
        {
          "output_type": "stream",
          "name": "stdout",
          "text": [
            "{'d', 'b', 'a', 'e', 'c'}\n"
          ]
        }
      ]
    },
    {
      "cell_type": "code",
      "source": [
        "s1 = {'a','b','c','d'}\n",
        "s2={1,2,3}\n",
        "s1.update(s2) #same as Append in Lists\n",
        "print(s1)\n",
        "\n",
        "#List or Tuple can also be added to a Set\n",
        "l1=[1,2,3]\n",
        "s1={'a','b','c'}\n",
        "s1.update(l1)\n",
        "print(s1)\n",
        "\n",
        "#Remove\n",
        "s1={'a','b','c'}\n",
        "s1.remove('a')\n",
        "print(s1)\n",
        "\n",
        "#Discard: this will not throw an error if the item we try to remove is not in the Set\n",
        "s1={'a','b','c'}\n",
        "s1.discard('a')\n",
        "print(s1)\n",
        "\n",
        "#Clear and Delete\n",
        "s1.clear()\n",
        "print(s1)\n",
        "\n",
        "del s1"
      ],
      "metadata": {
        "colab": {
          "base_uri": "https://localhost:8080/"
        },
        "id": "43CIfkUdp-S5",
        "outputId": "e16b1158-9a47-4d82-cad2-0cf3c0b8945d"
      },
      "execution_count": null,
      "outputs": [
        {
          "output_type": "stream",
          "name": "stdout",
          "text": [
            "{1, 2, 3, 'd', 'b', 'c', 'a'}\n",
            "{1, 2, 3, 'b', 'a', 'c'}\n",
            "{'b', 'c'}\n",
            "{'b', 'c'}\n",
            "set()\n"
          ]
        }
      ]
    },
    {
      "cell_type": "markdown",
      "source": [
        "Set Operations: Union, Intersection, Symmetric difference"
      ],
      "metadata": {
        "id": "9HUQM3BGtoGx"
      }
    },
    {
      "cell_type": "code",
      "source": [
        "s1 = {'a','b','c','d'}\n",
        "s2 = {'c','d','e','f'}\n",
        "\n",
        "#Union\n",
        "s3=s1.union(s2)\n",
        "print(s3)\n",
        "\n",
        "#Intersection\n",
        "s4=s1.intersection(s2)\n",
        "print(s4)\n",
        "\n",
        "#Symmetric difference\n",
        "s5=s1.symmetric_difference(s2)\n",
        "print(s5)\n",
        "\n",
        "s6 = s1 - s2\n",
        "print(s6)\n",
        "\n",
        "s7 = s2 - s1\n",
        "print(s7)"
      ],
      "metadata": {
        "colab": {
          "base_uri": "https://localhost:8080/"
        },
        "id": "dHsW_a11r2EQ",
        "outputId": "1e6b753b-baf6-4452-d8a0-a02b083dd99a"
      },
      "execution_count": null,
      "outputs": [
        {
          "output_type": "stream",
          "name": "stdout",
          "text": [
            "{'f', 'd', 'b', 'a', 'e', 'c'}\n",
            "{'c', 'd'}\n",
            "{'f', 'b', 'a', 'e'}\n",
            "{'a', 'b'}\n",
            "{'f', 'e'}\n"
          ]
        }
      ]
    },
    {
      "cell_type": "code",
      "source": [
        "#Program to find total time wasted purposefuly by Internship candidates\n",
        "break_end_time = '11:15'\n",
        "actual_break_end_time = '11:35'\n",
        "total_break_time = 15 #in_mins\n",
        "\n",
        "break_end_time_sep = break_end_time.split(sep=':')\n",
        "actual_break_end_time_sep = actual_break_end_time.split(sep=':')\n",
        "\n",
        "diff_hrs = int(actual_break_end_time_sep[0])-int(break_end_time_sep[0])\n",
        "diff_mins = int(actual_break_end_time_sep[1])-int(break_end_time_sep[1])\n",
        "\n",
        "exceeded_time = diff_hrs*60+diff_mins #in_mins\n",
        "print('Exceeded time in %= {exceeded_time} in mins')\n",
        " \n",
        "\n",
        "print(str(diff_hrs)+ 'hrs : '+ str(diff_mins) + 'mins')\n",
        "\n",
        "exceeded_time_in_perc = (100*exceeded_time) / (total_break_time)\n",
        "print(f'exceed_time: {exceeded_time_in_perc} %')\n",
        "\n",
        "print(f'Exceeded time for 15 days in hrs: {exceeded_time*15*2/60}')\n",
        "print(f'Exceeded time for 15 days in days: {exceeded_time*15*2/60/5}')\n",
        "\n",
        "print(f'Loss of Pay: {(exceeded_time*15*2/60/5)*1000}')"
      ],
      "metadata": {
        "colab": {
          "base_uri": "https://localhost:8080/"
        },
        "id": "t3lOLr2K6rff",
        "outputId": "ff533d87-0ff4-4fd6-9fa2-9145d3c80f20"
      },
      "execution_count": null,
      "outputs": [
        {
          "output_type": "stream",
          "name": "stdout",
          "text": [
            "Exceeded time in %= {exceeded_time} in mins\n",
            "0hrs : 20mins\n",
            "exceed_time: 133.33333333333334 %\n",
            "Exceeded time for 15 days in hrs: 10.0\n",
            "Exceeded time for 15 days in days: 2.0\n",
            "Loss of Pay: 2000.0\n"
          ]
        }
      ]
    },
    {
      "cell_type": "markdown",
      "source": [
        "# Dictionary: Ordered, changeable and don't allow duplicate keys.\n",
        "Items in a Dictionary are stored in Key:Value pair"
      ],
      "metadata": {
        "id": "KUlhUXdUvwqC"
      }
    },
    {
      "cell_type": "code",
      "source": [
        "d1 = {\n",
        "        'Name':'Vaishakh',\n",
        "        'LastName':'R',\n",
        "        'Age':28,\n",
        "        'Module':True\n",
        "}\n",
        "\n",
        "print(d1)\n",
        "print(type(d1))"
      ],
      "metadata": {
        "colab": {
          "base_uri": "https://localhost:8080/"
        },
        "id": "UK3VlOd1t_ja",
        "outputId": "fb141dfc-d88d-42d5-ef7d-fcdc1e282cea"
      },
      "execution_count": null,
      "outputs": [
        {
          "output_type": "stream",
          "name": "stdout",
          "text": [
            "{'Name': 'Python', 'LastName': 'Program', 'Age': 28, 'Module': True}\n",
            "<class 'dict'>\n"
          ]
        }
      ]
    },
    {
      "cell_type": "markdown",
      "source": [
        "Note: Items in a Dictionary cannot be accessed by Index values but by their Key"
      ],
      "metadata": {
        "id": "DvgC9tTvxNG9"
      }
    },
    {
      "cell_type": "code",
      "source": [
        "d1 = {\n",
        "        'Name':'Python',\n",
        "        'LastName':'Program',\n",
        "        'Age':28,\n",
        "        'Module':True\n",
        "}\n",
        "\n",
        "print(d1['Name'])"
      ],
      "metadata": {
        "colab": {
          "base_uri": "https://localhost:8080/"
        },
        "id": "pbdFm0hnwQuH",
        "outputId": "34399f3f-7fb1-4442-b610-bedfba6fd46b"
      },
      "execution_count": null,
      "outputs": [
        {
          "output_type": "stream",
          "name": "stdout",
          "text": [
            "Python\n"
          ]
        }
      ]
    },
    {
      "cell_type": "markdown",
      "source": [
        "Dictionary Methods"
      ],
      "metadata": {
        "id": "EXWDVJf2x46e"
      }
    },
    {
      "cell_type": "code",
      "source": [
        "#get('Key')\n",
        "print(d1.get('Name'))"
      ],
      "metadata": {
        "colab": {
          "base_uri": "https://localhost:8080/"
        },
        "id": "UUajcM8mxXSa",
        "outputId": "a49b834e-b715-4384-859e-831508e1d05a"
      },
      "execution_count": null,
      "outputs": [
        {
          "output_type": "stream",
          "name": "stdout",
          "text": [
            "Python\n"
          ]
        }
      ]
    },
    {
      "cell_type": "code",
      "source": [
        "#keys\n",
        "print(d1.keys())"
      ],
      "metadata": {
        "colab": {
          "base_uri": "https://localhost:8080/"
        },
        "id": "gFyl4h1LyEwT",
        "outputId": "4ea949a3-95f8-4eb7-96f3-7850ea7f791c"
      },
      "execution_count": null,
      "outputs": [
        {
          "output_type": "stream",
          "name": "stdout",
          "text": [
            "dict_keys(['Name', 'LastName', 'Age', 'Module'])\n"
          ]
        }
      ]
    },
    {
      "cell_type": "code",
      "source": [
        "#values\n",
        "print(d1.values())"
      ],
      "metadata": {
        "colab": {
          "base_uri": "https://localhost:8080/"
        },
        "id": "X58qGP1ryJ4W",
        "outputId": "de185af1-9a7e-422c-e731-ef8f29652c81"
      },
      "execution_count": null,
      "outputs": [
        {
          "output_type": "stream",
          "name": "stdout",
          "text": [
            "dict_values(['Python', 'Program', 28, True])\n"
          ]
        }
      ]
    },
    {
      "cell_type": "code",
      "source": [
        "#items\n",
        "print(d1.items())"
      ],
      "metadata": {
        "colab": {
          "base_uri": "https://localhost:8080/"
        },
        "id": "nBkW1ygyyOmS",
        "outputId": "8d5226fa-4f29-4cee-9e19-7003b6fc2a14"
      },
      "execution_count": null,
      "outputs": [
        {
          "output_type": "stream",
          "name": "stdout",
          "text": [
            "dict_items([('Name', 'Python'), ('LastName', 'Program'), ('Age', 28), ('Module', True)])\n"
          ]
        }
      ]
    },
    {
      "cell_type": "code",
      "source": [
        "#Changing value of a Key\n",
        "d1 = {\n",
        "        'Name':'Python',\n",
        "        'LastName':'Program',\n",
        "        'Age':28,\n",
        "        'Module':True\n",
        "}\n",
        "\n",
        "print(d1['LastName'])\n",
        "d1['LastName'] = 'IDE'\n",
        "print(d1['LastName'])\n",
        "\n",
        "print(d1['Age'])\n",
        "d1.update({'Age':40})\n",
        "print(d1['Age'])"
      ],
      "metadata": {
        "colab": {
          "base_uri": "https://localhost:8080/"
        },
        "id": "sJ2vC9UKyS-f",
        "outputId": "75420a88-f068-4ba5-86e4-046d0987fd7c"
      },
      "execution_count": null,
      "outputs": [
        {
          "output_type": "stream",
          "name": "stdout",
          "text": [
            "Program\n",
            "IDE\n",
            "28\n",
            "40\n"
          ]
        }
      ]
    },
    {
      "cell_type": "code",
      "source": [
        "#Accessing list value of a key\n",
        "d1 = {\n",
        "      'Key1' : ['a','b','c'],\n",
        "      'Key2' : 'x'\n",
        "}\n",
        "\n",
        "print(d1['Key1'][0])"
      ],
      "metadata": {
        "colab": {
          "base_uri": "https://localhost:8080/"
        },
        "id": "I6sjFqdZynzd",
        "outputId": "f175f833-90f0-45e9-b297-a980ee217a5a"
      },
      "execution_count": null,
      "outputs": [
        {
          "output_type": "stream",
          "name": "stdout",
          "text": [
            "a\n"
          ]
        }
      ]
    },
    {
      "cell_type": "code",
      "source": [
        "#Append a value for a Key\n",
        "d1 = {\n",
        "      'Key1' : ['a','b','c'],\n",
        "      'Key2' : 'x'\n",
        "}\n",
        "\n",
        "d1['Key1'].append('d')\n",
        "print(d1)"
      ],
      "metadata": {
        "colab": {
          "base_uri": "https://localhost:8080/"
        },
        "id": "P62zPUWJz7fI",
        "outputId": "cae02ef1-55f5-469b-dbf7-f7f13b9ae332"
      },
      "execution_count": null,
      "outputs": [
        {
          "output_type": "stream",
          "name": "stdout",
          "text": [
            "{'Key1': ['a', 'b', 'c', 'd'], 'Key2': 'x'}\n"
          ]
        }
      ]
    },
    {
      "cell_type": "code",
      "source": [
        "#Update\n",
        "d1 = {\n",
        "      'Key1' : ['a','b','c'],\n",
        "      'Key2' : 'x'\n",
        "}\n",
        "\n",
        "d1.update({'Key2':'y'})\n",
        "print(d1)"
      ],
      "metadata": {
        "colab": {
          "base_uri": "https://localhost:8080/"
        },
        "id": "yT7dIk9k0Vhh",
        "outputId": "8dde4434-d842-4726-cf69-d318481c443a"
      },
      "execution_count": null,
      "outputs": [
        {
          "output_type": "stream",
          "name": "stdout",
          "text": [
            "{'Key1': ['a', 'b', 'c'], 'Key2': 'y'}\n"
          ]
        }
      ]
    },
    {
      "cell_type": "code",
      "source": [
        "#Pop\n",
        "d1 = {\n",
        "      'Key1' : ['a','b','c'],\n",
        "      'Key2' : 'x'\n",
        "}\n",
        "\n",
        "d1.pop('Key2')\n",
        "print(d1)"
      ],
      "metadata": {
        "colab": {
          "base_uri": "https://localhost:8080/"
        },
        "id": "NDuitpis0l_p",
        "outputId": "49d52d74-9ecc-4c34-aad1-9ff2b47db0ba"
      },
      "execution_count": null,
      "outputs": [
        {
          "output_type": "stream",
          "name": "stdout",
          "text": [
            "{'Key1': ['a', 'b', 'c']}\n"
          ]
        }
      ]
    },
    {
      "cell_type": "code",
      "source": [
        "#clear\n",
        "#Pop\n",
        "d1 = {\n",
        "      'Key1' : ['a','b','c'],\n",
        "      'Key2' : 'x'\n",
        "}\n",
        "\n",
        "d1.clear()\n",
        "print(d1)"
      ],
      "metadata": {
        "colab": {
          "base_uri": "https://localhost:8080/"
        },
        "id": "dK9yEZGi0w5A",
        "outputId": "f35b5831-3b31-47fd-9c4a-8456db3de8df"
      },
      "execution_count": null,
      "outputs": [
        {
          "output_type": "stream",
          "name": "stdout",
          "text": [
            "{}\n"
          ]
        }
      ]
    },
    {
      "cell_type": "code",
      "source": [
        "#Delete\n",
        "#Pop\n",
        "d1 = {\n",
        "      'Key1' : ['a','b','c'],\n",
        "      'Key2' : 'x'\n",
        "}\n",
        "\n",
        "del d1['Key1']\n",
        "print(d1)\n",
        "\n",
        "del d1"
      ],
      "metadata": {
        "colab": {
          "base_uri": "https://localhost:8080/"
        },
        "id": "goCjdCA21Nll",
        "outputId": "66f5ae9a-8adf-48e5-803a-ed6ac1cc3e46"
      },
      "execution_count": null,
      "outputs": [
        {
          "output_type": "stream",
          "name": "stdout",
          "text": [
            "{'Key2': 'x'}\n"
          ]
        }
      ]
    },
    {
      "cell_type": "code",
      "source": [
        "#use a for loop to iterate over the keys or values of a dictionary in Python\n",
        "\n",
        "#Iterating over the keys\n",
        "d1 = {\n",
        "        'Name':'Python',\n",
        "        'LastName':'Program',\n",
        "        'Age':28,\n",
        "        'Module':True\n",
        "}\n",
        "\n",
        "for i in d1:\n",
        "  print(i)\n"
      ],
      "metadata": {
        "colab": {
          "base_uri": "https://localhost:8080/"
        },
        "id": "GYLb5wL25Sun",
        "outputId": "0c3e5cda-a582-4b84-9c44-b331cfc7022e"
      },
      "execution_count": null,
      "outputs": [
        {
          "output_type": "stream",
          "name": "stdout",
          "text": [
            "Name\n",
            "LastName\n",
            "Age\n",
            "Module\n"
          ]
        }
      ]
    },
    {
      "cell_type": "code",
      "source": [
        "#Iterating over the values\n",
        "d1 = {\n",
        "        'Name':'Python',\n",
        "        'LastName':'Program',\n",
        "        'Age':28,\n",
        "        'Module':True\n",
        "}\n",
        "\n",
        "for i in d1.values():\n",
        "  print(i)\n"
      ],
      "metadata": {
        "colab": {
          "base_uri": "https://localhost:8080/"
        },
        "id": "tPmeoYqO5jo4",
        "outputId": "8d5eaf47-b0c7-4fc5-f3d4-c2b0f1d6f104"
      },
      "execution_count": null,
      "outputs": [
        {
          "output_type": "stream",
          "name": "stdout",
          "text": [
            "Python\n",
            "Program\n",
            "28\n",
            "True\n"
          ]
        }
      ]
    },
    {
      "cell_type": "code",
      "source": [
        "#Iterating over both the keys and values:\n",
        "d1 = {\n",
        "        'Name':'Python',\n",
        "        'LastName':'Program',\n",
        "        'Age':28,\n",
        "        'Module':True\n",
        "}\n",
        "\n",
        "for i,j in d1.items():\n",
        "  print(i, j)\n",
        "  #print(f'{i}={j}')\n"
      ],
      "metadata": {
        "colab": {
          "base_uri": "https://localhost:8080/"
        },
        "id": "J73mmF5Z5vvy",
        "outputId": "4b48ea6e-63d0-4ffd-bf63-adb32ce6e47c"
      },
      "execution_count": null,
      "outputs": [
        {
          "output_type": "stream",
          "name": "stdout",
          "text": [
            "Name Python\n",
            "Name=Python\n",
            "LastName Program\n",
            "LastName=Program\n",
            "Age 28\n",
            "Age=28\n",
            "Module True\n",
            "Module=True\n"
          ]
        }
      ]
    },
    {
      "cell_type": "markdown",
      "source": [
        "# Function: User defined block of code which runs when called\n",
        "\n",
        "A Function takes parameter and arguments"
      ],
      "metadata": {
        "id": "4EgyUtTn1trD"
      }
    },
    {
      "cell_type": "markdown",
      "source": [
        "SYNTAX:\n",
        "        def function_name():\n",
        "          code\n",
        "            .\n",
        "            .\n",
        "            ."
      ],
      "metadata": {
        "id": "HX0yFwtK1zJI"
      }
    },
    {
      "cell_type": "code",
      "source": [
        "def f1(name) : #here name is Parameter/Variable\n",
        "    print(f'Hello {name}')\n",
        "\n",
        "f1('Python') #here Python is an Argument/Value"
      ],
      "metadata": {
        "colab": {
          "base_uri": "https://localhost:8080/"
        },
        "id": "D8xr8KMe1wHJ",
        "outputId": "75ac000c-7391-43d0-fc06-aa190546b6d6"
      },
      "execution_count": null,
      "outputs": [
        {
          "output_type": "stream",
          "name": "stdout",
          "text": [
            "Hello Python\n"
          ]
        }
      ]
    },
    {
      "cell_type": "code",
      "source": [
        "#Default Parameter\n",
        "def f1(name = 'User') : #print User when no argument is passed\n",
        "  print(f'Hello {name}')\n",
        "\n",
        "f1('Python')\n",
        "#f1(input('Enter Name: '))\n",
        "f1()"
      ],
      "metadata": {
        "colab": {
          "base_uri": "https://localhost:8080/"
        },
        "id": "5aJ4rNpl2Ych",
        "outputId": "86dfd669-a636-4c50-b65a-c7b78264b5ab"
      },
      "execution_count": null,
      "outputs": [
        {
          "output_type": "stream",
          "name": "stdout",
          "text": [
            "Hello Python\n",
            "Enter Name: java\n",
            "Hello java\n",
            "Hello User\n"
          ]
        }
      ]
    },
    {
      "cell_type": "code",
      "source": [
        "#If number of Arguments are not known\n",
        "def f1(*name) :\n",
        "  print(f'Hello {name}')\n",
        "\n",
        "f1('Python','Java')\n"
      ],
      "metadata": {
        "colab": {
          "base_uri": "https://localhost:8080/"
        },
        "id": "2lvyHnkx2oJy",
        "outputId": "7fd95c6d-b22c-4bba-ff5a-1b297ad307d4"
      },
      "execution_count": null,
      "outputs": [
        {
          "output_type": "stream",
          "name": "stdout",
          "text": [
            "Hello ('Python', 'Java')\n"
          ]
        }
      ]
    },
    {
      "cell_type": "code",
      "source": [
        "#Access individual Arguments when their count is unknown\n",
        "#function with an arbitrary number of arguments\n",
        "#The *args syntax allows you to pass an arbitrary number of arguments to a function, \n",
        "#and the arguments are passed as a tuple\n",
        "def f1(*name) :\n",
        "  for x in name :\n",
        "    print(f'Hello {x}')\n",
        "\n",
        "f1('Python','Java')"
      ],
      "metadata": {
        "colab": {
          "base_uri": "https://localhost:8080/"
        },
        "id": "ldQGSiSy29VD",
        "outputId": "620197bf-6074-426d-d0a5-964c7760a525"
      },
      "execution_count": null,
      "outputs": [
        {
          "output_type": "stream",
          "name": "stdout",
          "text": [
            "Hello Python\n",
            "Hello Java\n"
          ]
        }
      ]
    },
    {
      "cell_type": "code",
      "source": [
        "#If number of Parameters is not known\n",
        "#function with an arbitrary number of keyword arguments\n",
        "#**kwargs syntax allows you to pass an arbitrary number of keyword arguments to a function, \n",
        "#and the arguments are passed as a dictionary. \n",
        "def f1(**name) :\n",
        "  for x,y in name.items() :\n",
        "    print(f'{x}={y}')\n",
        "\n",
        "f1(FirstName='Python',LastName='Java')"
      ],
      "metadata": {
        "colab": {
          "base_uri": "https://localhost:8080/"
        },
        "id": "zL_aKJ-3CoX1",
        "outputId": "a01930b8-de85-421a-f533-0abdf2c914d4"
      },
      "execution_count": null,
      "outputs": [
        {
          "output_type": "stream",
          "name": "stdout",
          "text": [
            "FirstName=Python\n",
            "LastName=Java\n"
          ]
        }
      ]
    },
    {
      "cell_type": "code",
      "source": [
        "#Function with a return value\n",
        "def f1(x) :\n",
        "  return x;\n",
        "\n",
        "print(f1(10))"
      ],
      "metadata": {
        "colab": {
          "base_uri": "https://localhost:8080/"
        },
        "id": "EUHAGmINDAs9",
        "outputId": "5e446d49-49c9-4894-d92a-cc742375e315"
      },
      "execution_count": null,
      "outputs": [
        {
          "output_type": "stream",
          "name": "stdout",
          "text": [
            "10\n"
          ]
        }
      ]
    },
    {
      "cell_type": "code",
      "source": [
        "#@title Write a user defined function to find the median of a list of numbers without using any built-in functions\n",
        "\n",
        "def find_median(numbers):\n",
        "    # sort the list of numbers\n",
        "    numbers.sort()\n",
        "    \n",
        "    # find the length of the list\n",
        "    length = len(numbers)\n",
        "    \n",
        "    # check if the list is of even length\n",
        "    if length % 2 == 0:\n",
        "        # if the list is of even length, return the average of the two middle elements\n",
        "        return (numbers[length // 2 - 1] + numbers[length // 2]) / 2\n",
        "    else:\n",
        "        # if the list is of odd length, return the middle element\n",
        "        return numbers[length // 2]\n",
        "\n",
        "\n",
        "# create a list of numbers\n",
        "numbers = [1, 2, 3, 4, 5, 6, 7, 8, 9, 10]\n",
        "\n",
        "# find the median of the list of numbers\n",
        "median = find_median(numbers)\n",
        "print(\"Median: \", median)\n",
        "\n"
      ],
      "metadata": {
        "colab": {
          "base_uri": "https://localhost:8080/"
        },
        "id": "dCWjVyCWJ7Kk",
        "outputId": "f4dec4eb-993e-447f-803f-8530fcb31e84"
      },
      "execution_count": null,
      "outputs": [
        {
          "output_type": "stream",
          "name": "stdout",
          "text": [
            "Median:  5.5\n"
          ]
        }
      ]
    },
    {
      "cell_type": "code",
      "source": [
        "#@title Write a function which takes your weight on Earth and returns the weight on Moon and Mars\n",
        "\n",
        "def find_weight(weight):\n",
        "  mass = weight/9.81 #in kg\n",
        "\n",
        "  weight_moon = mass * 1.621\n",
        "  weight_mars = mass * 3.711\n",
        "\n",
        "  return weight_moon, weight_mars\n",
        "\n",
        "weight = float(input('Enter your weight: '))\n",
        "\n",
        "moon_weight, mars_weight = find_weight(weight)\n",
        "print(weight, moon_weight, mars_weight)\n"
      ],
      "metadata": {
        "colab": {
          "base_uri": "https://localhost:8080/"
        },
        "id": "ToD-bQWKKPQz",
        "outputId": "2facf1eb-512e-4294-c25f-8a467725fe4a"
      },
      "execution_count": null,
      "outputs": [
        {
          "output_type": "stream",
          "name": "stdout",
          "text": [
            "Enter your weight: 80\n",
            "80.0 13.219164118246686 30.26299694189602\n"
          ]
        }
      ]
    },
    {
      "cell_type": "code",
      "source": [
        "#@title Write a function which takes your height in cms and converts it to inches\n"
      ],
      "metadata": {
        "id": "_5VFSRJzua0y"
      },
      "execution_count": null,
      "outputs": []
    },
    {
      "cell_type": "code",
      "source": [
        "#@title Write a function that takes in a string and returns the number of vowels in it\n",
        "\n",
        "def count_vowels(string):\n",
        "    vowels = \"aeiouAEIOU\"\n",
        "    count = 0\n",
        "    for char in string:\n",
        "        if char in vowels:\n",
        "            count += 1\n",
        "    return count\n",
        "\n",
        "num_vowels = count_vowels('Alpha')\n",
        "print(num_vowels)\n",
        "\n"
      ],
      "metadata": {
        "colab": {
          "base_uri": "https://localhost:8080/"
        },
        "id": "fefT1okFwgLe",
        "outputId": "21a1e031-6c7f-4bf2-a96d-3ca86350a2db"
      },
      "execution_count": null,
      "outputs": [
        {
          "output_type": "stream",
          "name": "stdout",
          "text": [
            "2\n"
          ]
        }
      ]
    },
    {
      "cell_type": "code",
      "source": [
        "#Write a f1 function"
      ],
      "metadata": {
        "id": "MBWte72UDK5s"
      },
      "execution_count": null,
      "outputs": []
    }
  ]
}