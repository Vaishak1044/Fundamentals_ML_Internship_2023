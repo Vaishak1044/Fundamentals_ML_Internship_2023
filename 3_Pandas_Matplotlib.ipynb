{
  "nbformat": 4,
  "nbformat_minor": 0,
  "metadata": {
    "colab": {
      "provenance": [],
      "authorship_tag": "ABX9TyO62OKUJyNNeo6xa0lgk8s9",
      "include_colab_link": true
    },
    "kernelspec": {
      "name": "python3",
      "display_name": "Python 3"
    },
    "language_info": {
      "name": "python"
    }
  },
  "cells": [
    {
      "cell_type": "markdown",
      "metadata": {
        "id": "view-in-github",
        "colab_type": "text"
      },
      "source": [
        "<a href=\"https://colab.research.google.com/github/Vaishak1044/Fundamentals_ML_Internship_2023/blob/main/3_Pandas_Matplotlib.ipynb\" target=\"_parent\"><img src=\"https://colab.research.google.com/assets/colab-badge.svg\" alt=\"Open In Colab\"/></a>"
      ]
    },
    {
      "cell_type": "markdown",
      "source": [
        "# PANDAS\n",
        "\n",
        "Pandas is a Python library used for working with data sets.\n",
        "\n",
        "It has functions for analyzing, cleaning, exploring, and manipulating data.\n",
        "\n",
        "this Colab provides a very quick introduction to the parts of DataFrames required to do the other Colab exercises in Machine Learning Crash Course."
      ],
      "metadata": {
        "id": "r0aSwkHXBhNt"
      }
    },
    {
      "cell_type": "markdown",
      "source": [
        "Import Pandas"
      ],
      "metadata": {
        "id": "fUlNTMfpBom6"
      }
    },
    {
      "cell_type": "code",
      "execution_count": 3,
      "metadata": {
        "id": "8bk-BAr2Al1J"
      },
      "outputs": [],
      "source": [
        "import numpy as np\n",
        "import pandas as pd"
      ]
    },
    {
      "cell_type": "markdown",
      "metadata": {
        "id": "RutIK84wIp1S"
      },
      "source": [
        "## Creating a DataFrame\n",
        "\n",
        "A Pandas DataFrame is a 2 dimensional data structure, like a 2 dimensional array, or a table with rows and columns.\n",
        "\n",
        "The following code cell creates a simple DataFrame containing 10 cells organized as follows:\n",
        "\n",
        "  * 5 rows\n",
        "  * 2 columns, one named `temperature` and the other named `activity`\n",
        "\n",
        "The following code cell instantiates a `pd.DataFrame` class to generate a DataFrame. The class takes two arguments:\n",
        "\n",
        "  * The first argument provides the data to populate the 10 cells. The code cell calls `np.array` to generate the 5x2 NumPy array.\n",
        "  * The second argument identifies the names of the two columns."
      ]
    },
    {
      "cell_type": "code",
      "metadata": {
        "id": "FNZsPOgSD4F2",
        "colab": {
          "base_uri": "https://localhost:8080/"
        },
        "outputId": "a615b1b6-af97-4053-a334-236790a278e4"
      },
      "source": [
        "# Create and populate a 5x2 NumPy array.\n",
        "my_data = np.array([[0, 3], [10, 7], [20, 9], [30, 14], [40, 15]])\n",
        "print(my_data.shape)\n",
        "\n",
        "# Create a Python list that holds the names of the two columns.\n",
        "my_column_names = ['temperature', 'activity']\n",
        "\n",
        "# Create a DataFrame.\n",
        "my_dataframe = pd.DataFrame(data=my_data, columns=my_column_names)\n",
        "\n",
        "# Print the entire DataFrame\n",
        "print(my_dataframe)"
      ],
      "execution_count": null,
      "outputs": [
        {
          "output_type": "stream",
          "name": "stdout",
          "text": [
            "(5, 2)\n",
            "   temperature  activity\n",
            "0            0         3\n",
            "1           10         7\n",
            "2           20         9\n",
            "3           30        14\n",
            "4           40        15\n"
          ]
        }
      ]
    },
    {
      "cell_type": "markdown",
      "metadata": {
        "id": "NJ-I78_7OFVs"
      },
      "source": [
        "## Adding a new column to a DataFrame\n",
        "\n",
        "You may add a new column to an existing pandas DataFrame just by assigning values to a new column name. For example, the following code creates a third column named `adjusted` in `my_dataframe`: "
      ]
    },
    {
      "cell_type": "code",
      "metadata": {
        "id": "JEBZyMdEOngx",
        "colab": {
          "base_uri": "https://localhost:8080/"
        },
        "outputId": "e7da6560-0db1-4a89-fbaa-04adb4cc6063"
      },
      "source": [
        "# Create a new column named adjusted.\n",
        "my_dataframe[\"adjusted\"] = my_dataframe[\"activity\"] + 2\n",
        "\n",
        "# Print the entire DataFrame\n",
        "print(my_dataframe)"
      ],
      "execution_count": null,
      "outputs": [
        {
          "output_type": "stream",
          "name": "stdout",
          "text": [
            "   temperature  activity  adjusted\n",
            "0            0         3         5\n",
            "1           10         7         9\n",
            "2           20         9        11\n",
            "3           30        14        16\n",
            "4           40        15        17\n"
          ]
        }
      ]
    },
    {
      "cell_type": "markdown",
      "metadata": {
        "id": "RJ2aziCR5th2"
      },
      "source": [
        "## Specifying a subset of a DataFrame\n",
        "\n",
        "Pandas provide multiples ways to isolate specific rows, columns, slices or cells in a DataFrame. "
      ]
    },
    {
      "cell_type": "code",
      "metadata": {
        "id": "RIO91Fu65s6k",
        "colab": {
          "base_uri": "https://localhost:8080/"
        },
        "outputId": "fe26687b-cead-4143-f81e-0ba9234ef244"
      },
      "source": [
        "print(\"Rows #0, #1, and #2:\")\n",
        "print(my_dataframe.head(3), '\\n')\n",
        "\n",
        "print(\"Row #2:\")\n",
        "print(my_dataframe.iloc[[2]], '\\n')\n",
        "\n",
        "print(\"Rows #1, #2, and #3:\")\n",
        "print(my_dataframe[1:4], '\\n')\n",
        "\n",
        "print(\"Column 'temperature':\")\n",
        "print(my_dataframe['temperature'])\n",
        "\n",
        "print(\"Column 'activity', 'row3': \")\n",
        "print(my_dataframe['activity'][3])"
      ],
      "execution_count": null,
      "outputs": [
        {
          "output_type": "stream",
          "name": "stdout",
          "text": [
            "Rows #0, #1, and #2:\n",
            "   temperature  activity  adjusted\n",
            "0            0         3         5\n",
            "1           10         7         9\n",
            "2           20         9        11 \n",
            "\n",
            "Row #2:\n",
            "   temperature  activity  adjusted\n",
            "2           20         9        11 \n",
            "\n",
            "Rows #1, #2, and #3:\n",
            "   temperature  activity  adjusted\n",
            "1           10         7         9\n",
            "2           20         9        11\n",
            "3           30        14        16 \n",
            "\n",
            "Column 'temperature':\n",
            "0     0\n",
            "1    10\n",
            "2    20\n",
            "3    30\n",
            "4    40\n",
            "Name: temperature, dtype: int64\n",
            "Column 'activity, row3: \n",
            "14\n"
          ]
        }
      ]
    },
    {
      "cell_type": "markdown",
      "metadata": {
        "id": "_cL_NxAdZzdS"
      },
      "source": [
        "## Task 1: Create a DataFrame\n",
        "\n",
        "Do the following:\n",
        "\n",
        "  1. Create an 3x4 (3 rows x 4 columns) pandas DataFrame in which the columns are named `A`,  `B`, `C`, and `D`.  Populate each of the 12 cells in the DataFrame with a random integer between 0 and 100, inclusive.\n",
        "\n",
        "  2. Output the following:\n",
        "\n",
        "     * the entire DataFrame\n",
        "     * the value in the cell of row #1 of the `A` column\n",
        "\n",
        "  3. Create a fifth column named `E`, which is populated with the row-by-row sums of `C` and `D`.\n",
        "\n",
        "To complete this task, it helps to know the NumPy basics covered in the NumPy UltraQuick Tutorial. \n"
      ]
    },
    {
      "cell_type": "code",
      "source": [
        "data_array = np.random.randint(low=50, high=101, size=(3,4))\n",
        "df_column_names = ['A','B','C','D']\n",
        "df = pd.DataFrame(data=data_array, columns=df_column_names)\n",
        "#df = pd.DataFrame(data=data_array, columns=df_column_names, index=['row1','row2','row3']) #with index labels\n",
        "print(df)\n",
        "\n",
        "df[\"E\"] = df[\"C\"] + df[\"D\"]\n",
        "print(df)"
      ],
      "metadata": {
        "colab": {
          "base_uri": "https://localhost:8080/"
        },
        "id": "ZzQ7lCe8BspW",
        "outputId": "e813b59d-c95c-4853-a1bd-8113292600df"
      },
      "execution_count": null,
      "outputs": [
        {
          "output_type": "stream",
          "name": "stdout",
          "text": [
            "    A   B   C   D\n",
            "0  51  77  96  99\n",
            "1  67  68  55  50\n",
            "2  90  64  77  61\n",
            "    A   B   C   D    E\n",
            "0  51  77  96  99  195\n",
            "1  67  68  55  50  105\n",
            "2  90  64  77  61  138\n"
          ]
        }
      ]
    },
    {
      "cell_type": "code",
      "source": [
        "print(df['A'][1])"
      ],
      "metadata": {
        "colab": {
          "base_uri": "https://localhost:8080/"
        },
        "id": "4A_xRITGGST8",
        "outputId": "51992dee-f16e-4ccd-d745-d44e726233e2"
      },
      "execution_count": null,
      "outputs": [
        {
          "output_type": "stream",
          "name": "stdout",
          "text": [
            "88\n"
          ]
        }
      ]
    },
    {
      "cell_type": "markdown",
      "source": [
        "# Read from csv"
      ],
      "metadata": {
        "id": "hUDXupqCOYVT"
      }
    },
    {
      "cell_type": "code",
      "source": [
        "df = pd.read_csv(filepath_or_buffer=\"https://download.mlcc.google.com/mledu-datasets/california_housing_train.csv\")\n",
        "#print(df.to_string()) #this prints entire data frame\n",
        "print(df) # this prints first 5 rows and last 5 rows"
      ],
      "metadata": {
        "colab": {
          "base_uri": "https://localhost:8080/"
        },
        "id": "QfpGaBurHcaQ",
        "outputId": "b3892940-692a-4163-e943-0b94e93e49b8"
      },
      "execution_count": null,
      "outputs": [
        {
          "output_type": "stream",
          "name": "stdout",
          "text": [
            "       longitude  latitude  housing_median_age  total_rooms  total_bedrooms  \\\n",
            "0        -114.31     34.19                15.0       5612.0          1283.0   \n",
            "1        -114.47     34.40                19.0       7650.0          1901.0   \n",
            "2        -114.56     33.69                17.0        720.0           174.0   \n",
            "3        -114.57     33.64                14.0       1501.0           337.0   \n",
            "4        -114.57     33.57                20.0       1454.0           326.0   \n",
            "...          ...       ...                 ...          ...             ...   \n",
            "16995    -124.26     40.58                52.0       2217.0           394.0   \n",
            "16996    -124.27     40.69                36.0       2349.0           528.0   \n",
            "16997    -124.30     41.84                17.0       2677.0           531.0   \n",
            "16998    -124.30     41.80                19.0       2672.0           552.0   \n",
            "16999    -124.35     40.54                52.0       1820.0           300.0   \n",
            "\n",
            "       population  households  median_income  median_house_value  \n",
            "0          1015.0       472.0         1.4936             66900.0  \n",
            "1          1129.0       463.0         1.8200             80100.0  \n",
            "2           333.0       117.0         1.6509             85700.0  \n",
            "3           515.0       226.0         3.1917             73400.0  \n",
            "4           624.0       262.0         1.9250             65500.0  \n",
            "...           ...         ...            ...                 ...  \n",
            "16995       907.0       369.0         2.3571            111400.0  \n",
            "16996      1194.0       465.0         2.5179             79000.0  \n",
            "16997      1244.0       456.0         3.0313            103600.0  \n",
            "16998      1298.0       478.0         1.9797             85800.0  \n",
            "16999       806.0       270.0         3.0147             94600.0  \n",
            "\n",
            "[17000 rows x 9 columns]\n"
          ]
        }
      ]
    },
    {
      "cell_type": "markdown",
      "source": [
        "# Read from csv in local storage"
      ],
      "metadata": {
        "id": "7KylQAzReWlU"
      }
    },
    {
      "cell_type": "code",
      "source": [
        "df = pd.read_csv(\"/content/Pandas_Read_CSV_1.csv\")\n",
        "print(df)\n",
        "\n",
        "df[\"col4\"] = [1,2,3,4,5,6,7,8,9] \n",
        "print(df)"
      ],
      "metadata": {
        "colab": {
          "base_uri": "https://localhost:8080/"
        },
        "id": "qkFrUyrUebUo",
        "outputId": "512e09cc-976e-4284-b023-f42279a9b655"
      },
      "execution_count": null,
      "outputs": [
        {
          "output_type": "stream",
          "name": "stdout",
          "text": [
            "   col1  col2  col3\n",
            "0     1    -1     4\n",
            "1     2     0     5\n",
            "2     3     1     6\n",
            "3     4     2     7\n",
            "4     5     3     8\n",
            "5     6     4     9\n",
            "6     7     5    10\n",
            "7     8     6    11\n",
            "8     9     7    12\n",
            "   col1  col2  col3  col4\n",
            "0     1    -1     4     1\n",
            "1     2     0     5     2\n",
            "2     3     1     6     3\n",
            "3     4     2     7     4\n",
            "4     5     3     8     5\n",
            "5     6     4     9     6\n",
            "6     7     5    10     7\n",
            "7     8     6    11     8\n",
            "8     9     7    12     9\n"
          ]
        }
      ]
    },
    {
      "cell_type": "markdown",
      "source": [
        "# Viewing the Data\n",
        "\n",
        "The head() method returns the headers and a specified number of rows, starting from the top."
      ],
      "metadata": {
        "id": "TJH2cjpoQsdN"
      }
    },
    {
      "cell_type": "code",
      "source": [
        "df = pd.read_csv(filepath_or_buffer=\"https://download.mlcc.google.com/mledu-datasets/california_housing_train.csv\")\n",
        "\n",
        "print(df.head(10))\n",
        "#Note: if the number of rows is not specified, the head() method will return the top 5 rows."
      ],
      "metadata": {
        "colab": {
          "base_uri": "https://localhost:8080/"
        },
        "id": "I2pRSzLLPnzL",
        "outputId": "03e4a354-04bf-402d-faf4-39c20f116d0b"
      },
      "execution_count": null,
      "outputs": [
        {
          "output_type": "stream",
          "name": "stdout",
          "text": [
            "   longitude  latitude  housing_median_age  total_rooms  total_bedrooms  \\\n",
            "0    -114.31     34.19                15.0       5612.0          1283.0   \n",
            "1    -114.47     34.40                19.0       7650.0          1901.0   \n",
            "2    -114.56     33.69                17.0        720.0           174.0   \n",
            "3    -114.57     33.64                14.0       1501.0           337.0   \n",
            "4    -114.57     33.57                20.0       1454.0           326.0   \n",
            "5    -114.58     33.63                29.0       1387.0           236.0   \n",
            "6    -114.58     33.61                25.0       2907.0           680.0   \n",
            "7    -114.59     34.83                41.0        812.0           168.0   \n",
            "8    -114.59     33.61                34.0       4789.0          1175.0   \n",
            "9    -114.60     34.83                46.0       1497.0           309.0   \n",
            "\n",
            "   population  households  median_income  median_house_value  \n",
            "0      1015.0       472.0         1.4936             66900.0  \n",
            "1      1129.0       463.0         1.8200             80100.0  \n",
            "2       333.0       117.0         1.6509             85700.0  \n",
            "3       515.0       226.0         3.1917             73400.0  \n",
            "4       624.0       262.0         1.9250             65500.0  \n",
            "5       671.0       239.0         3.3438             74000.0  \n",
            "6      1841.0       633.0         2.6768             82400.0  \n",
            "7       375.0       158.0         1.7083             48500.0  \n",
            "8      3134.0      1056.0         2.1782             58400.0  \n",
            "9       787.0       271.0         2.1908             48100.0  \n"
          ]
        }
      ]
    },
    {
      "cell_type": "code",
      "source": [
        "#There is also a tail() method for viewing the last rows of the DataFrame.\n",
        "print(df.tail())"
      ],
      "metadata": {
        "colab": {
          "base_uri": "https://localhost:8080/"
        },
        "id": "4jHLjEfmQ2ft",
        "outputId": "87f5106f-80f0-4fc0-f9ef-07ca47650ddd"
      },
      "execution_count": null,
      "outputs": [
        {
          "output_type": "stream",
          "name": "stdout",
          "text": [
            "       longitude  latitude  housing_median_age  total_rooms  total_bedrooms  \\\n",
            "16995    -124.26     40.58                52.0       2217.0           394.0   \n",
            "16996    -124.27     40.69                36.0       2349.0           528.0   \n",
            "16997    -124.30     41.84                17.0       2677.0           531.0   \n",
            "16998    -124.30     41.80                19.0       2672.0           552.0   \n",
            "16999    -124.35     40.54                52.0       1820.0           300.0   \n",
            "\n",
            "       population  households  median_income  median_house_value  \n",
            "16995       907.0       369.0         2.3571            111400.0  \n",
            "16996      1194.0       465.0         2.5179             79000.0  \n",
            "16997      1244.0       456.0         3.0313            103600.0  \n",
            "16998      1298.0       478.0         1.9797             85800.0  \n",
            "16999       806.0       270.0         3.0147             94600.0  \n"
          ]
        }
      ]
    },
    {
      "cell_type": "markdown",
      "source": [
        "# Data Cleaning"
      ],
      "metadata": {
        "id": "M9RwsykASGSs"
      }
    },
    {
      "cell_type": "code",
      "source": [
        "df = pd.read_csv(\"/content/Pandas_Read_CSV_2.csv\")\n",
        "print(df)\n",
        "\n",
        "#remove rows with empty cells\n",
        "new_df = df.dropna()\n",
        "print(new_df)"
      ],
      "metadata": {
        "colab": {
          "base_uri": "https://localhost:8080/"
        },
        "id": "xRa_k10aRCHy",
        "outputId": "e0970c66-0ced-49d1-fe60-e70250687834"
      },
      "execution_count": null,
      "outputs": [
        {
          "output_type": "stream",
          "name": "stdout",
          "text": [
            "    col1  col2  col3  col4\n",
            "0      1    -1     4   1.0\n",
            "1      2     0     5   2.0\n",
            "2      3     1     6   3.0\n",
            "3      4     2     7   NaN\n",
            "4      5     3     8   4.0\n",
            "5      6     4     9   NaN\n",
            "6      7     5    10   5.0\n",
            "7      8     6    11   6.0\n",
            "8      8     6    11   6.0\n",
            "9      9     7    12   7.0\n",
            "10     9     7    12   7.0\n",
            "    col1  col2  col3  col4\n",
            "0      1    -1     4   1.0\n",
            "1      2     0     5   2.0\n",
            "2      3     1     6   3.0\n",
            "4      5     3     8   4.0\n",
            "6      7     5    10   5.0\n",
            "7      8     6    11   6.0\n",
            "8      8     6    11   6.0\n",
            "9      9     7    12   7.0\n",
            "10     9     7    12   7.0\n"
          ]
        }
      ]
    },
    {
      "cell_type": "code",
      "source": [
        "# dropna(inplace = True) will remove all rows containing NULL values from the original DataFrame.\n",
        "df.dropna(inplace = True)\n",
        "print(df)"
      ],
      "metadata": {
        "colab": {
          "base_uri": "https://localhost:8080/"
        },
        "id": "9tYnVASiRkTR",
        "outputId": "e3e66237-4f7d-4c9c-db29-7f4ff9cb9cbb"
      },
      "execution_count": null,
      "outputs": [
        {
          "output_type": "stream",
          "name": "stdout",
          "text": [
            "    col1  col2  col3  col4\n",
            "0      1    -1     4   1.0\n",
            "1      2     0     5   2.0\n",
            "2      3     1     6   3.0\n",
            "4      5     3     8   4.0\n",
            "6      7     5    10   5.0\n",
            "7      8     6    11   6.0\n",
            "8      8     6    11   6.0\n",
            "9      9     7    12   7.0\n",
            "10     9     7    12   7.0\n"
          ]
        }
      ]
    },
    {
      "cell_type": "code",
      "source": [
        "#To discover duplicates, we can use the duplicated() method. The duplicated() method returns a Boolean values for each row.\n",
        "print(df.duplicated())"
      ],
      "metadata": {
        "colab": {
          "base_uri": "https://localhost:8080/"
        },
        "id": "f3TrLFyRSsVw",
        "outputId": "770aaaba-1e90-438f-935d-9291ab551347"
      },
      "execution_count": null,
      "outputs": [
        {
          "output_type": "stream",
          "name": "stdout",
          "text": [
            "0     False\n",
            "1     False\n",
            "2     False\n",
            "4     False\n",
            "6     False\n",
            "7     False\n",
            "8      True\n",
            "9     False\n",
            "10     True\n",
            "dtype: bool\n"
          ]
        }
      ]
    },
    {
      "cell_type": "code",
      "source": [
        "#Remove all duplicates: The (inplace = True) will make sure that the method does NOT return a new DataFrame, but it will remove all duplicates from the original DataFrame.\n",
        "df.drop_duplicates(inplace = True)\n",
        "print(df)"
      ],
      "metadata": {
        "colab": {
          "base_uri": "https://localhost:8080/"
        },
        "id": "-Op-SUM6TY6g",
        "outputId": "e3ee6eb6-ab71-49a2-e8ed-8700f5bb3246"
      },
      "execution_count": null,
      "outputs": [
        {
          "output_type": "stream",
          "name": "stdout",
          "text": [
            "   col1  col2  col3  col4\n",
            "0     1    -1     4   1.0\n",
            "1     2     0     5   2.0\n",
            "2     3     1     6   3.0\n",
            "4     5     3     8   4.0\n",
            "6     7     5    10   5.0\n",
            "7     8     6    11   6.0\n",
            "9     9     7    12   7.0\n"
          ]
        }
      ]
    },
    {
      "cell_type": "markdown",
      "source": [
        "# Data Correlations\n",
        "\n",
        "A great aspect of the Pandas module is the corr() method.\n",
        "\n",
        "The corr() method calculates the relationship between each column in your data set."
      ],
      "metadata": {
        "id": "pDwDpINxUgsg"
      }
    },
    {
      "cell_type": "code",
      "source": [
        "df.corr()\n",
        "#The corr() method ignores \"not numeric\" columns."
      ],
      "metadata": {
        "colab": {
          "base_uri": "https://localhost:8080/",
          "height": 174
        },
        "id": "xi5Q7JX7T41-",
        "outputId": "fb134c68-b65d-47ab-87c8-1ce7e6c8a258"
      },
      "execution_count": null,
      "outputs": [
        {
          "output_type": "execute_result",
          "data": {
            "text/plain": [
              "          col1      col2      col3      col4\n",
              "col1  1.000000  1.000000  1.000000  0.992583\n",
              "col2  1.000000  1.000000  1.000000  0.992583\n",
              "col3  1.000000  1.000000  1.000000  0.992583\n",
              "col4  0.992583  0.992583  0.992583  1.000000"
            ],
            "text/html": [
              "\n",
              "  <div id=\"df-3b07b69f-0fb2-4109-9d0d-c20a49ae133a\">\n",
              "    <div class=\"colab-df-container\">\n",
              "      <div>\n",
              "<style scoped>\n",
              "    .dataframe tbody tr th:only-of-type {\n",
              "        vertical-align: middle;\n",
              "    }\n",
              "\n",
              "    .dataframe tbody tr th {\n",
              "        vertical-align: top;\n",
              "    }\n",
              "\n",
              "    .dataframe thead th {\n",
              "        text-align: right;\n",
              "    }\n",
              "</style>\n",
              "<table border=\"1\" class=\"dataframe\">\n",
              "  <thead>\n",
              "    <tr style=\"text-align: right;\">\n",
              "      <th></th>\n",
              "      <th>col1</th>\n",
              "      <th>col2</th>\n",
              "      <th>col3</th>\n",
              "      <th>col4</th>\n",
              "    </tr>\n",
              "  </thead>\n",
              "  <tbody>\n",
              "    <tr>\n",
              "      <th>col1</th>\n",
              "      <td>1.000000</td>\n",
              "      <td>1.000000</td>\n",
              "      <td>1.000000</td>\n",
              "      <td>0.992583</td>\n",
              "    </tr>\n",
              "    <tr>\n",
              "      <th>col2</th>\n",
              "      <td>1.000000</td>\n",
              "      <td>1.000000</td>\n",
              "      <td>1.000000</td>\n",
              "      <td>0.992583</td>\n",
              "    </tr>\n",
              "    <tr>\n",
              "      <th>col3</th>\n",
              "      <td>1.000000</td>\n",
              "      <td>1.000000</td>\n",
              "      <td>1.000000</td>\n",
              "      <td>0.992583</td>\n",
              "    </tr>\n",
              "    <tr>\n",
              "      <th>col4</th>\n",
              "      <td>0.992583</td>\n",
              "      <td>0.992583</td>\n",
              "      <td>0.992583</td>\n",
              "      <td>1.000000</td>\n",
              "    </tr>\n",
              "  </tbody>\n",
              "</table>\n",
              "</div>\n",
              "      <button class=\"colab-df-convert\" onclick=\"convertToInteractive('df-3b07b69f-0fb2-4109-9d0d-c20a49ae133a')\"\n",
              "              title=\"Convert this dataframe to an interactive table.\"\n",
              "              style=\"display:none;\">\n",
              "        \n",
              "  <svg xmlns=\"http://www.w3.org/2000/svg\" height=\"24px\"viewBox=\"0 0 24 24\"\n",
              "       width=\"24px\">\n",
              "    <path d=\"M0 0h24v24H0V0z\" fill=\"none\"/>\n",
              "    <path d=\"M18.56 5.44l.94 2.06.94-2.06 2.06-.94-2.06-.94-.94-2.06-.94 2.06-2.06.94zm-11 1L8.5 8.5l.94-2.06 2.06-.94-2.06-.94L8.5 2.5l-.94 2.06-2.06.94zm10 10l.94 2.06.94-2.06 2.06-.94-2.06-.94-.94-2.06-.94 2.06-2.06.94z\"/><path d=\"M17.41 7.96l-1.37-1.37c-.4-.4-.92-.59-1.43-.59-.52 0-1.04.2-1.43.59L10.3 9.45l-7.72 7.72c-.78.78-.78 2.05 0 2.83L4 21.41c.39.39.9.59 1.41.59.51 0 1.02-.2 1.41-.59l7.78-7.78 2.81-2.81c.8-.78.8-2.07 0-2.86zM5.41 20L4 18.59l7.72-7.72 1.47 1.35L5.41 20z\"/>\n",
              "  </svg>\n",
              "      </button>\n",
              "      \n",
              "  <style>\n",
              "    .colab-df-container {\n",
              "      display:flex;\n",
              "      flex-wrap:wrap;\n",
              "      gap: 12px;\n",
              "    }\n",
              "\n",
              "    .colab-df-convert {\n",
              "      background-color: #E8F0FE;\n",
              "      border: none;\n",
              "      border-radius: 50%;\n",
              "      cursor: pointer;\n",
              "      display: none;\n",
              "      fill: #1967D2;\n",
              "      height: 32px;\n",
              "      padding: 0 0 0 0;\n",
              "      width: 32px;\n",
              "    }\n",
              "\n",
              "    .colab-df-convert:hover {\n",
              "      background-color: #E2EBFA;\n",
              "      box-shadow: 0px 1px 2px rgba(60, 64, 67, 0.3), 0px 1px 3px 1px rgba(60, 64, 67, 0.15);\n",
              "      fill: #174EA6;\n",
              "    }\n",
              "\n",
              "    [theme=dark] .colab-df-convert {\n",
              "      background-color: #3B4455;\n",
              "      fill: #D2E3FC;\n",
              "    }\n",
              "\n",
              "    [theme=dark] .colab-df-convert:hover {\n",
              "      background-color: #434B5C;\n",
              "      box-shadow: 0px 1px 3px 1px rgba(0, 0, 0, 0.15);\n",
              "      filter: drop-shadow(0px 1px 2px rgba(0, 0, 0, 0.3));\n",
              "      fill: #FFFFFF;\n",
              "    }\n",
              "  </style>\n",
              "\n",
              "      <script>\n",
              "        const buttonEl =\n",
              "          document.querySelector('#df-3b07b69f-0fb2-4109-9d0d-c20a49ae133a button.colab-df-convert');\n",
              "        buttonEl.style.display =\n",
              "          google.colab.kernel.accessAllowed ? 'block' : 'none';\n",
              "\n",
              "        async function convertToInteractive(key) {\n",
              "          const element = document.querySelector('#df-3b07b69f-0fb2-4109-9d0d-c20a49ae133a');\n",
              "          const dataTable =\n",
              "            await google.colab.kernel.invokeFunction('convertToInteractive',\n",
              "                                                     [key], {});\n",
              "          if (!dataTable) return;\n",
              "\n",
              "          const docLinkHtml = 'Like what you see? Visit the ' +\n",
              "            '<a target=\"_blank\" href=https://colab.research.google.com/notebooks/data_table.ipynb>data table notebook</a>'\n",
              "            + ' to learn more about interactive tables.';\n",
              "          element.innerHTML = '';\n",
              "          dataTable['output_type'] = 'display_data';\n",
              "          await google.colab.output.renderOutput(dataTable, element);\n",
              "          const docLink = document.createElement('div');\n",
              "          docLink.innerHTML = docLinkHtml;\n",
              "          element.appendChild(docLink);\n",
              "        }\n",
              "      </script>\n",
              "    </div>\n",
              "  </div>\n",
              "  "
            ]
          },
          "metadata": {},
          "execution_count": 21
        }
      ]
    },
    {
      "cell_type": "markdown",
      "source": [
        "**Result Explained**\n",
        "\n",
        "The Result of the corr() method is a table with a lot of numbers that represents how well the relationship is between two columns.\n",
        "\n",
        "The number varies from -1 to 1.\n",
        "\n",
        "1 means that there is a 1 to 1 relationship (a perfect correlation).\n",
        "\n",
        "0.9 is also a good relationship, and if you increase one value, the other will probably increase as well.\n",
        "\n",
        "-0.9 would be just as good relationship as 0.9, but if you increase one value, the other will probably go down.\n",
        "\n",
        "0.2 means NOT a good relationship, meaning that if one value goes up does not mean that the other will.\n",
        "\n",
        "**What is a good correlation?** \n",
        "It depends on the use, but I think it is safe to say you have to have at least 0.6 (or -0.6) to call it a good correlation."
      ],
      "metadata": {
        "id": "f0QYHCLqVJY8"
      }
    },
    {
      "cell_type": "markdown",
      "source": [],
      "metadata": {
        "id": "Fi_6grjWjE_c"
      }
    },
    {
      "cell_type": "markdown",
      "source": [
        "# Create a csv file containing height, weight and BMI\n",
        "\n",
        "Let the data for height range from 50 to 80 with a step size of 1\n",
        "Let the data for weight range from 1.6 to 1.9 with a step size of 0.01\n",
        "\n",
        "BMI = weight/height**2\n"
      ],
      "metadata": {
        "id": "XduZ3SwQjF5z"
      }
    },
    {
      "cell_type": "markdown",
      "source": [
        "# Create a csv file containing height, weight and BMI\n",
        "\n",
        "Let the data for height range from 50 to 80 with a step size of 1\n",
        "Let the data for weight range from 1.6 to 1.9 with a step size of 0.01\n",
        "\n",
        "BMI = weight/height**2\n"
      ],
      "metadata": {
        "id": "jwShR9Avvdj1"
      }
    },
    {
      "cell_type": "markdown",
      "source": [
        "# Create a csv file containing height, weight and BMI\n",
        "\n",
        "Let the data for height range from 50 to 80 with a step size of 1\n",
        "Let the data for weight range from 1.6 to 1.9 with a step size of 0.01\n",
        "\n",
        "BMI = weight/height**2\n"
      ],
      "metadata": {
        "id": "aOsz0Yhrvd9G"
      }
    },
    {
      "cell_type": "code",
      "source": [
        "df = pd.read_csv(\"/content/Pandas_Read_CSV_BMI.csv\")p\n",
        "print(df.head(5))\n",
        "\n",
        "#remove rows with empty cells\n",
        "df.dropna(inplace = True)\n",
        "print(df)\n",
        "\n",
        "#Remove all duplicates: The (inplace = True) will make sure that the method \n",
        "#does NOT return a new DataFrame, but it will remove all duplicates from the original DataFrame.\n",
        "df.drop_duplicates(inplace = True)\n",
        "print(df)\n",
        "\n",
        "df.corr()\n",
        "\n",
        "df['BMI'] = df['weight']/((df['height'])**2)\n",
        "\n",
        "#print only BMI column\n",
        "print(df['BMI'])\n",
        "\n",
        "\n",
        "#Create a new column 'Result' in which,\n",
        "#  1. if BMI>22 then data in 'Result' column = 'obese', else\n",
        "#  2. data in 'Result' column = 'normal'\n",
        "\n",
        "###############################################\n",
        "#Create a new column 'result'\n",
        "#Method-1 of creating an empty column\n",
        "#df[\"result\"] = df[\"BMI\"] - df[\"BMI\"]\n",
        "\n",
        "#Method-2 of creating an empty column\n",
        "df = df.assign(result=None)\n",
        "print(df)\n",
        "\n",
        "#Method-3\n",
        "#df['result'] = [None,None,None,None,None,None,None,None,None]\n",
        "###############################################\n",
        "\n",
        "\n",
        "\n",
        "##############################################\n",
        "#The below code doesn't work as we can access only values but not index\n",
        "\n",
        "# for i in df['BMI']:\n",
        "#  for j in range(0,len(df['BMI'])):\n",
        "#    if i > 22:\n",
        "#      df[df.result] = 'obsese'\n",
        "#      pass\n",
        "##############################################\n",
        "\n",
        "#Instead use below method to access index,value pair\n",
        "for index, value in df['BMI'].iteritems():\n",
        "  print(f'(Index,Value) : ({index} , {value})')\n",
        "\n",
        "#Assign value to appropriate index in result\n",
        "\n",
        "#######################################################\n",
        "#Below method leads to SettingWithCopyWarning\n",
        "#for index, value in df['BMI'].iteritems():\n",
        "#  if value > 22:\n",
        "#    df['result'][index] = ['obese']\n",
        "#######################################################\n",
        "\n",
        "\n",
        "#The at method is used to access and modify the value of a specific cell in the \n",
        "#DataFrame using the row index and the column name\n",
        "for index, value in df['BMI'].iteritems():\n",
        "  if value > 22:\n",
        "    #df.insert(3, \"result\", pd.Series(value, index=index))\n",
        "    df.at[index, \"result\"] = 'obsese'\n",
        "  \n",
        "  else :\n",
        "    df.at[index, \"result\"] = 'normal'\n",
        "\n",
        "print(df)"
      ],
      "metadata": {
        "colab": {
          "base_uri": "https://localhost:8080/"
        },
        "id": "_eER33Z0jrZ2",
        "outputId": "2543d844-e10a-4c87-cdeb-ab4cf484e3da"
      },
      "execution_count": null,
      "outputs": [
        {
          "output_type": "stream",
          "name": "stdout",
          "text": [
            "   weight  height        BMI\n",
            "0      50    1.60  19.531250\n",
            "1      51    1.61  19.675167\n",
            "2      52    1.62  19.814053\n",
            "3      53    1.63  19.948060\n",
            "4      54    1.64  20.077335\n",
            "    weight  height        BMI\n",
            "0       50    1.60  19.531250\n",
            "1       51    1.61  19.675167\n",
            "2       52    1.62  19.814053\n",
            "3       53    1.63  19.948060\n",
            "4       54    1.64  20.077335\n",
            "5       55    1.65  20.202020\n",
            "6       56    1.66  20.322253\n",
            "7       57    1.67  20.438166\n",
            "8       58    1.68  20.549887\n",
            "9       59    1.69  20.657540\n",
            "10      60    1.70  20.761246\n",
            "11      61    1.71  20.861120\n",
            "12      62    1.72  20.957274\n",
            "13      63    1.73  21.049818\n",
            "14      64    1.74  21.138856\n",
            "15      65    1.75  21.224490\n",
            "16      66    1.76  21.306818\n",
            "17      67    1.77  21.385936\n",
            "18      68    1.78  21.461937\n",
            "19      69    1.79  21.534908\n",
            "20      70    1.80  21.604938\n",
            "21      71    1.81  21.672110\n",
            "22      72    1.82  21.736505\n",
            "23      73    1.83  21.798202\n",
            "24      74    1.84  21.857278\n",
            "25      75    1.85  21.913806\n",
            "26      76    1.86  21.967858\n",
            "27      77    1.87  22.019503\n",
            "28      78    1.88  22.068809\n",
            "29      79    1.89  22.115842\n",
            "    weight  height        BMI\n",
            "0       50    1.60  19.531250\n",
            "1       51    1.61  19.675167\n",
            "2       52    1.62  19.814053\n",
            "3       53    1.63  19.948060\n",
            "4       54    1.64  20.077335\n",
            "5       55    1.65  20.202020\n",
            "6       56    1.66  20.322253\n",
            "7       57    1.67  20.438166\n",
            "8       58    1.68  20.549887\n",
            "9       59    1.69  20.657540\n",
            "10      60    1.70  20.761246\n",
            "11      61    1.71  20.861120\n",
            "12      62    1.72  20.957274\n",
            "13      63    1.73  21.049818\n",
            "14      64    1.74  21.138856\n",
            "15      65    1.75  21.224490\n",
            "16      66    1.76  21.306818\n",
            "17      67    1.77  21.385936\n",
            "18      68    1.78  21.461937\n",
            "19      69    1.79  21.534908\n",
            "20      70    1.80  21.604938\n",
            "21      71    1.81  21.672110\n",
            "22      72    1.82  21.736505\n",
            "23      73    1.83  21.798202\n",
            "24      74    1.84  21.857278\n",
            "25      75    1.85  21.913806\n",
            "26      76    1.86  21.967858\n",
            "27      77    1.87  22.019503\n",
            "28      78    1.88  22.068809\n",
            "29      79    1.89  22.115842\n",
            "0     19.531250\n",
            "1     19.675167\n",
            "2     19.814053\n",
            "3     19.948060\n",
            "4     20.077335\n",
            "5     20.202020\n",
            "6     20.322253\n",
            "7     20.438166\n",
            "8     20.549887\n",
            "9     20.657540\n",
            "10    20.761246\n",
            "11    20.861120\n",
            "12    20.957274\n",
            "13    21.049818\n",
            "14    21.138856\n",
            "15    21.224490\n",
            "16    21.306818\n",
            "17    21.385936\n",
            "18    21.461937\n",
            "19    21.534908\n",
            "20    21.604938\n",
            "21    21.672110\n",
            "22    21.736505\n",
            "23    21.798202\n",
            "24    21.857278\n",
            "25    21.913806\n",
            "26    21.967858\n",
            "27    22.019503\n",
            "28    22.068809\n",
            "29    22.115842\n",
            "Name: BMI, dtype: float64\n",
            "    weight  height        BMI result\n",
            "0       50    1.60  19.531250   None\n",
            "1       51    1.61  19.675167   None\n",
            "2       52    1.62  19.814053   None\n",
            "3       53    1.63  19.948060   None\n",
            "4       54    1.64  20.077335   None\n",
            "5       55    1.65  20.202020   None\n",
            "6       56    1.66  20.322253   None\n",
            "7       57    1.67  20.438166   None\n",
            "8       58    1.68  20.549887   None\n",
            "9       59    1.69  20.657540   None\n",
            "10      60    1.70  20.761246   None\n",
            "11      61    1.71  20.861120   None\n",
            "12      62    1.72  20.957274   None\n",
            "13      63    1.73  21.049818   None\n",
            "14      64    1.74  21.138856   None\n",
            "15      65    1.75  21.224490   None\n",
            "16      66    1.76  21.306818   None\n",
            "17      67    1.77  21.385936   None\n",
            "18      68    1.78  21.461937   None\n",
            "19      69    1.79  21.534908   None\n",
            "20      70    1.80  21.604938   None\n",
            "21      71    1.81  21.672110   None\n",
            "22      72    1.82  21.736505   None\n",
            "23      73    1.83  21.798202   None\n",
            "24      74    1.84  21.857278   None\n",
            "25      75    1.85  21.913806   None\n",
            "26      76    1.86  21.967858   None\n",
            "27      77    1.87  22.019503   None\n",
            "28      78    1.88  22.068809   None\n",
            "29      79    1.89  22.115842   None\n",
            "(Index,Value) : (0 , 19.531249999999996)\n",
            "(Index,Value) : (1 , 19.675166853130666)\n",
            "(Index,Value) : (2 , 19.81405273586343)\n",
            "(Index,Value) : (3 , 19.94805976890361)\n",
            "(Index,Value) : (4 , 20.077334919690664)\n",
            "(Index,Value) : (5 , 20.202020202020204)\n",
            "(Index,Value) : (6 , 20.322252866889244)\n",
            "(Index,Value) : (7 , 20.43816558499767)\n",
            "(Index,Value) : (8 , 20.549886621315196)\n",
            "(Index,Value) : (9 , 20.65754000210077)\n",
            "(Index,Value) : (10 , 20.761245674740486)\n",
            "(Index,Value) : (11 , 20.86111966075032)\n",
            "(Index,Value) : (12 , 20.9572742022715)\n",
            "(Index,Value) : (13 , 21.04981790236894)\n",
            "(Index,Value) : (14 , 21.13885585942661)\n",
            "(Index,Value) : (15 , 21.224489795918366)\n",
            "(Index,Value) : (16 , 21.306818181818183)\n",
            "(Index,Value) : (17 , 21.38593635289987)\n",
            "(Index,Value) : (18 , 21.461936624163616)\n",
            "(Index,Value) : (19 , 21.534908398614277)\n",
            "(Index,Value) : (20 , 21.604938271604937)\n",
            "(Index,Value) : (21 , 21.672110130948383)\n",
            "(Index,Value) : (22 , 21.736505252988767)\n",
            "(Index,Value) : (23 , 21.798202394816204)\n",
            "(Index,Value) : (24 , 21.85727788279773)\n",
            "(Index,Value) : (25 , 21.913805697589478)\n",
            "(Index,Value) : (26 , 21.967857555786793)\n",
            "(Index,Value) : (27 , 22.019502988361115)\n",
            "(Index,Value) : (28 , 22.068809416025353)\n",
            "(Index,Value) : (29 , 22.11584222166233)\n",
            "    weight  height        BMI  result\n",
            "0       50    1.60  19.531250  normal\n",
            "1       51    1.61  19.675167  normal\n",
            "2       52    1.62  19.814053  normal\n",
            "3       53    1.63  19.948060  normal\n",
            "4       54    1.64  20.077335  normal\n",
            "5       55    1.65  20.202020  normal\n",
            "6       56    1.66  20.322253  normal\n",
            "7       57    1.67  20.438166  normal\n",
            "8       58    1.68  20.549887  normal\n",
            "9       59    1.69  20.657540  normal\n",
            "10      60    1.70  20.761246  normal\n",
            "11      61    1.71  20.861120  normal\n",
            "12      62    1.72  20.957274  normal\n",
            "13      63    1.73  21.049818  normal\n",
            "14      64    1.74  21.138856  normal\n",
            "15      65    1.75  21.224490  normal\n",
            "16      66    1.76  21.306818  normal\n",
            "17      67    1.77  21.385936  normal\n",
            "18      68    1.78  21.461937  normal\n",
            "19      69    1.79  21.534908  normal\n",
            "20      70    1.80  21.604938  normal\n",
            "21      71    1.81  21.672110  normal\n",
            "22      72    1.82  21.736505  normal\n",
            "23      73    1.83  21.798202  normal\n",
            "24      74    1.84  21.857278  normal\n",
            "25      75    1.85  21.913806  normal\n",
            "26      76    1.86  21.967858  normal\n",
            "27      77    1.87  22.019503  obsese\n",
            "28      78    1.88  22.068809  obsese\n",
            "29      79    1.89  22.115842  obsese\n"
          ]
        }
      ]
    },
    {
      "cell_type": "markdown",
      "source": [
        "# Store Pandas DataFrame as a CSV file"
      ],
      "metadata": {
        "id": "HtQ8a2L21sPO"
      }
    },
    {
      "cell_type": "markdown",
      "source": [
        "You can store a Pandas DataFrame as a CSV (Comma Separated Values) file using the **to_csv** method. The **to_csv** method takes several optional arguments that allow you to control the format and properties of the output CSV file.\n",
        "\n",
        "Example:\n",
        "\n",
        "        import pandas as pd\n",
        "\n",
        "        df = pd.DataFrame({\n",
        "        \"col_1\": [1, 2, 3, 4],\n",
        "        \"col_2\": [10, 20, 30, 40]\n",
        "        })\n",
        "\n",
        "        df.to_csv(\"data.csv\", index=False)\n",
        "\n",
        "In this example, the DataFrame df is stored as a CSV file named data.csv. The index argument is set to False to exclude the index column from the output file."
      ],
      "metadata": {
        "id": "hIu_DJ3x1NfU"
      }
    },
    {
      "cell_type": "code",
      "source": [
        "#Store Pandas DataFrame as a CSV file\n",
        "df.to_csv(\"/content/Pandas_Read_CSV_BMI_Analysis.csv\", index=False)"
      ],
      "metadata": {
        "id": "ZmW3CBEl112J"
      },
      "execution_count": null,
      "outputs": []
    },
    {
      "cell_type": "code",
      "source": [
        "df.corr()"
      ],
      "metadata": {
        "colab": {
          "base_uri": "https://localhost:8080/",
          "height": 143
        },
        "id": "IuL9DxlJ4Dbt",
        "outputId": "24a14526-cb6e-4c57-e5fb-a4d4dbb9cb97"
      },
      "execution_count": null,
      "outputs": [
        {
          "output_type": "execute_result",
          "data": {
            "text/plain": [
              "          weight    height       BMI\n",
              "weight  1.000000  1.000000  0.988907\n",
              "height  1.000000  1.000000  0.988907\n",
              "BMI     0.988907  0.988907  1.000000"
            ],
            "text/html": [
              "\n",
              "  <div id=\"df-5b56fac9-8298-446e-a4cd-95b1b1226999\">\n",
              "    <div class=\"colab-df-container\">\n",
              "      <div>\n",
              "<style scoped>\n",
              "    .dataframe tbody tr th:only-of-type {\n",
              "        vertical-align: middle;\n",
              "    }\n",
              "\n",
              "    .dataframe tbody tr th {\n",
              "        vertical-align: top;\n",
              "    }\n",
              "\n",
              "    .dataframe thead th {\n",
              "        text-align: right;\n",
              "    }\n",
              "</style>\n",
              "<table border=\"1\" class=\"dataframe\">\n",
              "  <thead>\n",
              "    <tr style=\"text-align: right;\">\n",
              "      <th></th>\n",
              "      <th>weight</th>\n",
              "      <th>height</th>\n",
              "      <th>BMI</th>\n",
              "    </tr>\n",
              "  </thead>\n",
              "  <tbody>\n",
              "    <tr>\n",
              "      <th>weight</th>\n",
              "      <td>1.000000</td>\n",
              "      <td>1.000000</td>\n",
              "      <td>0.988907</td>\n",
              "    </tr>\n",
              "    <tr>\n",
              "      <th>height</th>\n",
              "      <td>1.000000</td>\n",
              "      <td>1.000000</td>\n",
              "      <td>0.988907</td>\n",
              "    </tr>\n",
              "    <tr>\n",
              "      <th>BMI</th>\n",
              "      <td>0.988907</td>\n",
              "      <td>0.988907</td>\n",
              "      <td>1.000000</td>\n",
              "    </tr>\n",
              "  </tbody>\n",
              "</table>\n",
              "</div>\n",
              "      <button class=\"colab-df-convert\" onclick=\"convertToInteractive('df-5b56fac9-8298-446e-a4cd-95b1b1226999')\"\n",
              "              title=\"Convert this dataframe to an interactive table.\"\n",
              "              style=\"display:none;\">\n",
              "        \n",
              "  <svg xmlns=\"http://www.w3.org/2000/svg\" height=\"24px\"viewBox=\"0 0 24 24\"\n",
              "       width=\"24px\">\n",
              "    <path d=\"M0 0h24v24H0V0z\" fill=\"none\"/>\n",
              "    <path d=\"M18.56 5.44l.94 2.06.94-2.06 2.06-.94-2.06-.94-.94-2.06-.94 2.06-2.06.94zm-11 1L8.5 8.5l.94-2.06 2.06-.94-2.06-.94L8.5 2.5l-.94 2.06-2.06.94zm10 10l.94 2.06.94-2.06 2.06-.94-2.06-.94-.94-2.06-.94 2.06-2.06.94z\"/><path d=\"M17.41 7.96l-1.37-1.37c-.4-.4-.92-.59-1.43-.59-.52 0-1.04.2-1.43.59L10.3 9.45l-7.72 7.72c-.78.78-.78 2.05 0 2.83L4 21.41c.39.39.9.59 1.41.59.51 0 1.02-.2 1.41-.59l7.78-7.78 2.81-2.81c.8-.78.8-2.07 0-2.86zM5.41 20L4 18.59l7.72-7.72 1.47 1.35L5.41 20z\"/>\n",
              "  </svg>\n",
              "      </button>\n",
              "      \n",
              "  <style>\n",
              "    .colab-df-container {\n",
              "      display:flex;\n",
              "      flex-wrap:wrap;\n",
              "      gap: 12px;\n",
              "    }\n",
              "\n",
              "    .colab-df-convert {\n",
              "      background-color: #E8F0FE;\n",
              "      border: none;\n",
              "      border-radius: 50%;\n",
              "      cursor: pointer;\n",
              "      display: none;\n",
              "      fill: #1967D2;\n",
              "      height: 32px;\n",
              "      padding: 0 0 0 0;\n",
              "      width: 32px;\n",
              "    }\n",
              "\n",
              "    .colab-df-convert:hover {\n",
              "      background-color: #E2EBFA;\n",
              "      box-shadow: 0px 1px 2px rgba(60, 64, 67, 0.3), 0px 1px 3px 1px rgba(60, 64, 67, 0.15);\n",
              "      fill: #174EA6;\n",
              "    }\n",
              "\n",
              "    [theme=dark] .colab-df-convert {\n",
              "      background-color: #3B4455;\n",
              "      fill: #D2E3FC;\n",
              "    }\n",
              "\n",
              "    [theme=dark] .colab-df-convert:hover {\n",
              "      background-color: #434B5C;\n",
              "      box-shadow: 0px 1px 3px 1px rgba(0, 0, 0, 0.15);\n",
              "      filter: drop-shadow(0px 1px 2px rgba(0, 0, 0, 0.3));\n",
              "      fill: #FFFFFF;\n",
              "    }\n",
              "  </style>\n",
              "\n",
              "      <script>\n",
              "        const buttonEl =\n",
              "          document.querySelector('#df-5b56fac9-8298-446e-a4cd-95b1b1226999 button.colab-df-convert');\n",
              "        buttonEl.style.display =\n",
              "          google.colab.kernel.accessAllowed ? 'block' : 'none';\n",
              "\n",
              "        async function convertToInteractive(key) {\n",
              "          const element = document.querySelector('#df-5b56fac9-8298-446e-a4cd-95b1b1226999');\n",
              "          const dataTable =\n",
              "            await google.colab.kernel.invokeFunction('convertToInteractive',\n",
              "                                                     [key], {});\n",
              "          if (!dataTable) return;\n",
              "\n",
              "          const docLinkHtml = 'Like what you see? Visit the ' +\n",
              "            '<a target=\"_blank\" href=https://colab.research.google.com/notebooks/data_table.ipynb>data table notebook</a>'\n",
              "            + ' to learn more about interactive tables.';\n",
              "          element.innerHTML = '';\n",
              "          dataTable['output_type'] = 'display_data';\n",
              "          await google.colab.output.renderOutput(dataTable, element);\n",
              "          const docLink = document.createElement('div');\n",
              "          docLink.innerHTML = docLinkHtml;\n",
              "          element.appendChild(docLink);\n",
              "        }\n",
              "      </script>\n",
              "    </div>\n",
              "  </div>\n",
              "  "
            ]
          },
          "metadata": {},
          "execution_count": 68
        }
      ]
    },
    {
      "cell_type": "markdown",
      "source": [
        "A used car reselling company wants to categorize whether a car has to be scraped or to be auctioned based on the price after depriciation,the company has provided csv file containing data on Year_bought, showroom_price\n",
        "\n",
        "\n",
        "Input: You are provided with a csv file which contains column: Year_bought, \n",
        "showroom_price = 1000000\n",
        "Current_year = 2023\n",
        "Vehicle has to be scrapped if its Price_after_depreciation is less than 500000\n",
        "Price_after_depreciation = showroom_price / Age_of_vehicle\n",
        "\n",
        "\n",
        "Expected outcome: provide your analysis in the form of a csv file, which consists of column: conclusion, which contains 'scrap' or 'auction' based on Price_after_depriciation\n",
        "The CSV file provided by you must also contain columns:Year_bought, Age_of_vehicle, Price_after_depreciation, Conclusion\n",
        "\n",
        "Hints:\n",
        "1. Import the provided csv\n",
        "2. Use a scaling factor to reduce the size of data in column:Price_after_depriciation"
      ],
      "metadata": {
        "id": "fkKX0ZIlYcaq"
      }
    },
    {
      "cell_type": "code",
      "source": [
        "df = pd.DataFrame({\n",
        "    \"Age_of_car\": [1, 2, 3, 4]\n",
        "    })\n",
        "showroom_price = 100000\n",
        "scaling_factor = 10000\n",
        "df['Price_after_depriciation'] = showroom_price/df['Age_of_car'] /scaling_factor\n",
        "\n",
        "print(df)"
      ],
      "metadata": {
        "colab": {
          "base_uri": "https://localhost:8080/"
        },
        "id": "bpKYBtK_W1t3",
        "outputId": "cae1932f-bcaf-4738-f52f-99cd29841180"
      },
      "execution_count": null,
      "outputs": [
        {
          "output_type": "stream",
          "name": "stdout",
          "text": [
            "   Age_of_car  Price_after_depriciation\n",
            "0           1                 10.000000\n",
            "1           2                  5.000000\n",
            "2           3                  3.333333\n",
            "3           4                  2.500000\n"
          ]
        }
      ]
    },
    {
      "cell_type": "markdown",
      "source": [
        "# Matplotlib\n",
        "\n",
        "Matplotlib is a low level graph plotting library in python that serves as a visualization utility.\n",
        "\n",
        "Most of the Matplotlib utilities lies under the pyplot submodule, and are usually imported under the plt alias"
      ],
      "metadata": {
        "id": "XVxGcuLQWvX-"
      }
    },
    {
      "cell_type": "code",
      "source": [
        "import matplotlib.pyplot as plt"
      ],
      "metadata": {
        "id": "7YvAwGFWUpIz"
      },
      "execution_count": 2,
      "outputs": []
    },
    {
      "cell_type": "markdown",
      "source": [
        "**Plotting x and y points:**\n",
        "\n",
        "The plot() function is used to draw points (markers) in a diagram.\n",
        "\n",
        "By default, the plot() function draws a line from point to point.\n",
        "\n",
        "The function takes parameters for specifying points in the diagram.\n",
        "\n",
        "Parameter 1 is an array containing the points on the x-axis.\n",
        "\n",
        "Parameter 2 is an array containing the points on the y-axis."
      ],
      "metadata": {
        "id": "bUmeDwIdXdTK"
      }
    },
    {
      "cell_type": "code",
      "source": [
        "xpoints = np.array([0, 6])\n",
        "ypoints = np.array([0, 250])\n",
        "plt.plot(xpoints, ypoints)\n",
        "plt.show()"
      ],
      "metadata": {
        "colab": {
          "base_uri": "https://localhost:8080/",
          "height": 265
        },
        "id": "8edB0eMtXQO4",
        "outputId": "3093587f-575d-431f-b5fc-fcdfbb52fc19"
      },
      "execution_count": null,
      "outputs": [
        {
          "output_type": "display_data",
          "data": {
            "text/plain": [
              "<Figure size 432x288 with 1 Axes>"
            ],
            "image/png": "[encoded data removed]"
          },
          "metadata": {
            "needs_background": "light"
          }
        }
      ]
    },
    {
      "cell_type": "code",
      "source": [
        "#Draw a line in a diagram from position (1, 3) to position (8, 10):\n",
        "xpoints = np.array([1, 8])\n",
        "ypoints = np.array([3, 10])\n",
        "\n",
        "plt.plot(xpoints, ypoints)\n",
        "plt.show()"
      ],
      "metadata": {
        "colab": {
          "base_uri": "https://localhost:8080/",
          "height": 265
        },
        "id": "WTwtK2kuXUFh",
        "outputId": "b1bfe9c7-0371-4607-8323-7d1faa51a8d3"
      },
      "execution_count": null,
      "outputs": [
        {
          "output_type": "display_data",
          "data": {
            "text/plain": [
              "<Figure size 432x288 with 1 Axes>"
            ],
            "image/png": "[encoded data removed]"
          },
          "metadata": {
            "needs_background": "light"
          }
        }
      ]
    },
    {
      "cell_type": "markdown",
      "source": [
        "**Plotting Without Line**\n",
        "\n",
        "To plot only the markers, you can use shortcut string notation parameter 'o', which means 'rings'."
      ],
      "metadata": {
        "id": "WVDSu1mRX7GM"
      }
    },
    {
      "cell_type": "code",
      "source": [
        "xpoints = np.array([1, 8])\n",
        "ypoints = np.array([3, 10])\n",
        "\n",
        "plt.plot(xpoints, ypoints, 'o')\n",
        "plt.show()"
      ],
      "metadata": {
        "colab": {
          "base_uri": "https://localhost:8080/",
          "height": 265
        },
        "id": "x2cqufSLXzUY",
        "outputId": "71380701-0c6d-461c-aad6-a36ec1133670"
      },
      "execution_count": null,
      "outputs": [
        {
          "output_type": "display_data",
          "data": {
            "text/plain": [
              "<Figure size 432x288 with 1 Axes>"
            ],
            "image/png": "[encoded data removed]"
          },
          "metadata": {
            "needs_background": "light"
          }
        }
      ]
    },
    {
      "cell_type": "markdown",
      "source": [
        "Markers\n",
        "You can use the keyword argument marker to emphasize each point with a specified marker"
      ],
      "metadata": {
        "id": "chvy8uvxkVh1"
      }
    },
    {
      "cell_type": "code",
      "source": [
        "plt.plot(xpoints,ypoints, marker = 'o')\n",
        "plt.show()"
      ],
      "metadata": {
        "colab": {
          "base_uri": "https://localhost:8080/",
          "height": 265
        },
        "id": "iGn3Zd4sYBDU",
        "outputId": "2fadcd4c-aab7-4f31-a1ee-c6f5444fe507"
      },
      "execution_count": null,
      "outputs": [
        {
          "output_type": "display_data",
          "data": {
            "text/plain": [
              "<Figure size 432x288 with 1 Axes>"
            ],
            "image/png": "[encoded data removed]"
          },
          "metadata": {
            "needs_background": "light"
          }
        }
      ]
    },
    {
      "cell_type": "code",
      "source": [
        "plt.plot(xpoints,ypoints, marker = '*')\n",
        "plt.show()"
      ],
      "metadata": {
        "colab": {
          "base_uri": "https://localhost:8080/",
          "height": 265
        },
        "id": "fLom-1HVkYps",
        "outputId": "573bdb24-2a50-46f7-b9cd-29ae106c70a7"
      },
      "execution_count": null,
      "outputs": [
        {
          "output_type": "display_data",
          "data": {
            "text/plain": [
              "<Figure size 432x288 with 1 Axes>"
            ],
            "image/png": "[encoded data removed]"
          },
          "metadata": {
            "needs_background": "light"
          }
        }
      ]
    },
    {
      "cell_type": "markdown",
      "source": [
        "Marker\tDescription\n",
        "\n",
        "'o'\tCircle\t\n",
        "'*'\tStar\t\n",
        "'.'\tPoint\t\n",
        "','\tPixel\t\n",
        "'x'\tX\t\n",
        "'X'\tX (filled)\t\n",
        "'+'\tPlus\t\n",
        "'P'\tPlus (filled)\t\n",
        "'s'\tSquare\t\n",
        "'D'\tDiamond\t\n",
        "'d'\tDiamond (thin)\t\n",
        "'p'\tPentagon\t\n",
        "'H'\tHexagon\t\n",
        "'h'\tHexagon\t\n",
        "'v'\tTriangle Down\t\n",
        "'^'\tTriangle Up\t\n",
        "'<'\tTriangle Left\t\n",
        "'>'\tTriangle Right\t\n",
        "'1'\tTri Down\t\n",
        "'2'\tTri Up\t\n",
        "'3'\tTri Left\t\n",
        "'4'\tTri Right\t\n",
        "'|'\tVline\t\n",
        "'_'\tHline"
      ],
      "metadata": {
        "id": "TTWVJIFmkrVH"
      }
    },
    {
      "cell_type": "markdown",
      "source": [
        "Format Strings fmt\n",
        "You can use also use the shortcut string notation parameter to specify the marker.\n",
        "\n",
        "This parameter is also called fmt, and is written with this syntax:\n",
        "\n",
        "marker|line|color"
      ],
      "metadata": {
        "id": "cCLRlDbyoUa6"
      }
    },
    {
      "cell_type": "code",
      "source": [
        "plt.plot(xpoints, ypoints, 'o:r')\n",
        "plt.show()"
      ],
      "metadata": {
        "colab": {
          "base_uri": "https://localhost:8080/",
          "height": 265
        },
        "id": "3lmRm4-xkgMr",
        "outputId": "ed678a09-e70a-47a8-b652-ffae7ac107aa"
      },
      "execution_count": null,
      "outputs": [
        {
          "output_type": "display_data",
          "data": {
            "text/plain": [
              "<Figure size 432x288 with 1 Axes>"
            ],
            "image/png": "[encoded data removed]"
          },
          "metadata": {
            "needs_background": "light"
          }
        }
      ]
    },
    {
      "cell_type": "markdown",
      "source": [
        "The marker value can be anything from the Marker Reference above.\n",
        "\n",
        "The line value can be one of the following:\n",
        "\n",
        "**Line Reference**\n",
        "Line Syntax\tDescription\n",
        "'-'\tSolid line\t\n",
        "':'\tDotted line\t\n",
        "'--'\tDashed line\t\n",
        "'-.'\tDashed/dotted line\n",
        "\n",
        "**Color Reference**\n",
        "Color Syntax\tDescription\n",
        "'r'\tRed\t\n",
        "'g'\tGreen\t\n",
        "'b'\tBlue\t\n",
        "'c'\tCyan\t\n",
        "'m'\tMagenta\t\n",
        "'y'\tYellow\t\n",
        "'k'\tBlack\t\n",
        "'w'\tWhite"
      ],
      "metadata": {
        "id": "ICoYJpTkr5f-"
      }
    },
    {
      "cell_type": "markdown",
      "source": [
        "**Marker Size**\n",
        "\n",
        "You can use the keyword argument markersize or the shorter version, ms to set the size of the markers"
      ],
      "metadata": {
        "id": "DZNaaYwkstO1"
      }
    },
    {
      "cell_type": "code",
      "source": [
        "plt.plot(xpoints, ypoints, 'o:r', ms=20)\n",
        "plt.show()"
      ],
      "metadata": {
        "colab": {
          "base_uri": "https://localhost:8080/",
          "height": 265
        },
        "id": "68kTCdPXrFxb",
        "outputId": "caa47adb-f8b5-41c2-be34-2966a2708c8d"
      },
      "execution_count": null,
      "outputs": [
        {
          "output_type": "display_data",
          "data": {
            "text/plain": [
              "<Figure size 432x288 with 1 Axes>"
            ],
            "image/png": "[encoded data removed]"
          },
          "metadata": {
            "needs_background": "light"
          }
        }
      ]
    },
    {
      "cell_type": "markdown",
      "source": [
        "**Linestyle**\n",
        "\n",
        "You can use the keyword argument linestyle, or shorter ls, to change the style of the plotted line\n",
        "\n",
        "\n",
        "![Capture.PNG](data:image/png;base64,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)"
      ],
      "metadata": {
        "id": "y4g0rQV2uxNs"
      }
    },
    {
      "cell_type": "code",
      "source": [
        "plt.plot(xpoints, ypoints, ls = ':')"
      ],
      "metadata": {
        "colab": {
          "base_uri": "https://localhost:8080/",
          "height": 282
        },
        "id": "05-LIgWNtDar",
        "outputId": "151a7196-c9f0-49b2-ddf8-5f43f4ae8589"
      },
      "execution_count": null,
      "outputs": [
        {
          "output_type": "execute_result",
          "data": {
            "text/plain": [
              "[<matplotlib.lines.Line2D at 0x7f80d6ad1ca0>]"
            ]
          },
          "metadata": {},
          "execution_count": 65
        },
        {
          "output_type": "display_data",
          "data": {
            "text/plain": [
              "<Figure size 432x288 with 1 Axes>"
            ],
            "image/png": "[encoded data removed]"
          },
          "metadata": {
            "needs_background": "light"
          }
        }
      ]
    },
    {
      "cell_type": "code",
      "source": [
        "#Line width\n",
        "plt.plot(ypoints,'o:r', ms=20, linewidth = '10.5')\n",
        "plt.show()"
      ],
      "metadata": {
        "colab": {
          "base_uri": "https://localhost:8080/",
          "height": 265
        },
        "id": "EvwhGqKGxAZm",
        "outputId": "1c2d8265-904c-421b-afe1-87bc588bb20e"
      },
      "execution_count": null,
      "outputs": [
        {
          "output_type": "display_data",
          "data": {
            "text/plain": [
              "<Figure size 432x288 with 1 Axes>"
            ],
            "image/png": "[encoded data removed]"
          },
          "metadata": {
            "needs_background": "light"
          }
        }
      ]
    },
    {
      "cell_type": "markdown",
      "source": [
        "**PLOT multiple lines**"
      ],
      "metadata": {
        "id": "gzkLjbib1Cl0"
      }
    },
    {
      "cell_type": "code",
      "source": [
        "x1 = np.array([0, 1, 2, 3])\n",
        "y1 = np.array([3, 8, 1, 10])\n",
        "x2 = np.array([0, 1, 2, 3])\n",
        "y2 = np.array([6, 2, 7, 11])\n",
        "\n",
        "plt.plot(x1, y1, x2, y2)\n",
        "plt.show()"
      ],
      "metadata": {
        "colab": {
          "base_uri": "https://localhost:8080/",
          "height": 265
        },
        "id": "II6CfgZaxyuv",
        "outputId": "acf04285-589f-419a-8311-0f86b47ae48a"
      },
      "execution_count": null,
      "outputs": [
        {
          "output_type": "display_data",
          "data": {
            "text/plain": [
              "<Figure size 432x288 with 1 Axes>"
            ],
            "image/png": "[encoded data removed]"
          },
          "metadata": {
            "needs_background": "light"
          }
        }
      ]
    },
    {
      "cell_type": "markdown",
      "source": [
        "**Add labels to the x- and y-axis**"
      ],
      "metadata": {
        "id": "KMlrApxa1Xu4"
      }
    },
    {
      "cell_type": "code",
      "source": [
        "x = np.array([80, 85, 90, 95, 100, 105, 110, 115, 120, 125])\n",
        "y = np.array([240, 250, 260, 270, 280, 290, 300, 310, 320, 330])\n",
        "\n",
        "plt.plot(x, y)\n",
        "\n",
        "plt.xlabel(\"Average Pulse\")\n",
        "plt.ylabel(\"Calorie Burnage\")\n",
        "\n",
        "plt.show()"
      ],
      "metadata": {
        "colab": {
          "base_uri": "https://localhost:8080/",
          "height": 279
        },
        "id": "LQKdz2Qt1FhU",
        "outputId": "90589657-8607-48be-db2e-9bb4fe83f640"
      },
      "execution_count": null,
      "outputs": [
        {
          "output_type": "display_data",
          "data": {
            "text/plain": [
              "<Figure size 432x288 with 1 Axes>"
            ],
            "image/png": "[encoded data removed]"
          },
          "metadata": {
            "needs_background": "light"
          }
        }
      ]
    },
    {
      "cell_type": "markdown",
      "source": [
        "**Create a Title for a Plot**"
      ],
      "metadata": {
        "id": "ATjmOyg71eWE"
      }
    },
    {
      "cell_type": "code",
      "source": [
        "x = np.array([80, 85, 90, 95, 100, 105, 110, 115, 120, 125])\n",
        "y = np.array([240, 250, 260, 270, 280, 290, 300, 310, 320, 330])\n",
        "\n",
        "plt.plot(x, y)\n",
        "\n",
        "plt.title(\"Sports Watch Data\")\n",
        "plt.xlabel(\"Average Pulse\")\n",
        "plt.ylabel(\"Calorie Burnage\")\n",
        "\n",
        "plt.show()"
      ],
      "metadata": {
        "colab": {
          "base_uri": "https://localhost:8080/",
          "height": 295
        },
        "id": "bJLZCk7L1ZuK",
        "outputId": "2c04ba7f-16b6-43e4-9786-649f0b1361d3"
      },
      "execution_count": null,
      "outputs": [
        {
          "output_type": "display_data",
          "data": {
            "text/plain": [
              "<Figure size 432x288 with 1 Axes>"
            ],
            "image/png": "[encoded data removed]"
          },
          "metadata": {
            "needs_background": "light"
          }
        }
      ]
    },
    {
      "cell_type": "markdown",
      "source": [
        "**Add Grid Lines to a Plot**"
      ],
      "metadata": {
        "id": "ng1H7Yjs1wJr"
      }
    },
    {
      "cell_type": "code",
      "source": [
        "x = np.array([80, 85, 90, 95, 100, 105, 110, 115, 120, 125])\n",
        "y = np.array([240, 250, 260, 270, 280, 290, 300, 310, 320, 330])\n",
        "\n",
        "plt.title(\"Sports Watch Data\")\n",
        "plt.xlabel(\"Average Pulse\")\n",
        "plt.ylabel(\"Calorie Burnage\")\n",
        "\n",
        "plt.plot(x, y)\n",
        "\n",
        "plt.grid()\n",
        "\n",
        "plt.show()"
      ],
      "metadata": {
        "colab": {
          "base_uri": "https://localhost:8080/",
          "height": 295
        },
        "id": "TOFPj0zR1i8u",
        "outputId": "e4f27cee-a8ac-4ed0-b202-141bd1121804"
      },
      "execution_count": null,
      "outputs": [
        {
          "output_type": "display_data",
          "data": {
            "text/plain": [
              "<Figure size 432x288 with 1 Axes>"
            ],
            "image/png": "[encoded data removed]"
          },
          "metadata": {
            "needs_background": "light"
          }
        }
      ]
    },
    {
      "cell_type": "code",
      "source": [
        "x = np.arange(0,6)\n",
        "print(x)\n",
        "y= x+3\n",
        "print(y)\n",
        "plt.plot(x,y)"
      ],
      "metadata": {
        "colab": {
          "base_uri": "https://localhost:8080/",
          "height": 320
        },
        "id": "Vu3PB_AsYWtP",
        "outputId": "6b805c73-0de7-4a2e-c706-b906b21f8b04"
      },
      "execution_count": 15,
      "outputs": [
        {
          "output_type": "stream",
          "name": "stdout",
          "text": [
            "[0 1 2 3 4 5]\n",
            "[3 4 5 6 7 8]\n"
          ]
        },
        {
          "output_type": "execute_result",
          "data": {
            "text/plain": [
              "[<matplotlib.lines.Line2D at 0x7f2653971a00>]"
            ]
          },
          "metadata": {},
          "execution_count": 15
        },
        {
          "output_type": "display_data",
          "data": {
            "text/plain": [
              "<Figure size 432x288 with 1 Axes>"
            ],
            "image/png": "[encoded data removed]"
          },
          "metadata": {
            "needs_background": "light"
          }
        }
      ]
    },
    {
      "cell_type": "markdown",
      "source": [
        "**subplot()**\n",
        "\n",
        "**Display Multiple Plots**\n",
        "\n",
        "The subplot() function takes three arguments that describes the layout of the figure.\n",
        "\n",
        "The layout is organized in rows and columns, which are represented by the first and second argument.\n",
        "\n",
        "The third argument represents the index of the current plot."
      ],
      "metadata": {
        "id": "KDsC71Ia2EPc"
      }
    },
    {
      "cell_type": "code",
      "source": [
        "#plot 1:\n",
        "x = np.array([0, 1, 2, 3])\n",
        "y = np.array([3, 8, 1, 10])\n",
        "\n",
        "plt.subplot(1, 2, 1)\n",
        "plt.plot(x,y)\n",
        "\n",
        "#plot 2:\n",
        "x = np.array([0, 1, 2, 3])\n",
        "y = np.array([10, 20, 30, 40])\n",
        "\n",
        "plt.subplot(1, 2, 2)\n",
        "plt.plot(x,y)\n",
        "\n",
        "plt.show()"
      ],
      "metadata": {
        "colab": {
          "base_uri": "https://localhost:8080/",
          "height": 265
        },
        "id": "de6O1RA-10_U",
        "outputId": "2ad3709b-bc91-4abd-918c-bfb3496f2ae7"
      },
      "execution_count": null,
      "outputs": [
        {
          "output_type": "display_data",
          "data": {
            "text/plain": [
              "<Figure size 432x288 with 2 Axes>"
            ],
            "image/png": "[encoded data removed]"
          },
          "metadata": {
            "needs_background": "light"
          }
        }
      ]
    },
    {
      "cell_type": "code",
      "source": [
        "#@title Draw 2 plots on top of each other\n",
        "\n",
        "#plot 1:\n",
        "x = np.array([0, 1, 2, 3])\n",
        "y = np.array([3, 8, 1, 10])\n",
        "\n",
        "plt.subplot(2, 1, 1)\n",
        "plt.plot(x,y)\n",
        "\n",
        "#plot 2:\n",
        "x = np.array([0, 1, 2, 3])\n",
        "y = np.array([10, 20, 30, 40])\n",
        "\n",
        "plt.subplot(2, 1, 2)\n",
        "plt.plot(x,y)\n",
        "\n",
        "plt.show()\n"
      ],
      "metadata": {
        "colab": {
          "base_uri": "https://localhost:8080/",
          "height": 265
        },
        "id": "mKZoMTZn2iE3",
        "outputId": "ac7b6c64-ec68-496c-9bf9-ffca87ee9022"
      },
      "execution_count": null,
      "outputs": [
        {
          "output_type": "display_data",
          "data": {
            "text/plain": [
              "<Figure size 432x288 with 2 Axes>"
            ],
            "image/png": "[encoded data removed]"
          },
          "metadata": {
            "needs_background": "light"
          }
        }
      ]
    },
    {
      "cell_type": "markdown",
      "source": [
        "**Scatter Plots**\n",
        "\n",
        "The scatter() function plots one dot for each observation. It needs two arrays of the same length, one for the values of the x-axis, and one for values on the y-axis"
      ],
      "metadata": {
        "id": "Fc8ZWBfv61Rq"
      }
    },
    {
      "cell_type": "code",
      "source": [
        "x = np.array([5,7,8,7,2,17,2,9,4,11,12,9,6])\n",
        "y = np.array([99,86,87,88,111,86,103,87,94,78,77,85,86])\n",
        "\n",
        "plt.scatter(x,y)\n",
        "#plt.plot(x, y, 'o')\n",
        "\n",
        "'''plt.subplot(2, 1, 1)\n",
        "plt.scatter(x,y)\n",
        "#plt.plot(x, y, 'o')\n",
        "\n",
        "plt.subplot(2, 1, 2)\n",
        "#plt.scatter(x,y)\n",
        "plt.plot(x, y, 'o')\n",
        "plt.show()\n",
        "'''"
      ],
      "metadata": {
        "colab": {
          "base_uri": "https://localhost:8080/",
          "height": 265
        },
        "id": "xt46DRup60md",
        "outputId": "8920e9b9-557a-42bd-c694-f7d7a1821ed8"
      },
      "execution_count": 10,
      "outputs": [
        {
          "output_type": "display_data",
          "data": {
            "text/plain": [
              "<Figure size 432x288 with 2 Axes>"
            ],
            "image/png": "[encoded data removed]"
          },
          "metadata": {
            "needs_background": "light"
          }
        }
      ]
    },
    {
      "cell_type": "code",
      "source": [
        "#Draw two plots on the same figure\n",
        "\n",
        "#day one, the age and speed of 13 cars:\n",
        "x = np.array([5,7,8,7,2,17,2,9,4,11,12,9,6])\n",
        "y = np.array([99,86,87,88,111,86,103,87,94,78,77,85,86])\n",
        "plt.scatter(x, y)\n",
        "\n",
        "#day two, the age and speed of 15 cars:\n",
        "x = np.array([2,2,8,1,15,8,12,9,7,3,11,4,7,14,12])\n",
        "y = np.array([100,105,84,105,90,99,90,95,94,100,79,112,91,80,85])\n",
        "plt.scatter(x, y)\n",
        "\n",
        "plt.show()"
      ],
      "metadata": {
        "colab": {
          "base_uri": "https://localhost:8080/",
          "height": 265
        },
        "id": "lXE6hqI36jus",
        "outputId": "9ba513b7-df91-4fde-e6dd-684d80345fe5"
      },
      "execution_count": null,
      "outputs": [
        {
          "output_type": "display_data",
          "data": {
            "text/plain": [
              "<Figure size 432x288 with 1 Axes>"
            ],
            "image/png": "[encoded data removed]"
          },
          "metadata": {
            "needs_background": "light"
          }
        }
      ]
    },
    {
      "cell_type": "markdown",
      "source": [
        "**Creating Bars**\n",
        "\n",
        "With Pyplot, you can use the bar() function to draw bar graphs"
      ],
      "metadata": {
        "id": "o1uwOHKE7pPb"
      }
    },
    {
      "cell_type": "code",
      "source": [
        "x = np.array([\"A\", \"B\", \"C\", \"D\"])\n",
        "y = np.array([3, 8, 1, 10])\n",
        "\n",
        "plt.bar(x,y)\n",
        "plt.show()"
      ],
      "metadata": {
        "colab": {
          "base_uri": "https://localhost:8080/",
          "height": 265
        },
        "id": "OiCE7MkG7WgX",
        "outputId": "4d5ff308-2c0a-4b21-ddbe-3a7e4ebebc6f"
      },
      "execution_count": null,
      "outputs": [
        {
          "output_type": "display_data",
          "data": {
            "text/plain": [
              "<Figure size 432x288 with 1 Axes>"
            ],
            "image/png": "[encoded data removed]"
          },
          "metadata": {
            "needs_background": "light"
          }
        }
      ]
    },
    {
      "cell_type": "markdown",
      "source": [
        "If you want the bars to be displayed horizontally instead of vertically, use the barh() function"
      ],
      "metadata": {
        "id": "bCAqGZAA79WT"
      }
    },
    {
      "cell_type": "code",
      "source": [
        "x = np.array([\"A\", \"B\", \"C\", \"D\"])\n",
        "y = np.array([3, 8, 1, 10])\n",
        "\n",
        "plt.barh(x,y)\n",
        "plt.show()"
      ],
      "metadata": {
        "colab": {
          "base_uri": "https://localhost:8080/",
          "height": 265
        },
        "id": "F2W9FAeB7x_E",
        "outputId": "f87bd31c-9acf-4dcf-e672-2ee0c1160a8f"
      },
      "execution_count": null,
      "outputs": [
        {
          "output_type": "display_data",
          "data": {
            "text/plain": [
              "<Figure size 432x288 with 1 Axes>"
            ],
            "image/png": "[encoded data removed]"
          },
          "metadata": {
            "needs_background": "light"
          }
        }
      ]
    },
    {
      "cell_type": "markdown",
      "source": [
        "**Histogram**\n",
        "\n",
        "A histogram is a graph showing frequency distributions.\n",
        "\n",
        "It is a graph showing the number of observations within each given interval.\n",
        "\n",
        "Example: Say you ask for the height of 250 people, you might end up with a histogram like this\n",
        "\n",
        "![image.png](data:image/png;base64,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)\n",
        "\n",
        "\n",
        "![image.png](data:image/png;base64,iVBORw0KGgoAAAANSUhEUgAAAnMAAAFUCAYAAABP8bodAAAgAElEQVR4nOy9YWhbR9a4/+hPFmxowYV94RpaiIIDr0MWorA/sMzbD1HJC1VoIde4EJu8kMq7kMhd2NoNtHLzwZFTSOwutPYudK0UWqRAgxRosQIbrHzoIgW6WIEUq9BiBVLQhQYsSECCBub/QVeWLF3Jki3ZVnoeuLSRzp05c+6ZmaMzd8Y2pZRCEARBEARB6Ej+v71WQBAEQRAEQdg+EswJgiAIgiB0MBLMCYIgCIIgdDASzAmCIAiCIHQwEswJgiAIgiB0MBLMCYIgCIIgdDASzAmCIAiCIHQwEswJgiAIgiB0MBLMCVUkLtuw2YYI/dz4PfkfQky+eYRemw2brZcjF6IY7VNxDzAIvWXDZpshsav1Jpix2bC9FXrO7Pm8sld+sgPuzWCz2Ri6IR4mCFuyT/vLDoK5PMmPBrHZepm8k68plf7nKWy2Xsa/yW6/KmF/83MEz4lR5r5JmQGHQepxJz7v5yBwMgca2+VthBL7dJDaf+ydnxg3hrDZbMzc2537BGEnFP1u78eUDvyR1SQ7COa6cLwzh++YwdxFP4mnFiI/R5i6FEU7u8DUGz3br0rY16RvLxAyHEx8nSGnFEop1FcjaHutmCAIgiD8BtjZMusLTqauTqDdn2Hi0ySb83NZole8hAyduWldJvbnGMOIAUMMvaHRtdfK/NYZ8BWC6Q+de62JIAi/cbQzYZRShM9IBNB21I5ZV0vnNQVutfhj6dPcvyaUBsr92dpm6Qdh5T/nVHZQoKn+N7xqPpapKjUT0hXoKviousb4NDW/q0lmWc2f15WzDwUo7ahbea8GVXyj6jUVPq8r14BdQUEGrV+5zvlVOJWr1ED5QTEcVJlfM2r5qmejXPvrXrX43XrjaoV0BSh/QqlcKqz8Z/qVBgr8Kr4hta5WI37l2dDNrpznZtVypdnW42r2nEu5jmqlNvQ5lX5+XsV/qVF/bLZUrinr/1Oj9s2o4DClujYu896EXwFKD2WU+iWu5s+7zedeXnZF27R+5T4/X922MpuvZZbV/Hm36teKPjShguYzysTmlfcN04Zav3K/F1ZrvzbwIB4FlV7VDkr6b7TVr+JqXa2GJpTbtLN2dET5o2vW5a6vqvB0yT/ocyrP1WWVaUSninY35GvlNrfQY8M3TN8OJjIqp0p+WPNZFotpsP+a0hV2cinP1aCa3bBjkXLb5tRqxK9GinpOx9V2+2an+Ml6YlZ5TrpMPc1nO6Ar7ydxVf50C+Oe1VVuy2q2vK/cZzLLanbj+dqV+/yiWqkxnG2yYdG+D+r4Y80xoMGy6tHU2FfWp9S6in/iVe6+8mdYVKrcfwpzxkRoVTWu1Tb9dtOYsdlvN1Qrmzc22a7PqTxX4xU6btW/rNtrH/Aof6SivemgGtFQDPhV/El1e4NnNYU2ooLpaj032PCJNYt+GFSrT5RSv2bU8ifesr7jVhOR6r6z9pVX6SeL/mra60RB75LFTNtaXeXtb3SerRpj19Ti6yiOzaqVKg2VUrll5dNQnAtvsuXGmDscVLVG0GZoQTCnlEqbA9xwUK0ppVRuRfkHUAxsblwu4VdOS6NqynUlrsrdtZXBXC7hVy5tq4dZ54HjVLPJTRoUZI+5lKvPSr5x3YoPVD/nKXPI8gF6TYXP2a31Kus0Sqm6Ew2aVy1tGtRyKj7trNHeRtvQWDDnOuupsH+x7Do6aC7lT5R7hGlzTTMH/Ep5txoZtraTY3qzb1nS8CTtVK4TmoWco0JfpVQ6rDyW/oHSzpp9ZUua9DWrYO5JvNAf6zznRoK5ZvpvXb/d5N+qzLa68lTeMx1X2+qbHeQntW2P0s4vbUwA7Q7mHCdcFWOQeVVNNjkVv+Kyti/Oze1rZAxotKxtPpfqsc/0kZMjylPxjIr9pt6c4WzET8rracZvjzmV06reirG+6DPOAevxc7OOW/UvVQrSLMqynwtvGqsyX40ozcIOa5+5FTiU79uymusEc5pm1T9Q2hsjSrcc66r7Tm3fRjk/LkYfjQRzTcyzFmPs2nW3Ak35YtWesR7xKEBN/KtGv99XwZwqPkhNeb/OqJWPnYWO+F2Z8sXoVHMpXzSz4QTryaDyDlQ7d8uCuVxc+Y8VyveGVtR68df3k4xajc6qkY8tY2nz3nW18lnBcbVNEXzJOezDs2opZQ63v66rlb8XHpCjXrllbDxQzaUmrsdVpsIXCh1HU+4ry2pt45dQTq0nFwudryLar+LJmlp631nlfCo5qxygGPCqYLJUQi6zqhYbzswVKDwPiwnFdHqwK/3qklqt+IWci/kKtj3hU0uPzIb/uq5WQt5C0LDpx8Bmmy+nTfmc+Wtwo54yO2XCyquhYEItNzT6lv9ir6QUuGonJtRioujDOZX5eqJgy7KJV6mMCp/VFJpb+WNrKlf0uzKf8kQa+Y3fpK9ZDDQFH9OU96syPX7NqbVkWM3/aUKFH9W+d4Mm++/6197Cs33Dr5aLz1bl1HoqrCaOVfpLLdvWocG+uf/9pEbz0kvKN1DdDy0nxwaoe1+tfvrLipofLkyi5c82910hqHe+E1Qrv5QMtqFzeYZiqzGgmbKapdbYV6tPbVReTEYUxsZcVXmOikCsCbb0W025/rqo4umy8bAo//7yhi4b80afrmajq2q96OaPin5TvlK2Vf8yM0vYled6aY7MPVpW/jc0c14vt1FOLb+nbQrcNp7jtFVSxjqYq+yHuR/LAso+Xc2WjZuZrwrjCe8tbzE2lM2NWq3sfzVNzbNW4+QvYeXBaj42bav5qsaWfRvMKbWiZgfY+EVc+VDXv/YqQLmvW+QjzMBCu1Lqtq0K5nL/mijU+1ljeRCL2iwGbvOz0xbZlfUl5W1wwFaq9EB9Matv19TiSRTvLFk68NpnrsYmoOKv1o3BI6eW369eGi/SbOZzq2BOt3rmal0tna8cdEqsXHUo0JT/u41aatv8W1+hni+q62muLY1M0j6LwWBFzR6rmHh+XFQuUN6o5ZMrPNctB6YynRr1NYuBZuVjR2MTUJ1grrn+WxzAJtRy1VKM1aBasu1yw8vPSjXdN/ejn9TBaiJsZzBnZZficy9N5jm1/B6Kk/Nq1aKownjrKvXpumNAk2Vth6qxT6mSjyxaZseL9c6nrL5cVhOgXNueT8rqt/JbS58yx4syn6r3PItzXul5btG/iv33fYvxqBiknA1v1quY7de8ailt/v9wdZ+ru8xq1Q8/NPthuuqbOvappro/1wvmmpxnLcfJGnOqaVvH1W3/JGmYA7QMB95rPoKvzpA85iPyV+eml+HT34cBF/qr9upbjw0yBEwlUxg4WrpZIvV9rFDvCYt6K3mWJXUnTPRuguj9NGRWiX1fZ0v1Aeiu/KznJXoBHmepfWBLNd1VBQHZFMk7wJ1TdH9a684ejMfAy+Y/8waJW2GWvo2R+ClLLh0j8VPlPSmStw04qePqa0LJ7dJl1bg0yVvU1MHx6hAwxcqPBvyxzCOsbK7ZcQEcqK7H3qdvV+saWLWll97DwM38xjPPppLEgJi7m4VaRfUYZKExf9+BrzlOjOJkksnXXyP1pxHcJ47jcPRj72l8u0pT/TebInkbeM/N4AsNVwF0011rRGpF39yHflIk/3OCyK0l4t8mSGVzpO8kSLdYoy2xsEvPf/UCkHla1Ngck+6Pc8Q2XrMo4zFQ3q8tx4BtllWLhsa+Mg50Wz6lwpyRZLzfRk2tDANow5xiiZ0jrwJ3UqR/BufL9aW7+o+jA5GHlTpa9y/jxxWSwMSJweoNbL8fxDUMgS9TpL8oG6tecDLxqZ+l/zeFxxnGYITgjZFGLFLCwt+0V1zmd5Xf2LEPWxeT/SFK+JsYiTtJ0s8yrN5NNXdk0Hbm2Sq6cL01ieOjSRZuJfG85wDyxL6aJYmbxdOOZjTaFi0M5qDrf04xxAzJw0ewVwzi+WcGMEj3Lm93zD9NAvrW9T6MMHZyiEC9zr/bPM2SaUI8f2+GU6eniG3pyXny94Fh68Fsd8iDAbzaAh26utlvB9/knzbz5NrMsQmi34L3/CyBy2MELhc+1o6OMPmPBSb+Z2vrNdV/i377Yndrdje3qm/uQz+BPImPTqF/EOuQsw3NsWOfldX42NdAWU+TOy8E9uecYsWzQqD+0ovN9dauP/qYmw4yeCmF85MpRg7uXJXuF5rpoWkib7/G0Oc7/NnT5Dxbk2MuRo/B5MdhYu84cD2NEvrIgHMehnYhabJrfwGi64AGZMk1k67atXqzRK8OEfhJw/1+kOVUhvX1dfPMtDj+XdK1igNdhclwOl44bsLyCjPyMkCShfNTxAwnnk/CrKTXWV/PFWQeBdmcd+gq/MR6Brndb9VmHbK5PdShjRwoDIz+RK3ntrtn8fX8zwTBBxly6xlWE2EW3xvhpcchJl8dbWiy2Vb//XW72pazT/tmq7i/gPeDGMaAh/nICmvr66w/KfhHJtTqbGErMPvtcJBMzTFJ4RvYzbKaGfsa0OqABugEH9Xpu1se/dNiv/0VoIuuRtIvzwr/0Q40GJyZcutPmpuc8/+ZYeJSCk3TSPxlcteD1uw3cwx9nkZ7w0cwtkpmfZ31XOH5xKebKKipebYeDvS/uMGYIXQ7S/qbAAE0fGfdu/IjcteCOfvRISBG5K5FFH0/ThjQHP0Vk1uE1YcWhTUxSdStd4MUyX8Ap+eYvzKC6781enp69v7MNM3O8WNAJEZiq372c4r4feDDORbf0XEc7KGn5jJaL/0ngVsxko9bqnET2HGcBu5EiFkMAslvw4DG8cO7eT6RhnaSlgS52uHjOIDwnURTy+3tpqtHo39Ax3M1yMp1LxAlljTTGb/XCsuQz6pb31T/fbmf4xrwTZyd5zj2Y99snZ8YqYKNfNcW8Z52YO/poafO0nTP7wsLWblnzdWz3fuqMfvtzTCxJv7cX1vLamrsa0Cro0NAhPC3O0nztdBvn8YI/xM4dhx7A8Nh+k6QCDB0tLFFz+JYFbwTrx6rHseJ3QTO9m9eQn2aYO6dKRLDQeKJBUa0KGNnZ6z/eECbSN1fAHTmPvEzcqIfraeH2o+9B+0gWPbYZubZLbC/4cEDBP7pZeqTKBybZOjE7oxWuxbM9ZzU8WkQ/fMoU7eN0rtF90OMn58kiZPJ10vrypr9OBoQ+CxE2hTOP04Sevc19Mvbq3f8RpJscTB7apC6Pcfo35JAF13HgMQSiR9KTzNvpIhemyWwg3bvDDPSvz+F/tYM0R/K3o3KZ0nfCzEzMleYMF/oKbw/dSdG7HFRKk/2YYLAxwHim8rVGHxdBwJ43w2UArqnaRKfTzL19/a3DHpwDfvQiDJ2doroz6bOz7Ikb4zjvZiEgUncf9wNXYp0090D3AoS+c8O/xzZMR3v65C8pDP0UZTU4zK/yqZJ3Jgxfa/9JK4NMXMjRsooG6nyWeL/WQE0jrxizhDmMmTkRoRkRfOb67/9OM9pcH+Wqb8lNvpc/nGK6DUvUzeb0X4/9s3W+UnXC4V30mJ3Y2Q3um2W9L0As/+MV8u/+BIAgVAEo4nAbLv3VVPstxFGh8cJ3EuTL5b3LI/xQ5SFC5NEGgrOWlRWU2NfA1qZvh4Z0Rn/PEG6LEDJGymin44zeWurQG+bfptdZaVsnM8/ThK4MMqcAe6/6FS+eZVOJkv6PcuTvj3F6J+joPnQTzaYDzLHKuPaKJ5/lubI/M8xZt72EkDDO+wqS7RkiV7UmXo4QvDqCPaDOoEvJtDuTTHxt9378dr1ggOIs/RtquQ35rw++0WVNN0vAgQI3qx8dk3Ms1vxezcj72twO0ToPjj+z1X1zIoU/9RZy/4sYGv3U9TfcdLcOVXm7tiqM19cymWxZb8etest7XIqnp1T9X2fvXD2UsM7j5rbdbP17rRGz+vKqZUr1mcOaX32QtvKd3QVt99XyduVva/Fu1mtjrowdW76nDkru5o71qzqqbcr2orCeUGbdak+DLaqFuvv6pwzR+XzqEmTvmZh83pnMW0+7654REH5tc1z5h6Fa5xbpSlNq7Wbtd6xAS3om/vRT2r2Q03Z+7TqsaF4RIzlGFCHevfV66c1du7VPhuuYuxoZAxotKzajWtu7GtgjK57Nmnd9pTYlt821E/rn01YfT5f/f6llGrqnLm1UOEYj5GvKnziw8IJBOXHmNQ/NLiZfmi2odxmNccY6zmseBSW9RjcxLmYW/l0wm/WY31SQ6VtWnU0ya5l5gC6BnxEH4Txn3OaKVuN/je8zMeSLL/vrEhBO5j4Js5sUVbrx31+nuXkMn538/XG0kvMn3fTb/680I668X6yxOr5wrsP2nCAWGgC91Gt7PtlMqkgnp00esfY0a+vsBadxzvs3Eh1a0ddeN5bZCnlpdCCLhzvR4lf9eA0X7a0D3jwR1ZJ3fEzWFlslwPf7VWC7xVtYsd5zk/4wQrB/9udlkEXzg+jrEb8eAbMlpU9Z9/A7i+m2c8FN9lQO+qif7tLNgd1Fr9bY+kTL/rAxpOj/4SHiesl32s3zvOrLF2fwHOi9BqDfUDH+0mc1BflO9DseL4o63No9J/o31j2a6r/vqwTTC6XlWXHeW6W5UycuVeBY10NLzntx77ZMj/pcuArH+c2+mGK5emqXgtdLqbuBpl4o/gs7TiHta3fydnufdaF4Xx/mWQiiP+ca2NMpc+Jfn6WYGIBfcv3i1pZVpNjXyNaDfhYTsYJTntwHd3oNTiHvcyG4iyc3nq9c1t+e9LH4ifeinsq+2kJz8fBsv5o+k4q1vzYeXCEYHJ50xxZtOHKdb1U908BxkdCcD7AwnC5DbpwXlzAP2Cw8GcvIavXo1rNyzqBcp8uzh2ZNcs5rOvE1KbnQZ8TXSv2gEbn2Qb4o7PwfHdp40MRm1JK7V51giD8tkky5zjOpHOJ9b/vzovBgrD/STBjG2RqOEimgY1Rxo0hekci+BONbjYRdovsrTFe0pfwxdL4d+l9OdjFd+YEQfiN8zRN7KMpZu+D5+SgBHKCIDxnpAn/M7CrGx+KtPScOUEQhAJmpsHiG+3EPN7TEsoJgvCccT/Cwm1wX6/erNJuJDMnCEIb0LCfc5W9b1R8T2+Z5L+8uz7QCYIgtJfiX3zw4Hmjqb+F0RLknTlBEARBEIQORjJzgiAIgiAIHYwEc4IgCIIgCB2MBHOCIAiCIAgdjARzgiAIgiAIHYwEc4IgCIIgCB2MBHOCIAiCIAgdjARzgiAIgiAIHYwEc4IgCIIgCB2MBHOCIAiCIAgdjARzgiAIgiAIHYwEc4IgCIIgCB2MBHOCIAiCIAgdjARzgiAIgiAIHYwEc4IgCIIgCB2MBHOCIAiCIAgdjARzgiAIgiAIHYwEc4IgCIIgCB2MBHOCIAiCIAgdjARzgiAIgiAIHYwEc4IgCIIgCB2MBHOCIAiCIAgdjARzgiAIgiAIHYwEc4IgCIIgCB2MBHOCIAiCIAgdjARzgiAIgiAIHYwEc4IgCIIgCB2MBHOCIAiCIAgdjARzgiAIgiAIHYwEc4IgCIIgCB2MBHOCIAiCIAgdjARzgiAIgiAIHYwEczvGIPSWDZtthkSbasj+e44x5yFsNhs22yEGP022qSZBEARBEDqNlgRzxr0QcxeGeO0PvaWA461xFu4arSj+N03+PzO4X50kcC9tfpImkc3vqU6tIcmcw4btchMh8NMEM04bNtsQoZ+tRbLfh5h8a5BDNhs2Wy9H3hxn4d/ZJvRqf3BuRfbWWN12WfIwxGhvLV2L7ah9Dd2Q/ikIgvA8sPNg7ucQXucok/+IEPu+ODmkSdxcYNzlYPRGuu7tQj3yxL+aIoHOfHIdpVTh+tC514rtiHw2TfTSJLP3m7krTeiCztS92hLZ2+Mc/8MoczcTFLzOIPXNAuOv9u9fP3yWx7gfYPJioLn7niaYOTNKSOIxQRCE3zwtyMx1Yf/TPOHkGus5M9jIrbPy2QgaBqGROaLNJEaEMrIYD4HhIYaO9ey1Mjvn5xBDNhvdLx3i1OUYjccheRKXRxn9cRz/O7VEYsy+vUAaJ75ohpxSKJUjE/XhxCD0boDYPktoJi7bsP2um17HGIGfmrmzENjOH/bjO72VrJ948UdAxRU+o21feUEQBGHfsPNg7mWd2c+86Mfs9HSZn3X14PiTn7nTABmyTxspqGx565lB7NNxTpnLtoecY8zVWiozYixcOMWR3sLSUe8fTjF5I4WVdPb7CDNvVyzBWSwFGzeGsNlszNwD4+4C428eoddmw3Z4kLFrCcuyLcmmiFweY/CwubR1eJCxazGMZ43cnGDG1svoTeDmaKF+W9mS2r2Z0lLZ4wQLF06Z7SpfqsuSujVTet+u9winLiwQq2pyghmbDdtbIdKb7NnLkTcnCf1QiII22aL3CKcuRkg31Jadkb7hQf+7neANH67/qiF0P0HAAO19P1OvaxRcsQvtdT8LVx1gzBC5s9WTK7M5UwyWL0tuWg5u1K7toBTYRv7u4ciBFhZt+uvG6xKHBxm7GCD6U9FuZX20wrfL++jmfnaIwbcXSMoPOkEQhPah2kZGBYdRoKvgo2bknco5gILKy6n8idymO3IJv3JpVrIo53Rc5SpknRZyoCnXlc2ymZBeKGPA2UDZRb39Kl6uXDqsPH3Wumlng2ptS3vEld9SX7OehF8BynXWU2GDor1zKj5trT+aq8KWZl2apjRLebcaGbZbluWosHPDPAoqHRTT8bpia197lbPs2cenrX1q7TOXAtTEvyy0+dZXsPuVlS2UqmXzcj2bsWvj1GrXZnJq5WO30rQRFUwrVdP31FbfWVDHXxkOqsymMjWlWfY7p9LPuKx9aKMMQRAEodW0bzfr01VWvgVed+N8uZkbExivzLKUWq9YKkswNR1k482nfJK5v04RO+glmCzKKtSTNZbed5K45GWh+E5WPob/9BQJzVW2BKdYTwbxDhjEPpgoyZZr8riX2ejqxvJx7tESvgFIXPITrLssZhC55CXw1I0/tkbu183Lz3w5ysytrVIVTnwqQ3AYGA6S2Vge81H+xlzsyxg97y6x+kvx+zAjL0P+rh/9UgLthI+lR7nCd7+usxLy4jRiTP11gao9sYZB9/Asy2lTPrdG8KwGRpTQTdCvLrP2xKwnE8arQfJSmHibli/z92YYfTOMPRTEN9BVV9YwYgC89KKF3MtH0AHjUWaLrGqZzSuXJ833FLdl1xaRvuHB/e4647cCjBxs9K7yDGOtjUkGoYtDBH7ScF9ZJlP2usRaYpGJg5U2NaB/otTvfl1nedoJJIjcWOXIX4Os/GLaZn2F2deBmwGWmlpKFgRBEBqmPTFiMXtRnU2rTb1MQk4tv2dmLtLmJ/+aUOBS8ymr6pfVBCjXZ4X81/rXXgUo93WLfFhyVjkqsjbFzJw/YVH0vyYUoPQvimVZ6P3jonKB8kat2r6mFk+ieG+5gYyWWbZVVsPMzOlWbVLrauk8Ctxq8cfqb1euOhRoyv9d8RMzI3XaImNoZrVK7S3RWDapBltl5tJBNaJVZ1hr1Vn43PqZbdTVUHaonh82a9fG2cqWhcyypkZC5c+hkcxcA5lr01+1LX2yWKavur60aeMPLTSp058EQRCEndOGzFyexEen0C+lGWkgo9IYXRxx6ECEtJlUSH0fA2KM91scu9D9GnNAzCgIp78PAy70V+3VRR8bZAgwkqmGXsjv6j+ODkQe1pbOppLEgAV3t8WREIcYuwM8NBp/966uQt0WH6ZJ3gJO6rj6qr91vDoEGKz8WNGGA1BVmmbHBXCguh57n74djbfG3KkZOxkk+KGTVnhQa9imXXfKwxCe01MwHSFwxsKHLdEY+api08OTTCGDyObsctFfR08ONmhrC5/TNOwAv7P4yn68QZ0FQRCE7dDiYC5bCOQ+SHMqFCfY8MTTPPmnjS9m5Z8ZQA/duxQV5J9mdqei2hqAAfR0W027zdHVza7vo/0+xtQ9ML4cNV+iL12DlwAijL5S/7y5TeRzhcD59z07DAxbaNcmMBJhQgYkLg3SvckelZs1tjgb7wUNx5n5woYQosSShaCz6K+WS9SN0tXNS9u/WxAEQdgBrQvmnqUJvX2cwQ9yDH29zGKLA7ncMwANzN17XQc0QCf4yPrYBVX2nlNBNkuuFe92mbs3tQN1Jj7zO3+ijm5fjdC+gyG6QAOyOXJtq2N/oWkuANafWDxkI00M0F7p3WFg+nzYtfflQt/MF3cim/5qaTtBEARh39OaYO5xjKn/HWT0tpPFVIz5N1qdkUsTuxEBhnCYy1v2o0NAhPC3Wy9pFWRjRO5aHBx7P04Y0Bz9DQVX6TtBIsDQ0dpt1A4fxwGE7yTYm+nRjuM0cCdCzOKl8+S3YUDj+OF9es7YgK9mEByfhlIQX9jsAdDb50QDgnfjVTZPJqJA/WdWogftIGAZru2NXbUz4Rr2qNyssXlzjDV5VpNxAPpfKehZ9NfgnWrbCYIgCPufHQdz+fsLnPrDawTwsPwgiOe/d7qWmWblfrqUNXiaJvrBKGO3QXtfx2WmVnpO6vg0iIzojH+eIF12ll3eSBH9dJzJW8Ym2eifR5m6bWxMWNn7IcbPT5LEyeTrjmpNkslSuc/ypG9PMfrnKGg+9JN1cjzHdLyvQ/KSztBHUVKPS1NkPpsmcWOG0b+18++r9uAa9qERZezsFNGfzfqfZUneGMd7MQkDk7j/2EYVdpkupwuPBsZHU/g3nnEe4/ZUob2aF/erjeTluuh+ESBA8GblD4XOsatxc4zRyyFiPxib+lLsoyFGrxlwzM+pop6mvxrXRhn6KIZRdNd8lvS9AJMXI00c8CwIgiDsOjvdQVHcqVb3amoXYY1rwK/iTzbfUe+cOUDpocwm2WbPmbO+KnfoNn/OHA2cr7ap7Hq7WUO1LLuNc+as6jF3glrVU7BTE7tZi7tKa1yN7Hast+sz89WI9RlnVbtA65OL+arLacM5c8UduDvvM9W7WZvzYbWxe7i+Lq1eIkwAACAASURBVPV2z5o+ZOXXpq/KblZBEIT20L5z5raNh9mQH8+AuSTW58QzHWb1jg/nC5sluwZ8LCfjBKc9uI4Wl7bsOIe9zIbiLJzWNslGH4Txn3MWdt2h0f+Gl/lYkuX3rXdMej4OlsnbcZ7zE07FGtuhe1Bn8bs1lj7xohfbgkb/CQ8T15dYPd/uv6/ahfPDKKuRMltq/bjPz7OcXG7RLuP9hTYcJPXtPN43ikvmpWfczGacrhNTxEITuIs+1edE14pZvc6wq3Z6gXhoFu+wi/5iN+hzop+fZzkTr9bz4AjBBysEpz04+0rynukg8Y/1Nr7fKQiCIOwUm1JK7bUSBQxCb/UyetNPvKF3f9qoyY0hekci+BMK38AeKiIIgiAIgrAF+zAzJwiCIAiCIDSKBHOCIAiCIAgdjARzgiAIgiAIHcw+emdOEARBEARBaBbJzAmCIAiCIHQwEswJgiAIgiB0MBLMCYIgCIIgdDASzAmCIAiCIHQwEswJgiAIgiB0MBLMCYIgCIIgdDASzAmCIAiCIHQwEswJgiAIgiB0MBLM7RiD0Fs2bLYZEm2qIfvvOcach7DZbNhshxj8NNmmmgRBEARB6DRaEswlLtvMQKPGdbldYc7zT/4/M7hfnSRwL21+kiaRze+pTq0hyZyjSd94mmDGacNmGyL0c/XXrfHD9gfnVmRvjdVs12a9al9DN4zqu+7OMeY6Qm/xh8DbM0R+eB78RxAEQSgimbl9TZ74V1Mk0JlPrqOUKlwfOvdasR2Rz6aJXppk9n4zd6UJXdCZutcurfaIZ3mM+wEmLwZaXnTy09dwuCYJ3E1RCPPSJD6fYqjfxcw9CegEQRCeF1oYzOkEH6lSwFF+dXjwsXdkMR4Cw0MMHevZa2V2zs8hhmw2ul86xKnLMarzSLXIk7g8yuiP4/jf2Uq2c/wwcdmG7Xfd9DrGCPzU6F1+4lZtU4rwGa0k9lOAqb/EMLQRFos/BH5dZ+WzETQSTE0HSdeuRBAEQegg9lFmrmx565lB7NNxTv2hF5vNxiHnGHP/zta4LcbChVMc6S0sNfX+4RSTN1JYSWe/jzDz9iCHbDZstl6OvDnOwl2LpakbQ9hsNmbugXF3gfE3zWWqw4OMXUtYlm1JNkXk8hiDh82lsMODjF2LYTxr5OYEM7ZeRm8CN0fNZbKy5b97M6WltccJFi6cMttVvlSXJXVrpvS+Xe8RTl1YIFbV5AQzNhu2t0KkN9mzlyNvThIyl+U22aL3CKcuRkg31Jadkb7hQf+7neANH67/amdNZTZnisGaS7SN2nXvML6LEgXcV/x4ij8EDvTg+NMCC+eA2wtEKjOjpr++ZvY72+FBxi4GiP5U9PiyPlrh2+V9dHM/O8Tg2wskG+40giAIQtOoFhCfRoGugo92UkpGBYdR4FTOARRUXk7lT+Q23ZFL+JVLs5JFOafjKlch67SQA025rmyWzYT0QhkDzgbKLurtV/Fy5dJh5emz1k07G1RrW9ojrvyW+pr1JPwKUK6zngobFJ9DTsWnrfVHc1XY0qxL05RmKe9WI8N2y7IcFXZumEdBpYNiOl5XbO1rr3KWPft6vrZzP6xl83I9m7FrEzVvqXsNP7Mkp5bfQ4FLLf5Y/e3aFwX/HvkqU/qwjr8yHFSZTTpoSrPsd06ln3FZ+9BGGYIgCEKraWFmLsLoK8VMRi9HXGPM3LLOkNUngfHKLEupdXJKoVSOTNSHs3JpKJ9k7q9TxA56CSaLsgr1ZI2l950kLnlZKGYe8jH8p6dIaC580cyG7HoyiHfAIPbBREm2XJPHvcxGV1nPFeRzj5bwDUDikp9g3WUxg8glL4GnbvyxNXK/mrrlCstcfDnKzK2tLOPEpzIEh4HhIJmN5TQf5YuFsS9j9Ly7xOovxe/DjLwM+bt+9EsJtBM+lh7lSstsIS9OI8bUXxeo2hNrGHQPz7KcNuVzawTPamBECd0E/eoya0/MejJhvBokL4WJt+n1q/y9GUbfDGMPBfENdDV41078sMzmlcuZ5hLttuzaUsozhocYfMsqu2wuz9NDt4XZ7PZ+AFI/Z8xPDEIXhwj8pOG+skwmV/LXtcQiEwcrCzGgf6LU735dZ3naCSSI3FjlyF+DrPxi2mZ9hdnXgZsBlhpeShYEQRCaohURYSGrsJMslFL1Mw/FTIOugmnzk39NKHCp+ZRFUbllNQHK9Vmh5vWvvQpQ7usWmiRnlQOUdmWlpImZmfMnLIr+14QClP5FsSwLvX9cVC5Q3qhVlmZNLZ5E8d5yAxkts2yrrIaZmdOt2qTW1dJ5FLgtMzMrVx0KNOX/rviJmZE6bfGsvvVVtLfEjjJhW2Xm0kE1olVnWLfOzLXTD5u1a+M0nplrJBNdlK1Rnuk7G7Y3/VXb0ieL5fqqbZM2n+eH1Var158EQRCEndOSzJzzw4qXsXPrrMX8uDUwvpwgcHenqZsujjh0IELaTEKkvo8BMcb7LY5p6H6NOSBmmHv4vg8DLvRX7dVFHxtkCDCSqYZeyO/qP44ORB7Wls6mksSABXe3xREShxi7Azw0tpG1tFKo2+LDNMlbwEkdV1/1t45XhwCDlR8r2nAAqkrT7LgADlTXY+/Tt6Px1jxNMHNmlNjJIMEPnTSak2u/H27Tri1BY+SrivY9yRQygjSSLa5N0V9HTw42aGsLn9M07AC/s/jKfnx7igmCIAgN0Z4NEF092E/4CP7dAxgE7qVaXkX+aeOLWflnBrWWnNpB/mlma6H2agAG0NNtNe02R1c3u76P9vsYU/fA+HLUfIm+dA1egtJSar1z2WiDH7bQrq3gBQ3HmXkWrjqAKLFkY0Fk/sk6AI4XCh2i6K8vvbiDDtLVzUvbv1sQBEHYAQfaWXhPbyETZjzb+UtVuWcA2obGXQc0YJDgo8I7YvUoyGbJteLdLnP3pnagzsRnfudPKHwDLaizabpAA7I5cntR/T6jdX64P+3a+7IdSJLf2Fncg3YQavl8xii8edr/cm/hA9Nf15/koeE8qCAIgrBfaOvRJOkHcQD0g9oWkluWROxGBBjCYS5v2Y8OARHC326djSjIxojctThZ636cMKA5+mlEy/SdIBFg6KjFkq2Jdvg4DiB8J8HeHM1qx3EauBMhZrH0lvw2DGgcP7zT59ImBnzW58QpRXwaSmfJbR3IQ7N+WAyErMK1/WjXPKvJQvv6XynW24W93w3EiHxb6fNZkncjgGNDz6K/Bu/E98hfBUEQhJ2w82Du3hynLiwQuZ9m469M5bMkb4wz+ucooDN0onbgU02alfvpUpbhaZroB6OM3QbtfR2XuebXc1LHp0FkRGf88wTpp6US8kaK6KfjTN4yNslG/zzK1G1jY8LK3g8xfn6SJE4mX3dUa5JMlsp9lid9e6rQJs2HfrLO4uMxHe/rkLykM/RRlNTj0hSZz6ZJ3Jhh9G/t3PPYg2vYh0aUsbNTRH82639WeC7ei0kYmMT9xzaqsNu0zA+76H4RIEDwZuUPhb2zq3FzjNHLIWI/GJv6RuyjIUavGXDMz6myeu2v6riB6AdTBO5nS3r+04v3c2DAg/uYKWz6q3FtlKGPYhhl9kvfCzB5MdLEAc+CIAjCrrPjLRTFnXE1znAbCTW2h3Cr3XoM+FX8yeY76p0zByg9lNkk2+w5c9ZX5Xl3zZ8zRwPnq20qu95u1lCt07u2cc6cVT3mrlOregp2amI3a3EHa42rkd2ONXd9tswPlcrFfNVnpbXhnLl6u28rn0VzPlnQc+VKDT2t5M3dw/V1qbfT1/QhK782n43sZhUEQWgPO8/M/dHLanSRiXMunMUdflo/rnN+wg9SBM80k5UD8DAb8uMZMO/rc+KZDrN6x4fzhc2SXQM+lpNxgtMeXEeLS0x2nMNeZkNxFk5rm2SjD8L4zzkLu+7Q6H/Dy3wsyfL71jsmPR8Hy+TtOM/5CadijZ15dlBn8bs1lj7xohfbgkb/CQ8T15dYPd/uPy3VhfPDKKuRMltq/bjPz7OcXG7i3LYOoYV+2HViilhoAnfRp/qc6FoxE7s3dtVOLxAPzeIddtFfdOs+J/r5eZYzcYt6u3C8H9usZ9GHH0Sr5Q+OEHywQnDaU7JfnxPPdJD4x3pDryAIgiAIe4NNKaX2WokCBqG3ehm96SdecTDurmtyY4jekcgebmAQBEEQBEFojH30t1kFQRAEQRCEZpFgThAEQRAEoYORYE4QBEEQBKGD2UfvzAmCIAiCIAjNIpk5QRAEQRCEDkaCOUEQBEEQhA5GgjlBEARBEIQORoI5QRAEQRCEDkaCOUEQBEEQhA5GgjlBEARBEIQORoI5QRAEQRCEDkaCOUEQBEEQhA5GgrldJ8GMzYbtrRBGm2rI/nuOMechbDYbNtshBj9NtqkmQRAEQRD2mtYHc/fnOG6zMXOvtkjiss0MNGpclxMtV+u3Qv4/M7hfnSRwL21+kiaRze+pTi2h3X7VQPnWGITesmGzzbCbXpu9NYbNNkTo5630qn0N3bD6OZHHuBtg8u3XONJryvaOEWnXLw9BEARhx7QwmMuTfRhl6t1ZJA+0V+SJfzVFAp355DpKqcL1oXOvFdsB7farDvPbZ3mM+wEmLwZaX/bTJHNv2ul1jTH3eYxUMYAz1sk/a311giAIQms40IpCjBtD9I5EmrxLJ/gozMjLrdBAKJDFeAgMDzF0rGevldkx7far7ZW/dyQu2xi81OxdfuLKx9bhfJrQBTeT3xjYh2eZn/bg+u8euralqSAIgrCbdPA7c2XLW88MYp+Oc+oPvdhsNg45x5j7d9b6rrsLjL95hF6bDZutlyNvThL63lo2+32EmbcHObQhO87C3er1JuPGEDZziW5T+YcHGbuWwLp0qwpTRC6PMXjYXN46PMjYtRhGQ1mRBDO2XkZvAjdHzfaVlv/Kdcz/EGFmpGiDsuXBCjvaDg8ydjlCqqoBpff+0kaMhQunzCU5054/FJZ1N9mi9winLkZIP1cZnjKbM8VgrSXdhu26d2S/mWPiSwPtvSVWvprA3UggZ/rra+Xtuhgg+lOxYeIngiAIu4JqMZmQrgDlT9SWiU+jQFfBRzuqSQWHUeBUzgEUVF5O5U/kyuRzKn7FpbQqOStZpXIJv3JaymrKdSWuyqWLbXYOOC3kUc7pcvm48oNiOKgy5RWmw8rTZ1UfSjsbVGtb2sMst+ryq3iZjvo5j7JbfK/Umgqe1Szrp8+jwmmLujTN2p6aW40M2y3Lckxvtl2jtNuvGinfosYaNkcxHTdlmrFrEzVv2dZi/yg+33oUZT0q/EuDCtTx15Jv776fCIIg/BbZw8xchNFXipmMXo64xpi5lWo8i7VBAuOVWZZS6+SUQqkcmagPJwmmpoMUtwHk/zPHxAcx7O8EWfklt/E+WS69hG8gwdT5hdI7U/kY/tNTJDQXvmjGLFexngziHTCIfTDBwn0LTR73MhtdZT1nlv1oCd8AJC75Cf5Urw0GkUteAk/d+GNr5H4133XLrbPy2Qh8OcrMra0s48SnMgSHgeEgmeL7chVLbJHbafTrcTK5zd+nPx9n9EsD+7lFVn4p1p9h+Yob7acA3qvR6mdjGHQPz7KcNu2ZWyN4VgMjSugm6FeXWXtilpUJ49UgeSlMvK37MVrlV41QZnP8xDdsXnpPcVt2bSnlGcNDDL5lkV3Or7JyE3ijn67vKjLXrjHmqrLRBqGLQwR+0nBfWS75Um6dtcQiEwcrcnr70k8EQRCeI1odHTaeQdlJFkqp+pmHnFp+z8xcpMv+fXJerVqUlPvXhAKXWvyx8O/1r70KUO7rFpokZ5UDlHZlpaE2F8pG6V8Uy7LIzP24qFygvFGrXMSaWjyJ4r3lBjIVpk0qs35lOvpiVvetqNljKDSfWq6qZF2Fz6FgRIU3CjXbcNriWX3rq2hviXZnznbiV9vLzClV3w+btWvjNJ6Zs742ZYsfBZVeK8NoJW/6q7alT+6+nwiCIPwW2ZPMnPPDsgxG8Rd9zI9bA+PLCQJ3d/qTvIsjDh2IkDYAUiTvAHfGOWJxREP3/84BMYzHhbvT34cBF/qr9uqijw0yBBjJVEPnxHX1H0cHIg9rS2dTSWLAgrvb4giJQ4zdAR4aLcngdHdbfGikWbkPnHUxWPWiVA+DJ3UgROphxVcHoKo4zY4L4EB1RfY+fVs6N0r7/apJtmvXlqAx8lWFPZ5kWAl5cVIjW3xsgmCyLDP8a461qK9KvuivoycHG9sgsc/8RBAE4Xljf2yA6OrBfsJH8O8ewCBwL9XiCvLkLZZFa0o/M4AeundpK1/+aWZ3KqrFszx5gBe7d757saubfbOPtu1+tQWttGsreEHDcWaehasOIEosWfED4/BxXMfsdBX3uB/owv66v0q+6K8vvbiDVu0nPxEEQehw9kcwZ9LTW8iEGc92nkHJPQPQzMNXukCj4l2y6ss3ULi364AGZMm1IpFj7srTDtSZ+Mzv/InauqmvRtBaoE6t+rsAnuR4Hl9TaqVfNcU+tWvvywV7bJwdV9TzGeQalAdYf7KfWiUIgvDbZV8Fc+kHcQD0gzsNW9LEbkSAIRx9AHYcp4GbYWI1T8wvYT86BMSI3E1Xf3k/ThjQHP0NBVfpO0EiwNBRiyVbE+3wcRxA+E5ibyZ9zc7xY8CXUeJPK7/MEr8TAUboP7j7qrWC1vmVFT1oB8EyDNqXds2zmizYo/8V0x6aA9dJ4FaYRFX/yLP6YLN80V+Dd+L7KkgVBEH4rbL7wdy9OU5dWCByP83GX5nKZ0neGGf0z1FAZ+hE7cCnmjQr99OlrMHTNNEPRhm7Ddr7Oq4egB5cwz40IowOjxO4Vyb/LI/xQ5SFC5NEzIms56SOT4Pon0eZum1sTFjZ+yHGz0+SxMnk645qTZJJ0k9L5aZvTxXapPnQT9ZZVDqm430dkpd0hj6KknpcmiLz2TSJGzOM/q2df5/Agf4XNxhzjF4IkHxcrNwg9tEo3s9BOz+Kq22pwRbQcr9qlC66XwQIELxZ+V7k3tnVuDnG6OUQsR+MTX0j9tEQo9cMOObn1B+L0nZcZ9xAhIn/myL6s2nAZ1mSNyaZ+qhC3vRX49ooQx/FMMrsnb4XYPJipG1/d1gQBEGwoBW7KIo7Aa2vil1+CX8dWU2NhBrby7rVbj0G/Cr+pFy+3jlz1bvntnPOnPVVeYZd8+fMsencsgZsUmc3a+3dmts4Z86inuLOSD1UvUWzoEPjuxTb7VdNlV+HXMxX7VdtOGeu3m7dymfRnE9uoafmqpZPB9WItpUuu+MngiAIv3V2PzP3Ry+r0UUmzrlw9pmfaf24zvkJP0gRPNNs9sTDbMiPZ8C8r8+JZzrM6h0fzhfK5bpwvr9MMhHEf85FfzEb0udEPz9LMLGAXvYnoLoGfEQfhPGfc1IoWaP/DS/zsSTL7zstX2j3fBwsk7fjPOcnnIrhG2jgRfGDOovfrbH0iRe92BY0+k94mLi+xOr5dv99VTsj15Msf+LFfdQ0TtGW3y2i7/cl1pb7VeN0nZgiFprYZDddK2Zi98au2ukF4qFZvMOVvj7PciZu4ZN2Rr5IsXJ9ouR/Wj/u8/MsJ5er5Q+OEHywQnDaU7J3nxPPdJD4x3r73u8UBEEQqrAppdReK7E9DEJv9TJ6s9G/PdlGTcy/8elPlDZRCIIgCIIg7Ab7agOEIAiCIAiC0BwSzAmCIAiCIHQwEswJgiAIgiB0MB38zpwgCIIgCIIgmTlBEARBEIQORoI5QRAEQRCEDkaCOUEQBEEQhA5GgjlBEARBEIQORoI5QRAEQRCEDkaCOUEQBEEQhA5GgjlBEARBEIQORoI5QRAEQRCEDkaCuV0nwYzNhu2tEEabasj+e44x5yFsNhs22yEGP022qSZBEARBEPaalgRz2R+iBC6O8dpGANHLEdcYM7dSZLe6+f4cx202Zu61QhMh/58Z3K9OEriXNj9Jk8jm91SnltCAnyQu20z/q3FdTmzIGjeG6ss2HHAbhN6yYbPNkNhStnVkb41hsw0R+nlr2fzPsUL//EPvRv8cu1XRsmya6OeTjP3vIIfM9vf+4TXGLkdIbdmJBUEQhL3kwM6LSLDQf4qpTZ8ZpO4GmLobYGk6TuxDJ11V9+XJPowx++4sSWBo54oI5Il/NUUCnflkAO+xnr1WqAWIn2ziWR7j+yBTFwOAvoVwnuTfhnC/G60ISg3WK+L7xKeHOHVp82fG9zEC38cIRP3E7/hwvrBj7QVBEIQ20ILMXBddZ/wEE2usP1EopVAqRybmx61B4tIUwZ8231HIinTzkv0UM3fbtdj4WySL8RAYHmLoOQjktucnOsFHRT+suD50bkhpZ8LWMkqhflzEDTid/Whtadn2SFy2YftdN72OMQI/bS2fvuEpBHJ9OrPRVdZzpTaGz1S0rEvHH1pmNZPbkMmll/ANAPem8P5TluoFQRD2Ky0I5hxMhHyMDNjp2fjl3oV2wsfUnwBiGI93Xks1Zctbzwxin45zylxGOuQcY+7f1mtDxt0Fxt88Qm9xOfjNSULfW8tmv48w83Zx2amXI2+Os2ARVBSX7GbuVZR/eJCxa4mtl5o3KkwRuTzG4GFzme/wIGPXYhjPGrk5wYytl9GbwM1Rs32l5b9yHfM/RJgZKdqgbHmwwo62w4M1ltlK7/2ljRgLF05xpLfMnj8U0j6bbNF7hFMXI6Qbastekif22RRRzcvUWccWsmU2Z4rBGku6jdu1hTyOMvduCEObYOm7MBOv99NTnR7fwPleGN8ZF/1aSajroBv/NR8AyacWS/Wmv75W3q6LAaI/FRv2PPuJIAjCPkK1jZxafg8FbrX4Y22pTEhXgPInmi0/o4LDKHAq5wAKKi+n8idym/SJX3EprUrOSlapXMKvnJaymnJdiaty6WIbnANOC3mUc7pcPq78oBgOqkx5hemw8vRZ1YfSzgbV2pb2MMutuvwqXqajfs6j7BbfK7Wmgmc1y/rp86hw2qIuTbO2p+ZWI8N2y7Ic05tt1yiN+El8GgW6Cj7aRgVFkrPKCcr58UoDwrVsjmI6bso0Y9fG2aqtRXt5Iuvbq6BIwl/RHpM6/lry7d33E0EQhN8i7Qnmcutq5XohaHBuMSjvPJhD2Ydn1VJq3awnpzJRXyEQe31xIwjKfVcIzpzvBNXKLyWNcukl5RtAcWxWbUzfuWXl01BoLuWLZjb0X08GlXegEPzNJqvbQJ+uZqOrat28IffILHtTQGsVzGVU+Kym0NzKH1tTuV/L7PjZiNIanpRNm1QGiuU6ai41cT2uMhUPZe26u2DLc4tq5Zdi/Rm1fMWtNFDa+SVV0qAUxNiHZ9Vyutjg8sDFrvSry2rtSVGBsPJqKJhQy9uYpRsP5jYH3v0nPMofWVWNhTTrKnwOhTahlp9sLW1qZvphMSjeTHN2bZz6wVzph9RsdEnNn3erfs38YXDUpTxXl1XmV6v7LPT/zK1AU77Ypp8vZps15b6yXPKl3LpaSyyqiffCm4O5XfQTQRCE3yKtDeaKv+JBMeBR89G1LX9d7zyYs5pEi5OZroLpsn+fnFerFiXl/jWhwLURcK1/7VWAcl+3yIclZ5UDlHallLmp14ZC2Sj9i2JZFsHcj4vKBcobtbLWmlo8ieK95QYyFVsHc76Y1X0ravYYCs1nMYGaAQ4jKrxRqNmG0xYZw299Fe0tsZPM2faCueaym7mEXzlAuT/bOg9aplkdP2zWro1T35alHzo1rwG/im8VsKaDakSzsJ3pr9qWPrn7fiIIgvBbpH3nzN0LMPfpHMH/7MW5Bl0ccehAhLQBkCJ5B7gzzhGLIyi6/3eO8nf70t+HARf6q/bqoo8NMgQYyVRD58R19R9HByIPa0tnU0liwIK72+KIjEOM3QEeGo2/e1eH7m6LD400K/eBsy4Gq96r6mHwpA6ESD2s+OoAVBWn2XEBHKiuyN631e7LneH8sGIjQ26dNXMjjvHlBIG79Y5oSROcniKp+Zg4a/Hct8N27doyHEx8scLaE2W5qcF/M1371ocRxk6OEjroJ/L3EcotUvTX0ZODFrvULdhnfiIIgvC80dpgbsC3adIYWV9g7P+5mbvf0lq2QZ58EzrknxlAD90NzVQ7J/80szsV1eJZnjzAi92NTc716Opm3+yj7erBfsJH8O8ewCBwL1VTNH9nganb4L7iwdWq595Ku24LO8dPOLCXHSnSddCN/x+zOIDo3aT1D5KHIcZODrH0ip/47eojSYr++tKLO2jVfvITQRCEDqdtmbmug26mpieABMG7u3+sQe4ZgGaepNcFGjAcJFPrOAqlChkLoOuABmTJteKsXXNXnnagzsRnfudP1NZNfTXSvmMyDnQVgo0nOZ6D44Wr6Okt5JWMZ7Val2Th0hzGMT9TZ1qUlYM9tWtX0d2sdoX+vreQactXa5X99wyvOUdZ6p8l+rUPp1XEZfrr+pPn0VsEQRA6j7b+Oa/80706Oj5N7EYEGMLRB2DHcRq4GSbWwIn59qNDQIzIXYtlqPtxwoDmaOwMsvSdIBFg6GjtIEE7fBwHEL6T2JtgSrNz/BjwZZT408ovs8TvRIAR+g/uvmqtIP0gDoB+0PqJZb8JMHsP9IsenE0nm3rQDgLkqr/aM7tqOF51ARHCiercW/7HVeIA/20v8+E8qc/HOP7qFLlzy6S+nsBR45Dgor8G78Sfy+BfEASh09hxMGfcHGP0cojYDwb5YhYgnyV9d4bRCwHAweiJrc7r2glpVu6nS3U/TRP9YJSx26C9r+PqAejBNexDI8Lo8DiBe2Xyz/IYP0RZuDBJxAz0ek7q+DSI/nmUqdvGxoSVvR9i/PwkSZxMvl7dpnQySfppqdz07SlG/xwFzYd+ss6i0jEd7+uQvKQz9FGU1OPSFJnPpkncmGH0b+3MbjrQ/+IGY47RCwGSxXMB8waxj0bxfg7a+VFc++kE3UruzXHqwgKR+2k23KzNWQAAIABJREFU/npZPkvyxnjhGaAzdMIioM4nWLi0gHFslqnKg3QboovuFwECBG9WBk57Z1f7iRHcQOTdah+e/GAGAwd+d9GHDaJ/cXHk7Riu66vErrjqL4Ga/mpcG2XooxhGmb3T9wJMXoy07e8OC4IgCBbsdAfFxpEXNS6ro0nq32N9xINFzfV37FXt1qt3zlz17rntnDNnfVWeYdf8OXNYnfNVzyZ1drPW3g26jXPmLOpRj4JKB6WHqrdoFnRofJdiU35SvpPa4pmNhKx3qLbiPLZczFftV204Z67ebl2rZ7EWGqnh75U+XOe8vLJrk++YO13r67I7fiIIgvBbZ8eZOW04wGp0kYlzLpx9xQ/7cZ2bYDGWIW75d1lbiYfZkB/PgJl16XPimQ6zWvW3JLtwvr9MMhHEf85FfzEb0udEPz9LMLGA/nKZ9ICP6IMw/nNOcyefRv8bXuZjSZbft26T5+Ngmbwd5zk/4VQM30ADFjios/jdGkufeNGLbUGj/4SHietLrJ531r1959gZuZ5k+RMv7qOmcYq2/G4Rfb8vsf7RW8MP/YQfpAhavQv3NMbsuxEYmMV7evuv43edmCIWmthkN10rlrd3drWfCZL6bpGJ4cZ9uGEOjhB8sEJw2lOyd58Tz3SQ+Mf6vvozaIIgCM87NqWU2msltodB6K1eRm/6iSsf7Q516mpyY4jekQj+RGkThSAIgiAIwm7Q1g0QgiAIgiAIQnuRYE4QBEEQBKGDkWBOEARBEAShg+ngd+YEQRAEQRAEycwJgiAIgiB0MBLMCYIgCIIgdDASzAmCIAiCIHQwEswJgiAIgiB0MBLMCYIgCIIgdDASzAmCIAiCIHQwEswJgiAIgiB0MBLMCYIgCIIgdDASzO06CWZsNmxvhTDaVEP233OMOQ9hs9mw2Q4x+GmyTTUJgiAIgrDXtCeYe5pgxmnDZhsi9HMducdJItfGGdoIPGwcuiaBx07I/2cG96uTBO6lzU/SJLL5PdWpJdyf47jNxsy9BmQb9KvsD1ECF8d4bUOulyOuMWZupcg2rJhB6C0bNtsMiSaas1Oyt8a27l8m+Z9jhXb+oXejnWO3LH5KPE4SujzG4OGCzWy9Rzh1YYHow+fAfwRBEJ5jDrS+yDShCzpTW0y66W/GGX1zoWoCTOdl4tg+eeJfTZFAZz4ZwHusZ68VagF5sg9jzL47SxIY2kK6cb9KsNB/iqlNnxmk7gaYuhtgaTpO7EMnXTvUvuU8y2N8H2TqYgDQtxDOk/zbEO53oxVZYIP1SnM8DDHqHCVULmikiP5jnOg/gvgTMXwD+84agiAIAi3PzOVJXB5l9Mdx/O/Ukbo3U5hwNRcT1+OsPVEoZV4fOlur0m+KLMZDYHiIoecgkDNuDGGzdfOS/RQzd7delG7Or7roOuMnmFhjfUMuRybmx61B4tIUwZ/a067tkrhsw/a7bnodYwQa0C19w1MI5Pp0ZqOrrOdK9gif0cokDUIXRwkZGu4ryyW7/brOSsiLkwRT5xeQnLkgCMI+RbWQtdCI0rQRFUwrFZ9Gga6CjyqlVtTsAArcaj61k9oyKjiMAr+K/5pRy594lfuopgBlH/Co2W/Xre+KzSvvG/1KAwWa6n9jQgUfWMuuPwgr/zmnsm/IetV8LFNdZkhXgPInKsrvcyrP1bjaXHpc+UExHFRVJa2vqvC0Rzn7UGzcv6wyvzZiD7Pcqsuv4hU65lJh5T9TtEHhe6WUUhV2pM+pPNNhtVplnlIb1jLLav68W/VrZfZM5aptrfUr93thtdZQWzbbtfzyJ2pJt8qvlIp/uFVdG5I1bI5iOl4Sa9iuW9Q2XVmPVf8y+WVJeTUU2oRa2rKeYjt8Kl71XVk/q/zK9FdXebveW1RLPxYr3B0/EQRB+K3TsmBu7WuvcuJU/kRhgK4ZzCX8SgPluLqywxqLk4xTOQesJtSSLgVyKn7FZQYwW8kqlUv4ldNSVlOuK3FVLl0MOpwDTsuJ3TldLl8jmEuHlafPqj6Udjao1ra0R2PBnH7OYwanm79Xak0Fz2rWgUmfR4XTFnVpmrU9NbcaGbZbluWY3my7/5+99w1t48r+/1+CLNjQggv9wBh2IQourEMXrPD5gGW+fRCVLEQhhYxxoRL5QSpvIZFb2NoJpHLzwJFTaO0utHYXip1CixRokAotVqBByoNdJEMXK5BiF1o8gSxooAULEpCggft7oJElSyNZtmU7Ts4LhpCZO/fP0Rnft86de9Qq1WLUlrb5VUElL5ZE4dzPm5VtRcxtxa6t0/jLUomyvQLxVhRj+VlyqdFEbfllNXMCxcm5jT7YxF8rvr33fiIIgvAs0hYxVxI+mvJFK3/uG002q597FKBGv0yrSE0USr8Y2UK0ojwBoZxDU2phZc36419QuUSoJMSqJqDCDyVx5n47opZ+rUwTBWNBhfpR9E2pdRlQSKqQhkLzqFAitz6prGUjKthfEn9T2aqelCNIPbqaSiyrNeuGwgOr7g3CwE7M5VTsrKbQvCqcWlWFclSisKaWPvcpbauTsk3Ub72PmkeNXk+rXM1MuXrdW7LluTm19Gu5/ZxKXvMqDZR2fqEqwlgRMc6hKZU0ygOuFi5OpX+YVKsPyx2IlSJFjKrkNmbpzcRcW/yqsKaWrpfErrtlMdEkcqW2atfWaS7mKoJ0KrFQFRFDaS977KO9RkT5rDLOk0E1E19Sq2urauGyW6F51dyGaGd5zJryXktWfKmwplYzc2r0YmyjmNtDPxEEQXgW2bmYsyaB2smv0WRTv1RU+229tEy7Oc0m0fJkplt1Wf8/MaOWbWoqfD+qwLMuuNa+DSpAea/bxMOyU8oFSrtWiQA1ExqlulH6l+W6bMTcz3PKAyqYsJu9VtXcCRQXky2Ii83FXChld9+SmupDoYVsJtA1FTuHAp+KrVdqjeGMTcTwX6Ga8VbYLJrUdGSbiLkd+VUmXCnXH1AzidUtRIWa+eFW7do6zW1Z+aLT8OgPq/TDmtuMmAr8ubasT839XNN5y1+1TX1y7/1EEAThWWRnGyAeZZh8w0/qRITIFnf+6R8nWf61sP5CduHXJebOamBGGf08xc72tHZw1KUDcQwTYIXsbeD2CEetVBXVR+dfp4EU5m+lu40fY4AH/RVnfdV9AwwCZnalpTxxHb3H0IH4/cal8ytZUsCst7Oubw7HEYZvA/fNLaTLaExnp81J02DpLnDWw0Ddh9jFwAkdiLJyv+bSIairTnPiAThU35CzZ7Pdlztnx361OM/0p9NE/tMGa2/Xrm3DxeiXSxs2ghSMBUL9wOI44ZvGesni4iSvugdZPhFhaWWJ2PVRfC9rQJThVwaZvluxXNlf/ScGWnvmn0A/EQRBeJrYmZj7McX4Iphf+TlSI0IGrgDE8f/JPt/cMbeH3hcrU0HHiy4CH88SAMwvMqzsqGO1FCne3ULpxybQReceZWIoPsrtTUONeFwsiZznO3eeiqOjk/3cR7stv+oPbRA7vrVZhv/Py/QWfMaWdtp1Wzg5dtyF87nKmY7DXsL/nMIFJO5kS19IiinCZ8ZJueaIfOLD9WcX+rkpIvdyrGXn8JFg7OQYCevLTtlfX3h+B6PaZz8RBEF4mtjzX4DoOFRKiVB4bHPxxW6cACY7jMyV69esTHodoAFDEXKqKl1FzRHqr+5jnkI7Ut5Z49QONZn4rGvhTOO+qa99aI1r2BmHOkpi42Fhx3bfL9rlVx2HvYxPjAIZInd2mIxjH+3aUXa3ZvYo5967m2HSBNxHqY1Fd/UFGLvkAnOWVNYqb/nr2sOD6i2CIAhPFzsTc1URjdojPQGgE3mgUCqG74+lW3r/1w9A4k6mfoL7ZZk0wBnnDoWLQepGHBjE1QPgxHUGuBkj1ULGfOfLg0CK+B2j/uLdNDFAc/W21EfjdoQ4MPiyzZKthfbSMVxA7LaNTfYCzcmxPuCrBOlHtRfzpG/HAR+9h/e+a63STr8qPtrKEmsX2mGAQv2lfbOrhusVDxAnlqlf3i/+bNnjzzX2MHK2S/m1keOyv0Zupw+s+BcEQXia2PvI3CteQhpkr/gZ+SJL3oocFP+bYvLdcRKAPuSpixA0xmDprkGxHIF4ZJB4z8/wLdAu63i6ALrwDIXQiOMfGmF+sar84yLmTwlmL4wRt4Re1wmdkAaJt/yM3zLXJ6z83Sgj58fI4mbspKu+J9ksxqNKvcatcfxvJUALoZ9osqjUpxM8CdkrOoMfJFj5rTJFFvMGmRuT+P+xmylbXejveMGcxn9hnuxv5cZNUh/4CX4B2nk/nl0LDe6crfqVeXMY/9UoqZ/Mii8U8xh3JvFfmAdc+I/Xf8Y2LdP5PMA8kZu1wmn/7Oo87sMLxN+t9+Gx9yYxcRH2WuP7s4ugBnwRxP9BquLDxTzZGyOMXjFBC+JxWeE+y1/Nj/wMfpDCLFbKG4vzjF2K79rvDguCIAg27NbOimY70hrncEM5z8VayKmm1KY79up26zXLM1ff1+3kmbM/anPYbT3PHBvylrVgkya7WRsnwt1Gnjm7xMcPIkoHpUcbJVdufZdic7vW7x7dil81r3srqUmUKqRC9X61C3nmmu7YtfksVqO+Bv5e78OlPJGNfTj4bc1TWZXKpHFf9sZPBEEQnnX2PDIH0NEfImUsMHXOQ68VlXD2BwjHl1m6rm8hKgcQYCoaJtBv3dXjJjARY/l2CPdz1eU6cF9Oks1ECFe1S48b/fwUkcws+h839jFxL0b4nNvqj0bv6SAzqSzJy/Y7dwMfR6rKO3GfCxNbafE3LQ/rzP2wysInQfTyWNDoPR5g9PoCy+d3+2fOnPiuZ0l+EsT7smWcsi1/mEN/gpdYy2zFr7SheZYTc4ye8+DuKZ/sxXNulLlUjvQWdmd3HB8nFR3dYDddK0di98+uzjcirPwwx+jQ5j7sPD1D4ucFZs7rFXv0uNHPz5DMpZk5XfNUHvYRubdEZCKwoXxgIkL6Y3333u8UBEEQ6nAopdR+d2J7mERf78Z/M0xahdjPX3Q1bwzS7YsTzlQ2UQiCIAiCIOwF+xKZEwRBEARBENqDiDlBEARBEIQDjIg5QRAEQRCEA8wBfmdOEARBEARBkMicIAiCIAjCAUbEnCAIgiAIwgFGxJwgCIIgCMIBRsScIAiCIAjCAUbEnCAIgiAIwgFGxJwgCIIgCMIBRsScIAiCIAjCAUbEnCAIgiAIwgFGxNyek2HS4cDxehRzl1rI/3uaYfcRHA4HDscRBj7N7lJLgiAIgiDsN20Rc5mrDks4NDiuZjaUz/+UYP7SMK+uC45ujnqGmfxmhXw7OvQMU/zPJN5XxphfNKwzBpl8cV/71BbuTnPM4WBysYWyv2WJfzTC4Lp/OTjykZ2gLWLcmmXktaN0l8u5h5m8kd2CH5pEX3fgcEyS2bxw28h/M4zDMUj0v/bXN30ma5/LoknmxjQjr7/K0W7r+ksDDF6YJbVb3zoEQRCEtnBo75vMMNt7ivEN50xW7swzfmeehYk0qffddOx9x54CiqS/HieDzkx2nmBf1353qA0Uyd9PMfXuFFlgcJPSxncj+F+brRNWRrFW0BbJXPUwcGVjSWNxnvHFeWZuRUh/6cO5w963ncdFzB8jjF+aB/S2VWt+E2TAF9948pcM8V8yxL9JE8lE8B1uW3OCIAhCG2njMqtO5IFCKZvjfXdVuQ463ggTyayy9rBcpkAuFcarQebKOJFf2terZ4s85n1gaJDBp0DImTcGcTg6ecF5isk7m4eHiouTJSGneRi9nmb1YSMfBBan0a9koD9IJLtGwSpXeJAkfFrD/MrP9HdPVpw4c9WB4w+ddLuGmd/kGXG/3+BZVIrC96NoaAT7eis3dDgJfrLAcq5iC/XrEpG33WBG8X+W4imI7wqCIDyV7MM7cy5GoyF8/U66niuf60A7HmL8bwApzN9aqadqeeuxSerTEU79pXt9qWz63/YTsXmnelmtm6OvjRH90b5s/sc4k28OcGS97AizNqKiJDpKS4Ab6n9pgOGPMq0v2eVXiF8dZuClyjLX8EcpzMet3Jxh0tGN/yZw07++bFhe/qvuY/GnOJO+sg2qlgdr7Oh4aYDhq3FW6gZQee/PMFPMXjhlLc1Z9vypNO1vsEX3UU5dimO0NJbtkGX27+Nk8DJzJ8nUOTfO5xqXNo0lTEC/MIqvr2s9EtzxRw+h90YAyD3aTL5U2ZxxBhotYbZs173AIPKPacz+MQKnK4JfOzPFzNteerWKLXjRhe/dkVL8775Z78eWv75aPa5L8yR+KZd8Ev1EEAThKUS1gfQECnQVebCTWgoqeREFXjX3cyvlcyoyhAK3cvejoPZwq3CmsKH+9DWP0urK2ZVVqpAJK7dtWU15rqVVdelcVFeAcve7bcqj3BPV5dMqDIqhiMpVN2jEVKDHrj2UdjaiVje1h1Vv3RFW6ao+6ucCymlzXalVFTmr2bZPT0DFDJu2NM3enppX+YactnW5JjbarlXK/Q9nGhTIhJUGyvXhUmsVWuUZmlHLDzdeKiSCCjQVSm3W00Y2RzGRtspsxa6ts91nbu3boNLQVPDbtdZu+HlOeUBpl5MbP7cm/lrx7b33E0EQhGeRNoq5jYKn93hAhePLqqUpo7Cmlq6XRIa75T/iZTGHcg5NqYWVNeu+gsolQiUhdnJuXQQVfiiJM/fbEbX0a6WFgrGgQv0o+qbUugwoJFVIQ6F5VCiRW+/PWjaigv0l8TeVreqJJTTo0dVUYlmtWTcUHlh1bxCodmIup2JnNYXmVeHUqir8XmWXz31KAxWIt2JJyya1QrG6j5pHjV5Pq1yNkVeve0u2PDenln4tt59TyWtepYHSzi9UfZYVEeMcmlJJozzgauHiVPqHSbVaFkq5mApqKBhVyW3M0puJudXPPQpQo1+mVWQioNxlodHjVvrFiFquM19BpScs8a31Kt9ERCVXciqXnVM+DeW+mGzNd9f9sCyKa/q1Jbu2zvbE3JKa6tv4XDSjYCyo0HFNoflUZIPoLI9ZU95ryYovFdbUamZOjV6MbRRze+gngiAIzyK7JOZajCplwpWy/QE1k1jdwrfxZpNoOcqnW5OQ9f8TM2rZpqbC96MKPOuCa+3boAKU97pNz7NTygVKu1aJADUTGqW6UfqX5bpsxJwV/Qgm7Ea/quZOoLiYbME2m4u5UMruPmuS10I2E+iaip1DgU/F1iu1xnDG5rP9V6hmvBV2EsHdTMw188GSYKsVJEopVVBL1zz1kdTLrQo5pZr74Vbt2jrbsWXJhpoa/b6ZJ1W+JIGmvJcjFRFaphyt29Qn995PBEEQnkXa8s5c3cvWhTVWrQ0N5lejzN9p4dXpxXmmP50m8p92vEjUwVGXDsQxTIAVsreB2yMctUnR0PnXaarf1TN+jAEe9Fds9jL2DTAImNmVlvLEdfQeQwfi9xuXzq9kSQGz3k6bFBJHGL6N/TtL26Cz0+akabB0FzjrYaBuG3EXAyd0IMrK/ZpLh6CuOs2JB+BQfUPOnvbtvmyE/nGS5V8LlZf9f11i7qwGZpTRz6tf4jeIv3mUY590EE4ts5yKMHXeixPIfPAq3ncSGI2baY3t2nU3KKaYeTcOJ8MET7S6V9wk8UWYqX8mNrzDVvZX/4mB1nadP4F+IgiC8DSxOxsgOrpwHg8R+SwAmMwvrtiX6w9VJl1jAd/aLMP/52X6brs7VKS4hTqLj02gi849yo9SfJTbm4Ya8bhYEjnPd+48JUxHJ/u5j/aY20Pvi5VRdLzoIvDxLAHA/CJD2RONL0YY/KLA6JcxQsd76T3uY/SzBVYLORYuu8l8egr/P3aYbLmddt0hxlfTTJoaoYv+TdKtaPi+rnwpW5pwkbpyioF3EutfJsr++sLzOxjVPvuJIAjC08Su7mbt6i5NG+bjzSNzHYe9jE+MAhkid3b+iwWFxwCalUmvAzRgKEKuQboGpRShfqsvhzQgT6EduRisiIZ2qMnEZ10LZxr3TX3tQ2tDdxq13wHwsHBg00+UPrPy517Di90lAWNijc8kcysBDHCst+Zz6dDwXhonCGRuLe0sOvek2PW3BNNXEjA0zcjxLQiwji5cfwsTPgHmPxOky2rO8te1hwfVWwRBEJ4udlXMGffSAOiHW5MhxUftytVgkLoRBwZx9QA4cZ0BbsZINciYX43z5UEgRfyOzVR+N00M0Fy9LYkr43aEODD4cuN4iPbSMVxA7HZmfyZ9zcmxPuCrBOlHtRfzpG/HAR+9T3DS2N7/9QOQuGNjw1+WSQOccdZ8ZgY5uzQ4j/K0HivtQjsMUKi/9ITYNftVmFnTRfhdfRtfCPLkf914puyvkdvpAyv+BUEQniZ2LuYWpzl1YZb4XYP1X40q5sneGMH/VgLQGTxeETLmzWH8V6OkfjIpPq6UN+5M4r8wD7jwH3dtoQMGS3eNSl2PDBLv+Rm+BdplHU8XQBeeoRAacfxDI8wvVpV/XMT8KcHshTHiltDrOqET0iDxlp/xW+b6hJW/G2Xk/BhZ3IydrO+jkc1iPKrUa9waL9lAC6GfaLKo1KcTPAnZKzqDHyRY+a0yRRbzBpkbkztf8muKC/0dL5jT+C/Mky0LnKJJ6gM/wS9AO+/Hs2uhwZ3T8YqXkAbZK35GvsiStz7f4n9TTL47TgLQhzzWEqOG6xU3kGXs/AjRu/n1z7h4P8XkhVHigPvksRZ+AaKDzucB5oncrH0v8gmw63+jhN/NwLlxgv2NonIZpr0jzH6Txaj66beimSX6TpCxu8A5DwNlF7b81fzIz+AHKcyq595YnGfsUnzXfndYEARBsGHHWyiqd6TWHZryRTfuVltPkdHg2E5qEtujP6zSG/KHNcszV797bjt55uyP2hx2W88zx4a8ZS3YpMlu1oZ52raTZ86mHfUgonRQerR+i2apD63vUmxu1/rdo40/M5TzXGzjjsqHS2rqdIPxgtJOT6mlmvxzjSikQvV+tQt55pru2LX7LFRBpSdcClwbUunY1Nw4X16jncBGRPm0zfqyN34iCILwrLPzyNz/BllOzDF6zoO7xzqn9eI5FyZ2b4XIGxtjG9rQfIPyo8ylcqS3/LusAaaiYQL9Vjs9bgITMZZvh3Bv+AWADtyXk2QzEcLnPPSWoyE9bvTzU0Qys+h/rCrdHyJxL0b4nHs9mtN7OshMKkvysn0fAx9Hqso7cZ8LE1tJEWoYEanisM7cD6ssfBJEL48Fjd7jAUavL7B83t309p3jxHc9S/KTIN6XLeOUbfnDHPoTvMRapqM/RMpYYKrq83X2BwjHl1m6rm+Msj3nYjSeJR0NEzheXjIv2TscX2bl21FcTX5BYkO7x8dJRUc32E3XymGsfbTrLxHCV7Jo58ME+poVdDP6IE3kwyD68crrA85+neCHMZZXbH6X9bCPyL0lIhOBynPc4yYwESH98XaWcwVBEITt4lBKqf3uxPYwib7ejf9mmLQKsdtSp2lPbgzS7YsTzlQ2UQiCIAiCIOwF+/DbrIIgCIIgCEK7EDEnCIIgCIJwgBExJwiCIAiCcIA5wO/MCYIgCIIgCBKZEwRBEARBOMCImBMEQRAEQTjAiJgTBEEQBEE4wIiYEwRBEARBOMCImBMEQRAEQTjAiJgTBEEQBEE4wIiYEwRBEARBOMCImBMEQRAEQTjAiJgTBEEQBEE4wIiY23MyTDocOF6PYu5SC/l/TzPsPoLD4cDhOMLAp9ldakkQBEEQhP1md8TcowyTbgcOxyDR/9Zfzlx1WEKjwXE1syvdehYo/mcS7ytjzC8a1hmDTL64r31qC3enOeZwMLlof9m8Mdjcp2wEdP6nBPOXhnl1Xfh2c9QzzOQ3K+Rb7phJ9HUHDscke+m1+W+GGz5f0MIzZvec/ZYlenWYgZes691HOXVhlsT9p8B/BEEQnmJ2QcwZRC/ojDeYdIXdpEj663Ey6Mxk11BKlY733fvdsR1QJH8/wfi7U7Q3vphhtvcUwx/Nk1oXviYrd+YZ14/ivZrhiZQwj4uYd+cZuzTf3nrvR/H/5Rj+K/NkfrHOmSsk/jnCKaeHycUn0hqCIAgCbRdzRTJX/fh/HiH89mZldSIPVEVwVB8HWnzsJ3nM+8DQIIN9XfvdmR1TirZ18oLzFJN3mi9Ka2/E7H1JKdTPc3gBt7sXbf2ODjreCBPJrLL2sFy2QC4VxqtB5so4kV8at7cfZK46cPyhk27XMPOb9M39fgNbKEXh+1E0NIJ9vVZpk+glP1FTw3styWrZHr+vsRQN4ibD+PnZNotpQRAEoV20VcwZNwLonzmJ3Ajh+Z921mxH1fLWY5PUpyOc+ks3DoeDI+5hpv9tv1Bm3pll5LWjdJeX1V4bI/qjfdn8j3Em3xzgyHrZEWZtREV5iW9ysab+lwYY/ijT+pJdfoV49TLXSwMMf5TCfNzKzRkmHd34bwI3/db4Kst/1X0s/hRn0le2QdXyYI0dHS8NMHw1zkrdACrv/RlmitkLpzjaXWXPn0pRnA226D7KqUtxjJbG0k6KpD4fJ6EFGT/rqjrvYjQawtfvpOu58rkOtOMhxv8GkML8bbO6q2zOOAONljBbtuteYBD5xzRm/xiB013r54ybAAHGL3twlu1xqAvXG+OMDAF3i/WRSstfX60e16V5Er+UB3aQ/EQQBOEAo9rE6rdB5catwpmCUkqp9AQKdBV5UF+22bXWyanIEArcyt2Pgtqj0pcSBZW+5lFaXTm7skoVMmHlti2rKc+1tKounYvqClDufrdNeZR7orp8WoVBMRRRueoGjZgK9Ni1h9LORtTqpvaw6q07wipd1Uf9XEA5ba4rtaoiZzXb9ukJqJhh05am2dtT8yrfkNO2LtfERtu1Srn/4cwWb8xOKTco98dLLd5QUMmLKPCquZ83K9vI5igm0laZrdi1dbb7DK19G1Qamgp+u1Z1tvwsudRoYq3mjmU1cwLFybmNPtjUoTknAAAgAElEQVTEXyu+vfd+IgiC8CzSFjFXEj6a8kUrf+43F3MbBVLv8YAKx5dV7VTSmPIEhHIOTamFlTXrj39B5RKhkhCrmoAKP5TEmfvtiFr6tTJNFIwFFepH0Tel1qf7QlKFNBSaR4USufVJZS0bUcH+kvibylb1xBIa9OhqKrGs1qwbCg+sujcIAzsxl1Oxs5pC86pwalUVfi/3Y00tfe5TGqhAvBXLWDapFYrVfdQ8avR6WuVqZsrV696SLc/NqaVfy+3nVPKaV2mgtPMLVZ9NRcQ4h6ZU0igPuFq4OJX+YVKtPix3IKaCGgpGVXIbs/T2xNyaip1DoY2q5MPNS6vCmlq6XhK77pbFRNkPy6J4I1uza+tsT8wtqak+G2GmlFJGRPk06zM9GVQz8SW1uraqFi67FZpXza1UFy6PWVPea8mKLxXW1GpmTo1ejG0Uc3voJ4IgCM8iOxdz1iRQO/ltTcxtNQqlVPNJtBxd0VXEqPr/iRm1bFNT4ftRBZ51wbX2bVABynvdpifZKeUCpV2rRHqaCY1S3Sj9y3JdNmLu5znlARVM2M1eq2ruBIqLyRbExeZiLpSyu8+a5LWQzQRqCSJ8KrZeqTWGMzaf1b9CNeOtsJOI7HbEXCETVi5Q3s838ahMuOKD/QE1k1jdQlSomR9u1a6tsx1blmyoqdHvG4zOiKnAn2ufSZ+a+7mmvOWv2qY+ufd+IgiC8Cyys3fmHmWYfMNP6kSEyPtuOlq8re7l7MIaq9aL5+ZXo8zf2enOuQ6OunQgjmECrJC9Ddwe4ahNiobOv05T/Y6U8WMM8KC/4qyvum+AQcDMrrSUJ66j9xg6EL/fuHR+JUsKmPV22qSQOMLwbeC+uYV0GY3p7LQ5aRos3QXOehio+xC7GDihA1FW7tdcOgR11WlOPACH6hty9ujb6vP2MIhMjJPVQoyetfkcG7E4z/Sn00T+0wZrb9euu0Exxcy7cTgZJnii/kktLk7yqnuQ5RMRllaWiF0fxfeyBkQZfmWQ6buVZ7Lsr/4TA60980+0nwiCIBx8dibmfkwxvgjmV35rk0DlGLgCEMf/p8b55tbp6MJ5PETkswBgMr+4sqNu1VOkeHcLpR+bQBedrarTHVJ8lNubhhrx2Hq5/fnOlgV5Qzo6eRL20RZvzzJ+C7zXAng2G1R/qLLT01jAtzbL8P95md6Cz9jSTrvuEOOraSZNjdBFP3XStpgifGaclGuOyCc+XH92oZ+bInIvx1p2Dh8Jxk6OkbC+7JT99YXndzCqJ8RPBEEQngaeqF+A6OouTTPm453ntCo8BtDgEEAHaMBQhFyj9BVKEeov3dtxSAPyFNqRWsvalacdajLxWdfCmcZ9U1/7qtJqtJlDHSWx8bDwZOZW2zJZZq9MY/aFGX9jC1E5oOOwl/GJUSBD5M4Ok3E8KXb9LcH0lQQMTTNy3MYP72aYNAH30Tqh19UXYOySC8xZUllrFJa/rj18OrxFEAThoLMzMVcV0ag90hNQySUXw/fHzasz7qUB0A/vVLYYpG7EgUFcPQBOXGeAmzFSzSKEFs6XB4EU8TtG/cW7aWKA5uptSVwZtyPEgcGXG4sK7aVjuIDY7X1KVKs5OdYHfJUg/aj2Yp707Tjgo/fw3ndtO+S/m2dqEfRLAdzbCB4VH21libUL7TBAof7SE2LX7FdhZk0X4Xf15j5r5GyX8msjx2V/jdxOPyXiXxAE4WCz95G5xWlOXZglftdg/VeminmyN0bwv5UAdAaPbyWaYrB016BYzkv1yCDxnp/hW6Bd1vF0AXThGQqhEcc/NML8YlX5x0XMnxLMXhgjbgm9rhM6IQ0Sb/kZv2WuT1j5u1FGzo+Rxc3YSRe1GNksxqNKvcat8dKYtBD6iSaLSn06wZOQvaIz+EGCld8qU2Qxb5C5MYn/H7uZstWF/o4XzGn8F+bJlvOrFU1SH/gJfgHaeT+eXQsNtpFihtkrs5h9U4y/0bjD5s1h/FejpH4yK75QzGPcmcR/YR5w4T9e/xnX00Hn8wDzRG7Wvhf5BNj1v1HC72bg3DjB/gbK9s8ughrwRRD/B6mKD1vP5egVE7QgHpd1v+Wv5kd+Bj9IYVY9x8biPGOX4rv2u8OCIAiCDbu1s6LhjrTqnYM2Odyq05s0p5KaxPboD6v0hnQUzfLM1fd1O3nm7I/aHHZbzzPHhrxlLdikyW7WxrtBt5FnzqYd9SCidFB6tH6LZqkPre9SbG5X+1Qg5Xs2S+XSvO6tpCZRqpAK1fvVLuSZa7YL3PazUAWVnnApcG1IpWNHKU9kYx8OflvzXFalMmncl73xE0EQhGedvY/M/W+Q5cQco+c8uHusc1ovnnNhYvdWiGzxHScIMBUNE+i37utxE5iIsXw7hPu56nIduC8nyWYihM956C1HQ3rc6OeniGRm0auWgjv6QyTuxQifc1vvEWn0ng4yk8qSvGy/czfwcaSqvBP3uTCxlRShRhGRag7rzP2wysInQfTyWNDoPR5g9PoCy+d3+yfOnPiuZ0l+EsT7smWcsi1/mEM/CEusj1JMvRuH/imCZ5q/Xq8NzTfww1HmUjnSW9id3XF8nFR0dIPddK3c/j7a9ZcI4StZtPNhAn3NizpPz5D4eYGZ83rFHj1u9PMzJHNpZk7XPJeHfUTuLRGZCGwoH5iIkP54k+VcQRAEoa04lFJqvzuxPUyir3fjvxkmrULs56+5mjcG6fbFCWcqmygEQRAEQRD2gidqN6sgCIIgCIKwNUTMCYIgCIIgHGBEzAmCIAiCIBxgDvA7c4IgCIIgCIJE5gRBEARBEA4wIuYEQRAEQRAOMCLmBEEQBEEQDjAi5gRBEARBEA4wIuYEQRAEQRAOMCLmBEEQBEEQDjAi5gRBEARBEA4wIuYEQRAEQRAOMCLm9pwMkw4HjtejmLvUQv7f0wy7j+BwOHA4jjDwaXaXWhIEQRAEYb9pi5gzF6NMXxjk1b90VwTE6yPM3mkkV4oYt2YZee0o3Q4HDoeDI+5hJm9kybejQ88wxf9M4n1ljPlFwzpjkMkX97VPbeHuNMccDiYX7S+bNwYt32ty1AnoIsataYY9ZT88wsCbk8R/3IoXmkRfd+BwTJLZ/ui2TP6bYRyOQaL/bVqK7I3JKmHfzdHXRpi9ZdCKRxg3/CW7XN3LkQmCIAhbRu2UBxGlg8L20JQvulpzQ0GlJ9wNyqO0sxFVe8fTRVqFQTEUUbm2111QyYso0NVMdq3tte8PBbVmLKjQcU0BKpyxL5WL6g19av3YYPNmfuhUga9b9cKcigyhIKzSOx/s5vxeULnsnAr0lD7nyINGBVdV5KzW0BbuibQqNGmmkAkrd7n8xJ6MTBAEQdgmbYjMdeD82wyx7CprBYVSClVYY+lzHxomUd80iepAx+I0+pUM9AeJZNcoqNI9hQdJwqc1zK/8TH8n8bntkce8DwwNMtjXtd+d2TGlaFsnLzhPMdkwyltCeyNW8j274+c5vIDb3Ytmlc9/N2b5YYgFo1Aq9/saS9Egbgzm35km8duuD3FLZK46cPyhk27XMPO/NC9r3hjD/5WJdjpMsjw+pVjLRgj2Q+ZKkNm7DW6+HyVwZgbnRAi97aMQBEEQ2s7u6cRVFTlTHz0oR1D0L20iH5lw6Vq0lZhVVUTk95xKfhJU3pdLkQhnf0BN/cs+MpVLzajg6V6lWZHD3tOjKnLPvuzavZgKn3Mr53rZoJpJ1fetPKZwpqb+HrcKfJhWG2tvEplbW1axiYBy91gRkR63CnyYVLnfWzBHud66oxQxqu5jYSWmwm+UbVAVUaqxIz1uFZiIqeU681TGsJpLqpnzXtWrVdlzpVBva61XeS/G1GpLY9lo1+qjUWSuMQWVvKgptKBa+HW9ZhU7iwKXmsrW37H6ubdFP2xk85poVst23aS1idp2GkfmymVD/6q/Vu0LdTxMq3C/FbkrR90bReYsf/VUj+vinFr4uTywvfETQRCEZ51dFHNlsVUz4WTCpT/aQzNq+eHGOwqJoAJNhVLNFoBq63crd7/dhOpW4Ux1PQWVvuaxBMxmZWuWmWqWjj3XNi5RlSdHd7/9st3GJa0GYs6IWUtn2116bk3M6ecCljjdeL3pslxPQMUMm7Y0zd6emlf5hpy2dbk2Wd5rRFMB0ozslHKDcn+8VHVySYU1FITsl0azU8oFivc3W15sRcxtxa6tUxJrjcVc2V6uiwuqVjMuf+ZR4FVzP9dceLikpk5rFX9rJuaa+GvFt/feTwRBEJ5Fdk/MPUyqUQ3FybkaIVL1rpLWq3wTEZVcyalcdk75NJT7YrJu8rGnLOZQzqEptbCyZv3xL6hcIlQSYlVtF34oiTP32xG19GtlmigYCyrUj6JvSq1P94WkCmkoNI8KJXLrk8paNqKC/SXxVx3RWY8g9ehqKrGs1qwbCg+sujdMnHZiLqdiZzWF5lXh1KoqlKMShTW19LlPaaAC8VasYtnEJuq33kfNo0avp1WuZqZcvV6KRjnPzamlcgSrkFPJa16lgdLOV4uCiohxDk2ppFEecLVwcSr9w6RaLQv2XEwFNRSMquQ2Zuntibk1FTuHQhtVyQ1fHMpRY0+9oFGqImJaeq+x+TtzW7Nr62wm5jaIyB6vCn4SU0vGmlpNhJQbTXmvL9uX7w+rdNlWDcVcecya8l5LVnypsKZWM3Nq9GJso5jbQz8RBEF4FtklMVcWbPURr/L1pWue+gjW5VaFnFLNJ9HKRoCIUfX/EzOqdgpTSqnC96MbJva1b4MKUN7rNvEwK2qjXatEepoJjVLd1cvKNmLu5znlARVM2NlqVc2dQHEx2UKkYnMxF0rZ3bekpvpQaCGbCdQSRPhUbL1SawxnbCKG/wrVjLfC5gKkyci2IeYKmbBygfJ+Xt+XpQ9dpajn6bBKPqgS92urKv15sBSZ27GY26pdW6clW/6+qmJ/6617znzXV2t8yXpeNZ/1vFg0EnOWv2qb+uTe+4kgCMKzyC7kmSuS+eAU+hUDXzRCqL+j5rpB/M2jHPukg3BqmeVUhKnzXpxA5oNX8b6TwLCrdkt0cNSlA3EME2CF7G3g9ghHbVJWdP51GkhhWi+8Gz/GAA/6K876qvsGGATM7EpLeeI6eo+hA/H7jUvnV7KkgFlvp01KjSMM3wbum21J29LZaXPSNFi6C5z1MFD7cdHFwAkdiLJyv+bSIairTnPiAThU35CzZy9fpzeITIyT1UKMnq3/HF3nZwn3g/ndOK/+qWL3zheOMPDWLFmAF7uoM8dW2K5d28GjDJN/HWDwnodIdpml+Byjb5Q2gETfHGDwH9n19CTGjQD6FQh/M4/v8OZVl/3Vf2KgNfs80X4iCIJw8GmzmMuXhNx7BqeiaSJv1E+ixhcjDH5RYPTLGKHjvfQe9zH62QKrhRwLl91kPj2F/x/tTnJbpNho555d6ccm0EXnjmbyLbT3KLc3DTXicbE0sT/fuTPxAtDRyZOwj7Z4e5bxW+C9FsBjN6jn3IRuLRObCODusc71uNHPz5D8OoQGuF7q3tlY2mnXLVEkdU1n/M4x5r6awdfXi+tMgKnoMrlfl5g7C4l3vYx9lwdMMt9EMckw7q75MvEnP3GAKwOl/1v55sr++sLzOxjVE+IngiAITwPtE3OPDaJvHmPgvQKD3yaZsxFyYJK5lQAGONZbMxF0aHgvjRMEMreWdhydKzwG0OAQQAdowFCEXKP0FUoR6re6ckgD8hTakWv3cekf7VCTic+6Fs407pv62reeVqPtHOooiY2HhZaSyT75ZJm9Mo3ZF2bc1g8tunrR358j/XM5hUma2GdBun/LYKLh7evdWTf2za5ZMh+YwABHe2ouvegi8O4YLkxm/7W0vX5Z/rr28OnwFkEQhINOe8TcbynG/zqA/5abuZUUM6ebTKAAGOTscng9ytOeGJVB6kYcGMTVA+DEdQa4GSPVNGN+CefLg0CK+B0bSXk3TQzQXL0tiSvjdoQ4MPhyY5toLx3DBcRuZ/ZHTGlOjvUBXyVIP6q9mCd9Ow746G1hCe5JIP/dPFOLoF8K4N5q8Oh+lPBECvpGONXSzV1ohwEK9Zf23a4NnrNiseo50/B93eALxINIKc/cRLr0//fdpTssf43cTj8l4l8QBOFgs2MxV7w7y6m/vMo8AZL3IgT+3GwC1HC94gayjJ0fIXo3vz4ZFO+nmLwwShxwnzzGZnKwgsHSXYOiFQHjkUHiPT/Dt0C7rOPpAujCMxRCI45/aIT5xaryj4uYPyWYvTBG3BJ6XSd0Qhok3vIzfstc72P+bpSR82NkcTN20lXfk2wW41GlXuPWOP63EqCF0E80WVTq0wmehOwVncEPEqz8Vpkii3mDzI3JXVh6rsaF/o4XzGn8F+bJlgVA0ST1gZ/gF6Cd9+PZtdBgGylmmL0yi9k3xfgbW+hwMc/KrWkGT/iJmhrBiWCLQrCDzucB5oncrH0vcr/s2ovrbQ2YJ/jmJKn7609ZyYf/Po6JRvCVY9tb/rX81fzIz+AHKcz16vMYi/OMXYrv2u8OC4IgCDbsdAfFln9Gycpl1aisdnpKLT1s1uJ6y+upSWyP6hQLSqnmeebqd89tJ8+c/VG7o3freeZolOurkU2a7GZtvBt0G3nm7HZ7Wjsg7RLulvrQ+i7F5na1TwVSvqeVVC729TtVoO4n6JpTSIXq/WoX8szVJw1u8IwppZSxYKXRsT/cby9snruwaZ65iPJpm/Vlb/xEEAThWWcXdrNuwnMuRuNZ0tEwgePlpUqN3uMBwvFlVr4dxfXcVioMMBUNE+i3Ynk9bgITMZZvh3BvqKcD9+Uk2UyE8DkPveVoSI8b/fwUkcws+h+rSveHSNyLET7ntqKEGr2ng8yksiQvu20jGoGPI1XlnbjPhYmtpGx29NpwWGfuh1UWPgmil8di2WX0+gLL591bsMl2cOK7niX5SRDvy5Zxyrb8YQ79ICyxPkox9W4c+qcInmnh9fqOF9aXyrWXPQQmIqRzqw3e92xSzfFxUtHRDXbTtXL7+2TXw15mbtX6kxP3UJCZVI70J94tRL/t6vcRubdEpGYDSWAiQvpjfffe7xQEQRDqcCil1H53YnuYRF/vxn8zTFqF2G2p07QnNwbp9sUJZyqbKARBEARBEPaCvY/MCYIgCIIgCG1DxJwgCIIgCMIBRsScIAiCIAjCAeYAvzMnCIIgCIIgSGROEARBEAThACNiThAEQRAE4QAjYk4QBEEQBOEAI2JOEARBEAThACNiThAEQRAE4QAjYk4QBEEQBOEAI2JOEARBEAThACNiThAEQRAE4QAjYm7PyTDpcOB4PYq5Sy3k/z3NsPsIDocDh+MIA59md6klQRAEQRD2m7aIOXMxyvSFQV79S3dFQLw+wuydFuTK3WmOORxMLrajJ0LxP5N4XxljftGwzhhk8sV97VNbaMlPihi3Zhl57SjdDgcOh4Mj7mEmb2TJ25TOXHVY/trguJppoWMm0dcdOByTtFK6XeS/GcbhGCT636alyH4xxmBZ2Hcf5dSFWVKNHsvHJqmPhivP8UsDDF+Ns/JoFwYgCIIgtA+1Ux5ElA4K20NTvuhqgxsLas1YUKHjmgJUOLPjnhwQ0ioMiqGIyrW97oJKXkSBrmaya22vfX9o1U8KKj3hbuCHKO1sRNV6Ynqikd9ax0S6hf7lVGQIBWHVSukd83tB5bJzKtBT+pwjDxoVXFWRs5r9uDSPCmcKNeWX1MzxBuX7wyr9cJfHJQiCIGybNkTmOnD+bYZYdpW1gkIphSqssfS5Dw2TqG+aRE1YxLwxiMPRyQvOU0y2Er0TWiSPeR8YGmSwr2u/O7NjtuQni9PoVzLQHySSXaOgSr5YeJAkfFrD/MrP9Hd28TmdyAPLb2uP9927Mq7tkrnqwPGHTrpdw8z/0rxs9h9+/F+ZaGfnWPq1YD2XOZLXvGhmivG/z1K9+G58Mc7InXJ5a/y/LjF3VoPFccI3jYZtCYIgCPvLzsXcH3WmPg+i9znp6rDOdXTh+luY6TMAOfK7skxTtbz12CT16QinrOWhI+5hpv9tN3GDead6Ga6bo6+NEf3Rvmz+xziTbw5wZL2s/dJxSXSUlgA31P/SAMMfZWyX+OwbXCF+dZiBlxyVZa6PUpiPW7k5w6SjG/9N4KZ/fZmxvPxX3cfiT3EmfWUbVC0P1thxfZmtbgCV9/4MM8XshVMc7a6y50+lZd0Ntug+yqlLcYyWxrJ1TGMJE9AvjOLr62LdFf/oIfTeCAC5R+1ebq6yOeMMNFqibdmu7SJL4sMMEGD24wCuFy1rdGh4LseIXNRgcYrE+pK1SeZWAvASvhLA9aJ1+kUXgY9nCQCJT+LUvXlp+euGZdlL8yR+KQ/syfMTQRCEp5LdC/qVl5+aLQUplYvq21xmLdfvVu5+u2Uyd81SUkGlr3mUZrukVltWqUImrNwNlo4919KqunR5DO5++2U+90R1+QbLrEbMWjprbYmwHqveuqO0/Ffuo34uoJw215suy/UEVMywaUvT7O2peZVvyGlbl2tio+1aZVM/yYRLfRmaUcs1S4KFRFCBpkKpjS2Xllmb+2dzGtm8eol2K3bdQsvN+p6LKR8oztj7zdq3wZIvfGldLSTVKChOzNmUX1WRMyjwqVi1wzbx14pv772fCIIgPIvsnph7mFSjGoqTdhNEhZ2LOZRzaEotrKxZf/wLKpcIlYRYVduFH0rizP12RC39WpkmCsaCCvWj6JtSS+snkyqkld4tCiVy65PKWjaigv0l8TeVrR8DPbqaSiyrNeuGwgOrbrxq7udyaTsxl1Oxs5pC86pwalUVfi/3Y00tfe5TGqhAvJV34Cyb2LyPt95HzaNGr6dVrmamXL3uLdny3Jxa+rXcfk4lr3mVBko7v6AqPaiIGOfQlEoa5QFXCxen0j9MqtWysMrFVFBDwahKbmOW3txPqt6Z03qVbyKikis5lcvOKZ+Gcl9MqloL1r8zp6ne4wEVji/XlW3Ss6bvzG3Nrq3TXIimVYgmts6ENwrO8nuvDd7jTL+PAleVz5fHrCnvtWTFlwprajUzp0YvxjaKuT30E0EQhGeRXRJz5Ym1PuJVy87FnN0kWtkIEDGq/n9iRi3b9fb7UQWedcFVjlx4r9vI0OyUcoHSrq1Lv6ZjKNVdFQWxE3M/zykPqGDCzlarau4EiovJFiIVm4u5UMruviU11YdCC9lMoGsqdq42MmONwS7y869QzXgr7CQS1pqfFNTSNU99ZPRyvZCr9Gcn0VClmvvhVu3aOs1tWa67/OWlcqWQW1YLE96tiTnLTuu2t/xV29Qn995PBEEQnkV2Ic9ckcwHp9CvGPiiEUL9HZvf0nY6OOrSgTiGCbBC9jZwe4SjNikoOv86DaQwfyvdbfwYAzzorzjrq+4bYBAwsyst5Ynr6D2GDsTvNy6dX8mSAma9nTYpMo4wfBu4b7b+7l0TOjttTpoGS3eBsx4G6j6uLgZO6ECUlfs1lw5BXXWaEw/AofqGnD36tvrcGgbxN49y7JMOwqllllMRps57cQKZD17F+06C2lf43e/XbHgorLGaCuPVwPxqlPk7O3zHbrt23TFd6Fci+DTIfOrn2P9U+Xr3UU5dSQDgem57z2bZX/0nBmiphifKTwRBEJ4+2izm8iUh957BqWiayBs2YmhfKFK8u4XSj02gi8490qHFR7m9aagRj4sUAZ7vbG1ybkZHJ/uxj9b4YoTBLwqMfhkjdLyX3uM+Rj9bYLWQY+Gym8ynp/D/Y5PkyR1dOI+HiHwWAEzmF1d21ql22nWrHPYRySaZOe+lVyud0l72EJiIsfBZSSwN9LTyfBYpPARw0WENouyvLzy/g1Htk58IgiA8jbRPzD02iL55jIH3Cgx+m2Run4Vc4TGABocAOkADhiLk7FJQWEeov3RvxyENyFNox+ZHa1eedqjJxGddC2ca90197UNrQ3catd8B8LDAwUwvXN6NOcCx3ho7d2h4L40TBDK3luqic3Z0dZd813y8Q2vst101D8HPFljOlXwody/J3PteWIkDXly9lpx6UcMJkC9QqKskh/kLQC/OsgNa/rr28GB6iyAIwtNGe8TcbynG/zqA/5abuZUUM6f3OyJnkLoRBwZx9QA4cZ0BbsZINc2YX8L58iCQIn7HZuq/myYGaK7elsSVcTtCHBh8ubFNtJeO4QJitzP7NOk7OdYHfJUgXZdGJk/6dhzw0Xt477u2NQxyv9mcfpRnK7FP414aAP1wK59wF9phwEYGPYl2LS5OE/4UGPJzqsc62eGk9yRwO06qNn/db1lS3wB9x9bFXNlfI7fTB1T8C4IgPF3sWMwV785y6i+vMk+A5L0IgT/v9YKSwdJdg2I5L9Ujg8R7foZvgXZZx9MF0IVnKIRGHP/QCPOLVeUfFzF/SjB7YYy4JfS6TuiENEi85Wf8lrk+YeXvRhk5P0YWN2MnXfU9yWYxHlXqNW6N438rAVoI/USTRaU+neBJyF7RGfwgwcpvlSmymDfI3JjcfIlwR7jQ3/GCOY3/wjzZsiAqmqQ+8BP8ArTzfjy7FhrcKRquV9xAlrHzI0Tv5tc/s+L9FJMXRokD7pPHWJfUi9OcujBL/K7B+q+dFfNkb4yUPjN0Bo+38qWkg87nAeaJ3Kx9L/IJsusjg8wXY5w6M04GN1PvVUd6nXiGvECC8Ymqfv6WZf7dIPOA+00v6x5v+av5kZ/BD1KYVfYzFucZuxTftd8dFgRBEGzY6Q6K9ZQXzY6aXXLN72n1Z5EqqUlsj7qfIGqWZ65+99x28szZH7U7ereeZ44NectasEmT3ayNd4NuI8+c3e5Ha2ekHq3fF1nqQ+u7FLfkJw+X1NTpBv0HpZ2eUkvV/lBOz9HgM278M3T1FFKher/ahTxzTX9+zOazsC2veVT4XzZ7ewtLKmybr9HuWVJKGRHl0zbry974iSAIwrPOLuxm3UkLA0kAAA6GSURBVGsCTEXDBPqtKEqPm8BEjOXbIdzPVZfrwH05STYTIXzOs/5SOD1u9PNTRDKz6H+sKt0fInEvRvic24rmaPSeDjKTypK87LZ9oT3wcaSqvBP3uTCxlVRrO3oP68z9sMrCJ0H08ljQ6D0eYPT6Asvnd/unpZz4rmdJfhLE+7JlnLItf5hDf9KXWJ9zMRrPko6GCRwvL4GX7BeOL7Py7Siuan/43yDLiTlGz3lwl5cbtV4858LE7q1safNOx/FxUtHRDXbTtXIkdv/s2tFRGYOzXyf4yQKrK0lC/88mStzhInR7mdhEoGKPcj9v1T5LlDZY3FsiUlc+Qvpjfffe7xQEQRDqcCil1H53YnuYRF/vxn8zTFqF2M9f0TRvDNLtixPOVDZRCIIgCIIg7AVPQWROEARBEATh2UXEnCAIgiAIwgFGxJwgCIIgCMIB5gC/MycIgiAIgiBIZE4QBEEQBOEAI2JOEARBEAThACNiThAEQRAE4QAjYk4QBEEQBOEAI2JOEARBEAThACNiThAEQRAE4QAjYk4QBEEQBOEAI2JOEARBEAThACNibseYRF934HBMktmlFvL/nmbYfQSHw4HDcYSBT7O71JIgCIIgCAeN3RFzjzJMuh04HINE/7srLTwzFP8zifeVMeYXDeuMQSZf3Nc+tYcs0y4HjqvNJHAR49Y0w56jdJeF7JuTxH/MN7wj/2OUsdcHOOJw4HB0c/S1EWb/3bh8Pbsvzu3IfzPcwvOSJ/vFGINlYd99lFMXZkmZdmXL42h8DN6wvVEQBEE4YOyCmDOIXtAZX2x/zc8eRdJfj5NBZya7hlKqdLzv3u+O7Yhi3iBxZYypu01Lkbnq4Yh3jPk7K5Rkh0Hmi3EG/3KM4ZtG3R35WyMc+4uf6ZsZSldNVr6bZeSVXvw36ss/ETwuYt6dZ+zS/CYFDaL/Xy/H3pwmXhb25gqJf47wqutVJhefBoEvCIIgbIc2i7kimat+/D+PEH67vTU/m+Qx7wNDgwz2de13Z3bOf6MMOhx0vnCEU1dTNIsL5b8bQ7+Sgf4QC0ahJGJ/X2MpGsSNwfw70yR+q7qhmGLqzVkM3IQSOQpKoVSBXCKEG5Pou/OknjC9k7nqwPGHTrpdw8z/0rxs9h9+/F+ZaGfnWPrVskchR/KaF81MMf73WewX38Oky18Cao7YG9oujEoQBEHYa9oq5owbAfTPnERuhPD8z1bvrlreemyS+nSEU3/pxuFwcMQ9zHSjpTIzxeyFUxztLi0ddf/lFGM3VrArnf8xzuSbNUtwd+olhXljEIfDweQimHdmGXnNWuZ7aYDhjzK2dduSXyF+dZiBl6ylrZcGGP4ohfm4lZszTDq68d8EbvqtZcaq5b/FycpS2W8ZZi+cssZVvVSXZ+Wbycr7dg2X5TJMOhw4Xo9ibLBnN0dfGyP6U0kFbbBF91FOXYpjtDSWrWKSujmLiYupf4bxHu4onT7UheuNGSKfe8GcZf521UDuZpg3QbscZvykRumODrSTYWY/dIE5Sfz2Zp9clc0ZZ6B6WXLDcnCrdm0XWRIfZoAAsx8HcL1o2aNDw3M5RuSiBotTJHYaDbf89VXruXO8NMDwpXkSv5TtVvWM1vh29TO68Tk7wsCbs2S3stItCIIgbA3VJla/DSo3bhXOFJRSSqUnUKCryINWa8ipyBAK3Mrdj4Lao1J3mUImrDyaXVmUeyKtCjVl3TblQFOeaxvL5qJ6qY5+dwt1l/sdVunqzhkxFeix75t2NqJWN7VHWoVt+2u1kwkrQHnOBmpsULZ5QaUn7PuP5qmxpdWWpinNtrxX+YactnW5auzcMg8iSgfFRNrm4pIKaygIKburKjulXKB4v3J19XOPAtTo9za9+VeoZPdrS5t0qpHNq/u5Fbu2TtPnJRdTPlCcsfebtW+DClD6l9VXG/hlI5r4K0MRldtQp6Y02+fOrfQ3PPY+tF6HIAiC0G7aEpkrLk7ify2GMxoh1N+xw9oymH+aYmFlrWapLMP4RIT1N5+KWab/Pk7qcJBItlxWoR6usnDZTeZKkNnyO1nFFOEz42Q0T9USnGItGyHYb5J6b7RStronv3UzlVhmrVAqX3iwQKgfMlfCRJoui5nErwSZf+QlnFql8LvVt8IaS5/74Cs/k99sFqpwE1I5IkPAUITc+vJYiOo35lJfpeh6d4HlX8vXY/j+CMU7YfQrGbTjIRYe1CxTNlqWM006h6ZIlpc1C6tEzmpgJojeBP3DJKsPrXZyMYIaZK/ESLd9+bILpxsgw7KdnV/sxgnwk7G+VGuaKQBeeN7G//54FB0wH+Q2iapW2bx2edJ6T3Fbdt0pmjXeb5YwbGzd9T/dAMTv24UGqyOMRxh43S4abRK9NMj8Lxrea0lyhYq/rmbmGD1ca1MTekcrz93vayQn3ECG+I1ljv49UlkKXlti6iRwc56FTZaSBUEQhG2yYzloRJRPq4+EbT8yZxdJKKjkRas+wzrz/agCj5pZsamqkFSjoDyflyIV5ciF97pNXMOK8lRHbcqRuXDGpurvR2uiIDb9/nlOeUAFE3ZRmlU1dwLFxWQLES2rbruohhWZ0+3GpNbUwnkUeNXcz/VXlz50KdBU+IfyGSsiZRf5saJaG6M+1l1b/oyraBqZK/cRpZ0Oq+SDiqUKa6sq/XmwFJmrskupL/af2XpbLUWHmvnhVu3aOs1tuaZi56yo8NsRtfRr5Uoht6wWJrw10cPqcbQQubb8VdvUJ8t12kRMDcvG79dbrdnzJAiCIOycnUXmHmWYfMNP6kSEyPtudhqTa0wHR106EMewggorP6aAFCO9NmkXOl9lGkiZ1h7IH2OAB/0VZ33VfQMMAmZ2pekL+es96T2GTqMoSIn8SpYUMOvttEkJcYTh28B9s/V375p2qNPmpEH2G+CEjqen/qrrlUHAZOnnmjEcgrraNCcegEP17Th79O30uCVc52cJ94P53Tiv/qlix84XjjDwlhX9erFrF33Ojm3adcd0oV+J4NMg86mfY/9T8afO7qOcupIotf9ctTU0fF/XbHp4mLM2kGyMLpf91X9ioEV72vicppWih3+wueQ8toWxCoIgCFtlZ2LuxxTji2B+5bdedq4cA1cA4vj/tDv55oqPWl/MKj42gS4692jmLz7K7U1DjXsAJtDVaTftbo2OTvZlH+1zbkK3lolNBHCXhVOPG/38DMmvQ2iA66Xu1vpWLJSE847FXxvtulUO+4hkk8yc99JrbULVXvYQmIix8FlJVA/02HxZqeY5DdcbM6UNISRIZUuis+yvtkvUrdLRyQvbv1sQBEHYAYf2uwOtUngMoK33uOOQBgwQeVB6R6wZpbJ5Cu14t8vavakdajLxWdfCGUWovw1tbpkO0IB8gcJ+NN8uunrR359Df39uw+mVf76KiUagr3f9nKZ5gBRrD4tQK9lMgxSg/alF8deQfbar5uH/b+/+Qds4wziOf7up0IK7naEFC5JB4MEOHSxohwg8xCaDT7hQiw5BJmDOdIkJJFI7qCoe4qSQOJmSZjoZaqROlgdjZTDIgULOELA7WYUWrKFQQw3VELgO+mdZJ1V2o0iC3wduMe/p3nvvNXr13D3PWU9CWE9O/7FE9uswMMV4oLOzG/7YDziUqpnIlfnqOXYiItL3/l9kbiLmWb/KdV3yCQAT+/f6Q/kXVyC3lgHCjFeiNP7RMJAhvfPft7TKbXNkXngUjt3LkwaM8QCdVN0qbNlkgPBo6yiIcfkK40B6a5felDbzMz4DbGXIeTx07uykAYMrlwewzthvKZKJHIwtMh2sLzyGLwUxAPtFvmnMnd3ybch216xuCGME8Fyu9d+4ll7eJ/kImI0w7XHr12MP9p08AIFPyv2szld7q3nsRESk//Xhu1kLvNor1KMGJwWydyPMb4JxxyRUCT4MTZrEDMjMmSw+36VwUv+EUvGA7KNFln4uNrTN3owQ3yzWvrCO91IsLizhEGTp2nhzTxyn/rlvShQ240RuZsGIYU62iYKMmVjXwPnWJLyc5eDP+ldk6bjA7tr3RH7o5vtVhwjNxjDIMv9VnOwfleO/OcZZW8S67cDEElOfdrELb1vpmIPN+4QnI6SKBlbC4tRaDl8wRNSA4nKcZO0alyhuxsvna1hMfd5J5MrH+x8CPMNeP/tDoY/G9aTA7vMlpmfi7BJk5e5cw4+R4vo8ke9S5H4tNvwv5ZbDRO4VYSzJdLWflflavBchvJyjWJ2upWMKL5+xdDvT0fOkIiLSI93KrLh4NmuLbSLp5v9u3KNdnTnANVNHDW3PW2fOeztb7+78deZok8XpOSbtsllTrfIzL1Bnzus4lUxQr+OUx+kc17iaVdpiO5vt6H0d/G405V2l7+inOe8aZxjuXIt9vPyTizV/ThfqzFUzcD03j2vh2d4Iucmdv5rH4lxz2K1lpbfvS7tM38oc8prXlbmqbFYRke7ow8hclJVUkuhE5ZbYpSDRRJr9rRjBDxpb+iZibDt57ESU0Gg1LuEnOGuxksrzeMZoaJt9nSZ5I1jOusMgcN1iNeewfcc7Ezf6wD7V3k/wRpL0Qa6zWnojJk9/OWTjoYVZPRcMAlej3Ppxg/2Fbr9f1Ufwmyz7mVNjaQSYWlhl29l+C/UA3wHfR7VoU/lhf5v80SFPv/S+XWrM2hzsrGJdr94yr19ju8U+noe9GieXusVUdU5dCmIa1ahe78bV56ufg3/CxHq4weHBNrHPmiOOxsxj8qkVrNlQLWGilkBylG/u58gc9utX2GcSTqIJm/wDs6NHEEREpDfec13X7XUnyoqkvhgmsp4kf6Yw7jvvyVqY4blMDxMYRERERDrTh5E5EREREemUFnMiIiIiA0yLOREREZEB1kfPzImIiIjIeSkyJyIiIjLAtJgTERERGWBazImIiIgMMC3mRERERAaYFnMiIiIiA0yLOREREZEBpsWciIiIyAD7F+ipzb7kpgLKAAAAAElFTkSuQmCC)\n",
        "\n"
      ],
      "metadata": {
        "id": "p1EN-AXu8KAp"
      }
    },
    {
      "cell_type": "markdown",
      "source": [
        "**Create Histogram**\n",
        "\n",
        "In Matplotlib, we use the hist() function to create histograms.\n",
        "\n",
        "The hist() function will use an array of numbers to create a histogram, the array is sent into the function as an argument.\n",
        "\n",
        "For simplicity we use NumPy to randomly generate an array with 250 values, where the values will concentrate around 170, and the standard deviation is 10."
      ],
      "metadata": {
        "id": "axz-Jq948sNy"
      }
    },
    {
      "cell_type": "code",
      "source": [
        "#A Normal Data Distribution by NumPy\n",
        "\n",
        "x = np.random.normal(170, 10, 250)\n",
        "\n",
        "print(x)"
      ],
      "metadata": {
        "colab": {
          "base_uri": "https://localhost:8080/"
        },
        "id": "UJVaPl3A8ApK",
        "outputId": "4e42e21f-9115-40dc-e1e4-f47332880dff"
      },
      "execution_count": null,
      "outputs": [
        {
          "output_type": "stream",
          "name": "stdout",
          "text": [
            "[158.98127033 153.42575098 187.50345961 157.51709122 165.79423579\n",
            " 161.53728391 163.8737845  177.63905398 186.55916522 192.2616651\n",
            " 167.61504674 164.0673925  161.42097393 188.40007682 179.66306076\n",
            " 174.21004287 153.9808265  177.20443701 179.91618821 183.11946889\n",
            " 160.49085403 172.83872948 150.55991938 177.88774308 163.92978525\n",
            " 160.06158037 178.73521439 156.36319973 185.30706257 173.48723003\n",
            " 163.78399993 165.17792569 161.75847219 193.42051483 166.89427282\n",
            " 180.45172379 166.67400267 159.8196775  168.43050317 175.91781307\n",
            " 175.54552391 172.83714504 145.78064448 178.80923237 147.54635417\n",
            " 166.13852301 173.05239154 165.68779562 173.93265151 188.15272472\n",
            " 171.21759043 169.49158473 169.95371837 164.39399399 182.18361827\n",
            " 154.9106348  174.58008618 158.87185065 190.3249541  164.27787996\n",
            " 159.96469898 165.06171968 159.00640914 173.96468224 160.09706003\n",
            " 180.05682704 185.87209467 175.3005038  151.11935456 178.22888553\n",
            " 173.45293503 178.37373867 177.44066955 163.75126422 177.36572043\n",
            " 171.86241115 166.84727748 180.07763292 150.59682361 175.23148583\n",
            " 179.9175561  179.20208706 165.94284098 153.14168162 145.32292443\n",
            " 174.38294862 149.70985754 174.50395844 159.76569585 161.73895255\n",
            " 170.50954175 155.8021766  167.39736618 145.68475493 154.46453877\n",
            " 178.69019513 165.06420533 171.48660224 171.57023885 174.25838316\n",
            " 169.5619102  167.85120745 172.46610098 176.8568842  180.46718398\n",
            " 163.61379987 174.43353911 182.88162118 158.32795848 150.72828978\n",
            " 163.60044631 182.89907045 165.34275467 163.62205317 172.05412876\n",
            " 167.36328826 174.23470404 163.58136501 180.39448438 178.05692284\n",
            " 166.58437057 174.92518214 167.57986811 169.73762199 160.29302067\n",
            " 174.85890425 189.00372328 157.19136288 170.11662224 159.49660662\n",
            " 175.76184783 187.43098248 163.37405432 173.97000751 165.33226768\n",
            " 161.26961838 152.05279934 163.79550337 172.02849886 171.35719719\n",
            " 172.3323815  164.83025149 170.07804496 175.55156432 165.42292167\n",
            " 182.31665155 184.53633111 176.16237011 172.02099409 171.48977401\n",
            " 163.92575068 187.67161935 190.6792237  165.8829692  171.76826805\n",
            " 178.76017665 156.3081908  160.07789505 184.15565698 183.07477692\n",
            " 184.39647088 164.09571573 174.94176345 178.64716439 172.34519694\n",
            " 171.3762322  173.10889275 165.38279377 170.93770166 163.73762748\n",
            " 172.75841099 174.85784759 171.74729696 163.59277828 182.3842039\n",
            " 177.14015733 157.83112274 177.98916597 162.52053311 161.90505187\n",
            " 161.52130291 187.56801886 171.42000181 148.82167016 163.9674761\n",
            " 180.41487327 144.73722901 172.26635599 186.2557455  173.73653757\n",
            " 176.73457101 172.53761693 185.37849238 174.85162161 162.81524083\n",
            " 183.78907647 153.99461193 184.90721677 144.11873261 151.52120401\n",
            " 181.35339929 168.10447527 166.30645309 161.31598366 171.54893128\n",
            " 173.48722643 175.21214839 150.51901737 153.61682341 170.52167469\n",
            " 158.78395072 164.7262712  161.1200378  174.19440227 175.13678828\n",
            " 174.57748692 165.4144763  178.24305541 187.01010551 184.88066593\n",
            " 170.41380128 150.7925245  176.86281902 164.95926589 174.44256858\n",
            " 171.5010141  158.84658543 170.97274343 166.9546664  151.64311243\n",
            " 156.69432576 162.64911895 161.24534198 159.87541906 163.85998645\n",
            " 178.84218553 148.68680382 166.37153062 168.2212576  152.94406397\n",
            " 179.64308014 169.27624889 147.88366779 169.15576751 168.93381713\n",
            " 171.21341577 168.65013996 166.53744884 168.16052061 158.36348129]\n"
          ]
        }
      ]
    },
    {
      "cell_type": "code",
      "source": [
        "plt.hist(x)\n",
        "plt.show() "
      ],
      "metadata": {
        "colab": {
          "base_uri": "https://localhost:8080/",
          "height": 265
        },
        "id": "XlMA8APS80-_",
        "outputId": "44c05512-538a-40dc-ecb7-2275204524dd"
      },
      "execution_count": null,
      "outputs": [
        {
          "output_type": "display_data",
          "data": {
            "text/plain": [
              "<Figure size 432x288 with 1 Axes>"
            ],
            "image/png": "[encoded data removed]"
          },
          "metadata": {
            "needs_background": "light"
          }
        }
      ]
    },
    {
      "cell_type": "code",
      "source": [],
      "metadata": {
        "id": "XSVcz4mK8-N_"
      },
      "execution_count": null,
      "outputs": []
    },
    {
      "cell_type": "markdown",
      "source": [
        "# Image plot"
      ],
      "metadata": {
        "id": "TukIiOZ13mSu"
      }
    },
    {
      "cell_type": "markdown",
      "source": [
        "Import library"
      ],
      "metadata": {
        "id": "GQkuQYdb3qSS"
      }
    },
    {
      "cell_type": "code",
      "source": [
        "import matplotlib.pyplot as plt\n",
        "import matplotlib.image as img"
      ],
      "metadata": {
        "id": "7uR9ZStO3rzk"
      },
      "execution_count": 1,
      "outputs": []
    },
    {
      "cell_type": "markdown",
      "source": [
        "reading image"
      ],
      "metadata": {
        "id": "O-XyMnCB36JV"
      }
    },
    {
      "cell_type": "code",
      "source": [
        "# reading the image\n",
        "testImage = img.imread('https://media.geeksforgeeks.org/wp-content/uploads/20190713215633/python4.png')"
      ],
      "metadata": {
        "id": "C4FaVKR938H8"
      },
      "execution_count": 2,
      "outputs": []
    },
    {
      "cell_type": "markdown",
      "source": [
        "displaying the image"
      ],
      "metadata": {
        "id": "gfEp1pYl4llO"
      }
    },
    {
      "cell_type": "code",
      "source": [
        "# displaying the image\n",
        "plt.imshow(testImage)"
      ],
      "metadata": {
        "colab": {
          "base_uri": "https://localhost:8080/",
          "height": 287
        },
        "id": "rVGxycBI39R8",
        "outputId": "5deb6e19-3771-4f92-bf8c-a53cad3b2b49"
      },
      "execution_count": 3,
      "outputs": [
        {
          "output_type": "execute_result",
          "data": {
            "text/plain": [
              "<matplotlib.image.AxesImage at 0x7f5364055610>"
            ]
          },
          "metadata": {},
          "execution_count": 3
        },
        {
          "output_type": "display_data",
          "data": {
            "text/plain": [
              "<Figure size 432x288 with 1 Axes>"
            ],
            "image/png": "[encoded data removed]"
          },
          "metadata": {
            "needs_background": "light"
          }
        }
      ]
    },
    {
      "cell_type": "markdown",
      "source": [
        "displaying the image as an array"
      ],
      "metadata": {
        "id": "f9ufLR4a4oDC"
      }
    },
    {
      "cell_type": "code",
      "source": [
        "# displaying the image as an array\n",
        "print(testImage)"
      ],
      "metadata": {
        "colab": {
          "base_uri": "https://localhost:8080/"
        },
        "id": "5jASYVcs4vSr",
        "outputId": "d5c1eeb7-96a4-4c9b-ab5a-aa5360ed49e6"
      },
      "execution_count": 4,
      "outputs": [
        {
          "output_type": "stream",
          "name": "stdout",
          "text": [
            "[[[0. 0. 0. 0.]\n",
            "  [0. 0. 0. 0.]\n",
            "  [0. 0. 0. 0.]\n",
            "  ...\n",
            "  [0. 0. 0. 0.]\n",
            "  [0. 0. 0. 0.]\n",
            "  [0. 0. 0. 0.]]\n",
            "\n",
            " [[0. 0. 0. 0.]\n",
            "  [0. 0. 0. 0.]\n",
            "  [0. 0. 0. 0.]\n",
            "  ...\n",
            "  [0. 0. 0. 0.]\n",
            "  [0. 0. 0. 0.]\n",
            "  [0. 0. 0. 0.]]\n",
            "\n",
            " [[0. 0. 0. 0.]\n",
            "  [0. 0. 0. 0.]\n",
            "  [0. 0. 0. 0.]\n",
            "  ...\n",
            "  [0. 0. 0. 0.]\n",
            "  [0. 0. 0. 0.]\n",
            "  [0. 0. 0. 0.]]\n",
            "\n",
            " ...\n",
            "\n",
            " [[0. 0. 0. 0.]\n",
            "  [0. 0. 0. 0.]\n",
            "  [0. 0. 0. 0.]\n",
            "  ...\n",
            "  [0. 0. 0. 0.]\n",
            "  [0. 0. 0. 0.]\n",
            "  [0. 0. 0. 0.]]\n",
            "\n",
            " [[0. 0. 0. 0.]\n",
            "  [0. 0. 0. 0.]\n",
            "  [0. 0. 0. 0.]\n",
            "  ...\n",
            "  [0. 0. 0. 0.]\n",
            "  [0. 0. 0. 0.]\n",
            "  [0. 0. 0. 0.]]\n",
            "\n",
            " [[0. 0. 0. 0.]\n",
            "  [0. 0. 0. 0.]\n",
            "  [0. 0. 0. 0.]\n",
            "  ...\n",
            "  [0. 0. 0. 0.]\n",
            "  [0. 0. 0. 0.]\n",
            "  [0. 0. 0. 0.]]]\n"
          ]
        }
      ]
    },
    {
      "cell_type": "code",
      "source": [
        "# displaying the shape of the image\n",
        "print(testImage.shape)"
      ],
      "metadata": {
        "colab": {
          "base_uri": "https://localhost:8080/"
        },
        "id": "n17JOxpV4yHV",
        "outputId": "9a1fdf68-8654-4494-bfc4-8de71440f919"
      },
      "execution_count": 5,
      "outputs": [
        {
          "output_type": "stream",
          "name": "stdout",
          "text": [
            "(149, 200, 4)\n"
          ]
        }
      ]
    },
    {
      "cell_type": "markdown",
      "source": [
        "Here, the shape of the image is (149, 200, 4) which represents (height, width, mode) of the image, for black and white image mode value is 0 and 1 only. In the output image, only the mode of the image is modified."
      ],
      "metadata": {
        "id": "fqkWsTW0788U"
      }
    },
    {
      "cell_type": "code",
      "source": [
        "# modifying the shape of the image\n",
        "modifiedImage = testImage[:, :,0]\n",
        "\n",
        "# displaying the shape of the image\n",
        "print(modifiedImage.shape) #3rd value is 4 which means it's a RGBA format image, 3 means RGB image\n",
        "\n",
        "  \n",
        "# displaying the modified image\n",
        "plt.imshow(modifiedImage)"
      ],
      "metadata": {
        "colab": {
          "base_uri": "https://localhost:8080/",
          "height": 304
        },
        "id": "B2MEcN_848FI",
        "outputId": "a8e51203-9ff0-4c3a-8fe5-85ef7aed71e7"
      },
      "execution_count": null,
      "outputs": [
        {
          "output_type": "stream",
          "name": "stdout",
          "text": [
            "(149, 200)\n"
          ]
        },
        {
          "output_type": "execute_result",
          "data": {
            "text/plain": [
              "<matplotlib.image.AxesImage at 0x7f92b353c340>"
            ]
          },
          "metadata": {},
          "execution_count": 24
        },
        {
          "output_type": "display_data",
          "data": {
            "text/plain": [
              "<Figure size 432x288 with 1 Axes>"
            ],
            "image/png": "[encoded data removed]"
          },
          "metadata": {
            "needs_background": "light"
          }
        }
      ]
    },
    {
      "cell_type": "code",
      "source": [
        "#@title\n",
        "# modifying the shape of the image i.e., displaying specific rows and columns\n",
        "modifiedImage = testImage[50:150, 100:200, 1]\n",
        "  \n",
        "# displaying the modified image\n",
        "plt.imshow(modifiedImage)"
      ],
      "metadata": {
        "colab": {
          "base_uri": "https://localhost:8080/",
          "height": 285
        },
        "id": "Y-tC7x9q6gud",
        "outputId": "2af1afeb-966e-44f9-b7e2-fe42b4dad5c3"
      },
      "execution_count": null,
      "outputs": [
        {
          "output_type": "execute_result",
          "data": {
            "text/plain": [
              "<matplotlib.image.AxesImage at 0x7f92b35167c0>"
            ]
          },
          "metadata": {},
          "execution_count": 25
        },
        {
          "output_type": "display_data",
          "data": {
            "text/plain": [
              "<Figure size 432x288 with 1 Axes>"
            ],
            "image/png": "[encoded data removed]"
          },
          "metadata": {
            "needs_background": "light"
          }
        }
      ]
    },
    {
      "cell_type": "code",
      "source": [
        "import random\n",
        "#access specific pixel values\n",
        "# reading the image\n",
        "testImage = img.imread('https://media.geeksforgeeks.org/wp-content/uploads/20190713215633/python4.png')\n",
        "#plt.imshow(testImage)\n",
        "\n",
        "#read part of image\n",
        "part_of_image = testImage[0:100,0:100,0:4]\n",
        "print(part_of_image)\n",
        "plt.imshow(part_of_image)\n",
        "\n",
        "#read first column\n",
        "first_column=testImage[:,0,0:4]\n",
        "plt.imshow(first_column)\n",
        "\n",
        "testImage[:,:,0]=random.random()\n",
        "print(testImage)\n",
        "plt.imshow(testImage)"
      ],
      "metadata": {
        "colab": {
          "base_uri": "https://localhost:8080/",
          "height": 1000
        },
        "id": "92GD0nJaBs8_",
        "outputId": "678cc3ea-4407-4e45-84b7-a38e0a236919"
      },
      "execution_count": 6,
      "outputs": [
        {
          "output_type": "stream",
          "name": "stdout",
          "text": [
            "[[[0.         0.         0.         0.        ]\n",
            "  [0.         0.         0.         0.        ]\n",
            "  [0.         0.         0.         0.        ]\n",
            "  ...\n",
            "  [0.         0.         0.         0.        ]\n",
            "  [0.         0.         0.         0.        ]\n",
            "  [0.         0.         0.         0.        ]]\n",
            "\n",
            " [[0.         0.         0.         0.        ]\n",
            "  [0.         0.         0.         0.        ]\n",
            "  [0.         0.         0.         0.        ]\n",
            "  ...\n",
            "  [0.         0.         0.         0.        ]\n",
            "  [0.         0.         0.         0.        ]\n",
            "  [0.         0.         0.         0.        ]]\n",
            "\n",
            " [[0.         0.         0.         0.        ]\n",
            "  [0.         0.         0.         0.        ]\n",
            "  [0.         0.         0.         0.        ]\n",
            "  ...\n",
            "  [0.         0.         0.         0.        ]\n",
            "  [0.         0.         0.         0.        ]\n",
            "  [0.         0.         0.         0.        ]]\n",
            "\n",
            " ...\n",
            "\n",
            " [[0.         0.         0.         0.        ]\n",
            "  [0.         0.         0.         0.        ]\n",
            "  [0.         0.         0.         0.        ]\n",
            "  ...\n",
            "  [1.         0.8901961  0.39607844 1.        ]\n",
            "  [1.         0.8901961  0.39215687 1.        ]\n",
            "  [1.         0.8901961  0.39215687 1.        ]]\n",
            "\n",
            " [[0.         0.         0.         0.        ]\n",
            "  [0.         0.         0.         0.        ]\n",
            "  [0.         0.         0.         0.        ]\n",
            "  ...\n",
            "  [1.         0.8901961  0.39215687 1.        ]\n",
            "  [1.         0.8862745  0.3882353  1.        ]\n",
            "  [1.         0.8862745  0.3882353  1.        ]]\n",
            "\n",
            " [[0.         0.         0.         0.        ]\n",
            "  [0.         0.         0.         0.        ]\n",
            "  [0.         0.         0.         0.        ]\n",
            "  ...\n",
            "  [1.         0.8862745  0.3882353  1.        ]\n",
            "  [1.         0.8862745  0.38431373 1.        ]\n",
            "  [1.         0.8862745  0.38431373 1.        ]]]\n",
            "[[[0.3443976 0.        0.        0.       ]\n",
            "  [0.3443976 0.        0.        0.       ]\n",
            "  [0.3443976 0.        0.        0.       ]\n",
            "  ...\n",
            "  [0.3443976 0.        0.        0.       ]\n",
            "  [0.3443976 0.        0.        0.       ]\n",
            "  [0.3443976 0.        0.        0.       ]]\n",
            "\n",
            " [[0.3443976 0.        0.        0.       ]\n",
            "  [0.3443976 0.        0.        0.       ]\n",
            "  [0.3443976 0.        0.        0.       ]\n",
            "  ...\n",
            "  [0.3443976 0.        0.        0.       ]\n",
            "  [0.3443976 0.        0.        0.       ]\n",
            "  [0.3443976 0.        0.        0.       ]]\n",
            "\n",
            " [[0.3443976 0.        0.        0.       ]\n",
            "  [0.3443976 0.        0.        0.       ]\n",
            "  [0.3443976 0.        0.        0.       ]\n",
            "  ...\n",
            "  [0.3443976 0.        0.        0.       ]\n",
            "  [0.3443976 0.        0.        0.       ]\n",
            "  [0.3443976 0.        0.        0.       ]]\n",
            "\n",
            " ...\n",
            "\n",
            " [[0.3443976 0.        0.        0.       ]\n",
            "  [0.3443976 0.        0.        0.       ]\n",
            "  [0.3443976 0.        0.        0.       ]\n",
            "  ...\n",
            "  [0.3443976 0.        0.        0.       ]\n",
            "  [0.3443976 0.        0.        0.       ]\n",
            "  [0.3443976 0.        0.        0.       ]]\n",
            "\n",
            " [[0.3443976 0.        0.        0.       ]\n",
            "  [0.3443976 0.        0.        0.       ]\n",
            "  [0.3443976 0.        0.        0.       ]\n",
            "  ...\n",
            "  [0.3443976 0.        0.        0.       ]\n",
            "  [0.3443976 0.        0.        0.       ]\n",
            "  [0.3443976 0.        0.        0.       ]]\n",
            "\n",
            " [[0.3443976 0.        0.        0.       ]\n",
            "  [0.3443976 0.        0.        0.       ]\n",
            "  [0.3443976 0.        0.        0.       ]\n",
            "  ...\n",
            "  [0.3443976 0.        0.        0.       ]\n",
            "  [0.3443976 0.        0.        0.       ]\n",
            "  [0.3443976 0.        0.        0.       ]]]\n"
          ]
        },
        {
          "output_type": "execute_result",
          "data": {
            "text/plain": [
              "<matplotlib.image.AxesImage at 0x7f534e332a00>"
            ]
          },
          "metadata": {},
          "execution_count": 6
        },
        {
          "output_type": "display_data",
          "data": {
            "text/plain": [
              "<Figure size 432x288 with 1 Axes>"
            ],
            "image/png": "[encoded data removed]"
          },
          "metadata": {
            "needs_background": "light"
          }
        }
      ]
    },
    {
      "cell_type": "code",
      "source": [
        "#RGB image\n",
        "# reading the image\n",
        "testImage = img.imread('https://www.schemecolor.com/wallpaper?i=10304&desktop')\n",
        "plt.imshow(testImage)\n",
        "print(testImage)"
      ],
      "metadata": {
        "id": "yqD62NJ3B_eb",
        "colab": {
          "base_uri": "https://localhost:8080/",
          "height": 1000
        },
        "outputId": "0cf39a1b-e8c3-460b-e757-d2d6bc69bf2b"
      },
      "execution_count": 11,
      "outputs": [
        {
          "output_type": "stream",
          "name": "stdout",
          "text": [
            "[[[1. 0. 0.]\n",
            "  [1. 0. 0.]\n",
            "  [1. 0. 0.]\n",
            "  ...\n",
            "  [0. 0. 1.]\n",
            "  [0. 0. 1.]\n",
            "  [0. 0. 1.]]\n",
            "\n",
            " [[1. 0. 0.]\n",
            "  [1. 0. 0.]\n",
            "  [1. 0. 0.]\n",
            "  ...\n",
            "  [0. 0. 1.]\n",
            "  [0. 0. 1.]\n",
            "  [0. 0. 1.]]\n",
            "\n",
            " [[1. 0. 0.]\n",
            "  [1. 0. 0.]\n",
            "  [1. 0. 0.]\n",
            "  ...\n",
            "  [0. 0. 1.]\n",
            "  [0. 0. 1.]\n",
            "  [0. 0. 1.]]\n",
            "\n",
            " ...\n",
            "\n",
            " [[1. 0. 0.]\n",
            "  [1. 0. 0.]\n",
            "  [1. 0. 0.]\n",
            "  ...\n",
            "  [0. 0. 1.]\n",
            "  [0. 0. 1.]\n",
            "  [0. 0. 1.]]\n",
            "\n",
            " [[1. 0. 0.]\n",
            "  [1. 0. 0.]\n",
            "  [1. 0. 0.]\n",
            "  ...\n",
            "  [0. 0. 1.]\n",
            "  [0. 0. 1.]\n",
            "  [0. 0. 1.]]\n",
            "\n",
            " [[1. 0. 0.]\n",
            "  [1. 0. 0.]\n",
            "  [1. 0. 0.]\n",
            "  ...\n",
            "  [0. 0. 1.]\n",
            "  [0. 0. 1.]\n",
            "  [0. 0. 1.]]]\n"
          ]
        },
        {
          "output_type": "display_data",
          "data": {
            "text/plain": [
              "<Figure size 432x288 with 1 Axes>"
            ],
            "image/png": "[encoded data removed]"
          },
          "metadata": {
            "needs_background": "light"
          }
        }
      ]
    },
    {
      "cell_type": "code",
      "source": [
        "# displaying the shape of the image\n",
        "print(testImage.shape)"
      ],
      "metadata": {
        "colab": {
          "base_uri": "https://localhost:8080/"
        },
        "id": "wrDtkl3bZPE8",
        "outputId": "b8a60ab5-8bce-45ad-d225-888661666278"
      },
      "execution_count": 10,
      "outputs": [
        {
          "output_type": "stream",
          "name": "stdout",
          "text": [
            "(1080, 1920, 3)\n"
          ]
        }
      ]
    },
    {
      "cell_type": "code",
      "source": [
        "#read part of image\n",
        "part_of_image = testImage[0:100,0:100,0:4]\n",
        "print(part_of_image)\n",
        "plt.imshow(part_of_image)"
      ],
      "metadata": {
        "id": "F1Hkd7otY96Z"
      },
      "execution_count": null,
      "outputs": []
    },
    {
      "cell_type": "code",
      "source": [
        "#modify red pixels to black\n",
        "testImage[:,:,0] = 0\n",
        "plt.imshow(testImage)"
      ],
      "metadata": {
        "colab": {
          "base_uri": "https://localhost:8080/",
          "height": 258
        },
        "id": "6lIgLSkyZjQ2",
        "outputId": "5e1c463e-5a4c-46fe-aa0f-048a45467495"
      },
      "execution_count": 22,
      "outputs": [
        {
          "output_type": "execute_result",
          "data": {
            "text/plain": [
              "<matplotlib.image.AxesImage at 0x7f5335a6a8b0>"
            ]
          },
          "metadata": {},
          "execution_count": 22
        },
        {
          "output_type": "display_data",
          "data": {
            "text/plain": [
              "<Figure size 432x288 with 1 Axes>"
            ],
            "image/png": "[encoded data removed]"
          },
          "metadata": {
            "needs_background": "light"
          }
        }
      ]
    },
    {
      "cell_type": "code",
      "source": [
        "#modify green pixels to 50% of its value\n",
        "testImage[:,:,1] = testImage[:,:,1] / 2\n",
        "plt.imshow(testImage)"
      ],
      "metadata": {
        "colab": {
          "base_uri": "https://localhost:8080/",
          "height": 258
        },
        "id": "RTZTv9vrZ3ce",
        "outputId": "fbac1ad0-876f-4b1e-8aa2-0470ae30eb87"
      },
      "execution_count": 23,
      "outputs": [
        {
          "output_type": "execute_result",
          "data": {
            "text/plain": [
              "<matplotlib.image.AxesImage at 0x7f5335a474c0>"
            ]
          },
          "metadata": {},
          "execution_count": 23
        },
        {
          "output_type": "display_data",
          "data": {
            "text/plain": [
              "<Figure size 432x288 with 1 Axes>"
            ],
            "image/png": "[encoded data removed]"
          },
          "metadata": {
            "needs_background": "light"
          }
        }
      ]
    },
    {
      "cell_type": "code",
      "source": [
        "# reading the image\n",
        "testImage = img.imread('https://www.schemecolor.com/wallpaper?i=10304&desktop')\n",
        "plt.imshow(testImage)\n",
        "print(testImage)\n",
        "\n",
        "scaling = float(input('Scaling in percentage: '))\n",
        "\n",
        "#red\n",
        "testImage[:,:,0] = testImage[:,:,0]*scaling/100\n",
        "\n",
        "#green\n",
        "testImage[:,:,1] = testImage[:,:,1]*scaling/100\n",
        "\n",
        "#blue\n",
        "testImage[:,:,2] = testImage[:,:,1]*scaling/100\n",
        "\n",
        "print(testImage)\n",
        "plt.imshow(testImage)"
      ],
      "metadata": {
        "colab": {
          "base_uri": "https://localhost:8080/",
          "height": 1000
        },
        "id": "ZTmecCKvep3K",
        "outputId": "e8d429c4-c2a4-46d0-f974-38311164fedd"
      },
      "execution_count": 32,
      "outputs": [
        {
          "output_type": "stream",
          "name": "stdout",
          "text": [
            "[[[1. 0. 0.]\n",
            "  [1. 0. 0.]\n",
            "  [1. 0. 0.]\n",
            "  ...\n",
            "  [0. 0. 1.]\n",
            "  [0. 0. 1.]\n",
            "  [0. 0. 1.]]\n",
            "\n",
            " [[1. 0. 0.]\n",
            "  [1. 0. 0.]\n",
            "  [1. 0. 0.]\n",
            "  ...\n",
            "  [0. 0. 1.]\n",
            "  [0. 0. 1.]\n",
            "  [0. 0. 1.]]\n",
            "\n",
            " [[1. 0. 0.]\n",
            "  [1. 0. 0.]\n",
            "  [1. 0. 0.]\n",
            "  ...\n",
            "  [0. 0. 1.]\n",
            "  [0. 0. 1.]\n",
            "  [0. 0. 1.]]\n",
            "\n",
            " ...\n",
            "\n",
            " [[1. 0. 0.]\n",
            "  [1. 0. 0.]\n",
            "  [1. 0. 0.]\n",
            "  ...\n",
            "  [0. 0. 1.]\n",
            "  [0. 0. 1.]\n",
            "  [0. 0. 1.]]\n",
            "\n",
            " [[1. 0. 0.]\n",
            "  [1. 0. 0.]\n",
            "  [1. 0. 0.]\n",
            "  ...\n",
            "  [0. 0. 1.]\n",
            "  [0. 0. 1.]\n",
            "  [0. 0. 1.]]\n",
            "\n",
            " [[1. 0. 0.]\n",
            "  [1. 0. 0.]\n",
            "  [1. 0. 0.]\n",
            "  ...\n",
            "  [0. 0. 1.]\n",
            "  [0. 0. 1.]\n",
            "  [0. 0. 1.]]]\n",
            "Scaling in percentage: 30\n",
            "[[[0.3 0.  0. ]\n",
            "  [0.3 0.  0. ]\n",
            "  [0.3 0.  0. ]\n",
            "  ...\n",
            "  [0.  0.  0. ]\n",
            "  [0.  0.  0. ]\n",
            "  [0.  0.  0. ]]\n",
            "\n",
            " [[0.3 0.  0. ]\n",
            "  [0.3 0.  0. ]\n",
            "  [0.3 0.  0. ]\n",
            "  ...\n",
            "  [0.  0.  0. ]\n",
            "  [0.  0.  0. ]\n",
            "  [0.  0.  0. ]]\n",
            "\n",
            " [[0.3 0.  0. ]\n",
            "  [0.3 0.  0. ]\n",
            "  [0.3 0.  0. ]\n",
            "  ...\n",
            "  [0.  0.  0. ]\n",
            "  [0.  0.  0. ]\n",
            "  [0.  0.  0. ]]\n",
            "\n",
            " ...\n",
            "\n",
            " [[0.3 0.  0. ]\n",
            "  [0.3 0.  0. ]\n",
            "  [0.3 0.  0. ]\n",
            "  ...\n",
            "  [0.  0.  0. ]\n",
            "  [0.  0.  0. ]\n",
            "  [0.  0.  0. ]]\n",
            "\n",
            " [[0.3 0.  0. ]\n",
            "  [0.3 0.  0. ]\n",
            "  [0.3 0.  0. ]\n",
            "  ...\n",
            "  [0.  0.  0. ]\n",
            "  [0.  0.  0. ]\n",
            "  [0.  0.  0. ]]\n",
            "\n",
            " [[0.3 0.  0. ]\n",
            "  [0.3 0.  0. ]\n",
            "  [0.3 0.  0. ]\n",
            "  ...\n",
            "  [0.  0.  0. ]\n",
            "  [0.  0.  0. ]\n",
            "  [0.  0.  0. ]]]\n"
          ]
        },
        {
          "output_type": "execute_result",
          "data": {
            "text/plain": [
              "<matplotlib.image.AxesImage at 0x7f53356cec40>"
            ]
          },
          "metadata": {},
          "execution_count": 32
        },
        {
          "output_type": "display_data",
          "data": {
            "text/plain": [
              "<Figure size 432x288 with 1 Axes>"
            ],
            "image/png": "[encoded data removed]"
          },
          "metadata": {
            "needs_background": "light"
          }
        }
      ]
    },
    {
      "cell_type": "code",
      "source": [],
      "metadata": {
        "id": "h6uFH1ILfR05"
      },
      "execution_count": 27,
      "outputs": []
    }
  ]
}