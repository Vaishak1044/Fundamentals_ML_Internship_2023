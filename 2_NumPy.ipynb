{
  "nbformat": 4,
  "nbformat_minor": 0,
  "metadata": {
    "colab": {
      "provenance": [],
      "toc_visible": true,
      "authorship_tag": "ABX9TyOnbh5jY2xpUdkB9M4M6pee",
      "include_colab_link": true
    },
    "kernelspec": {
      "name": "python3",
      "display_name": "Python 3"
    },
    "language_info": {
      "name": "python"
    }
  },
  "cells": [
    {
      "cell_type": "markdown",
      "metadata": {
        "id": "view-in-github",
        "colab_type": "text"
      },
      "source": [
        "<a href=\"https://colab.research.google.com/github/Vaishak1044/Fundamentals_ML_Internship_2023/blob/main/2_NumPy.ipynb\" target=\"_parent\"><img src=\"https://colab.research.google.com/assets/colab-badge.svg\" alt=\"Open In Colab\"/></a>"
      ]
    },
    {
      "cell_type": "markdown",
      "source": [
        "# NumPy"
      ],
      "metadata": {
        "id": "wN4LkNvLufph"
      }
    },
    {
      "cell_type": "markdown",
      "source": [
        "Numpy is a Python library for creating and manipulating matrices, the main data structure used by ML algorithms. Matrices are mathematical objects used to store values in rows and columns.\n",
        "\n",
        "NumPy is a powerful library in Python that provides support for arrays and matrices. An array in NumPy is a multi-dimensional, homogeneous data structure that can store elements of the same data type.\n"
      ],
      "metadata": {
        "id": "xBKaOAXcueLa"
      }
    },
    {
      "cell_type": "markdown",
      "source": [
        "# Import NumPy module"
      ],
      "metadata": {
        "id": "7sp8q-b6uvY1"
      }
    },
    {
      "cell_type": "code",
      "execution_count": null,
      "metadata": {
        "id": "W478UqAluav5"
      },
      "outputs": [],
      "source": [
        "import numpy as np "
      ]
    },
    {
      "cell_type": "markdown",
      "source": [
        "# Creating nd Arrays"
      ],
      "metadata": {
        "id": "KBovRsp44D8l"
      }
    },
    {
      "cell_type": "markdown",
      "source": [
        "Create an n-dimensional array: To create an ndarray, we can pass a list, tuple or any array-like object into the array() method, and it will be converted into an ndarray"
      ],
      "metadata": {
        "id": "98-Nu3exu9Hj"
      }
    },
    {
      "cell_type": "code",
      "source": [
        "arr = np.array([1, 2, 3, 4, 5])\n",
        "\n",
        "print(arr)\n",
        "\n",
        "print(type(arr))"
      ],
      "metadata": {
        "colab": {
          "base_uri": "https://localhost:8080/"
        },
        "id": "e4HvROKVv4lz",
        "outputId": "fb8d5d8e-76cc-4abc-905b-fac49692c17a"
      },
      "execution_count": null,
      "outputs": [
        {
          "output_type": "stream",
          "name": "stdout",
          "text": [
            "[1 2 3 4 5]\n",
            "<class 'numpy.ndarray'>\n"
          ]
        }
      ]
    },
    {
      "cell_type": "code",
      "source": [
        "#find mean, median for numpy array containing 10 elements\n",
        "arr = np.array([1,2,3,4,5,6,7,8,9,10])\n",
        "mean=0\n",
        "\n",
        "for i in arr:\n",
        "  mean+=i\n",
        "\n",
        "print(mean/len(arr))"
      ],
      "metadata": {
        "colab": {
          "base_uri": "https://localhost:8080/"
        },
        "id": "OdB6Gwwj_bLt",
        "outputId": "2c7c4373-53b3-4793-c780-dead82ed55c4"
      },
      "execution_count": null,
      "outputs": [
        {
          "output_type": "stream",
          "name": "stdout",
          "text": [
            "5.5\n"
          ]
        }
      ]
    },
    {
      "cell_type": "code",
      "source": [],
      "metadata": {
        "id": "1N_O1IQS_aj3"
      },
      "execution_count": null,
      "outputs": []
    },
    {
      "cell_type": "markdown",
      "source": [
        "Create a 0-D array\n",
        "\n",
        "NumPy arrays have an attribute called **shape** that returns a tuple with each index having the number of corresponding elements.\n",
        "\n",
        "NumPy Arrays provides the **ndim** attribute that returns an integer that tells us how many dimensions the array have."
      ],
      "metadata": {
        "id": "VOgeS1t1wuE7"
      }
    },
    {
      "cell_type": "code",
      "source": [
        "arr = np.array(42)\n",
        "print(arr)\n",
        "print(arr.ndim)\n",
        "print(arr.shape)"
      ],
      "metadata": {
        "colab": {
          "base_uri": "https://localhost:8080/"
        },
        "id": "AE0qz4qRwxdI",
        "outputId": "904238a3-79b8-4664-8e06-24ee89826bd1"
      },
      "execution_count": null,
      "outputs": [
        {
          "output_type": "stream",
          "name": "stdout",
          "text": [
            "0\n",
            "()\n"
          ]
        }
      ]
    },
    {
      "cell_type": "markdown",
      "source": [
        "Create 1-D array: To create a one-dimensional array specify a layer of square brackets\n",
        "An array that has 0-D arrays as its elements is called uni-dimensional or 1-D array"
      ],
      "metadata": {
        "id": "VgpDpAU2x5Ei"
      }
    },
    {
      "cell_type": "code",
      "source": [
        "arr = np.array([1, 2, 3, 4, 5])\n",
        "print(arr)\n",
        "print(arr.ndim)\n",
        "print(arr.shape)"
      ],
      "metadata": {
        "colab": {
          "base_uri": "https://localhost:8080/"
        },
        "id": "GQ5diJ4OxHVt",
        "outputId": "8330958a-015d-4067-ea47-65c9957e9398"
      },
      "execution_count": null,
      "outputs": [
        {
          "output_type": "stream",
          "name": "stdout",
          "text": [
            "[1 2 3 4 5]\n",
            "1\n",
            "(5,)\n"
          ]
        }
      ]
    },
    {
      "cell_type": "markdown",
      "source": [
        "Create 2-D array: To create a two-dimensional array specify an extra layer of square brackets\n",
        "An array that has 1-D arrays as its elements is called a 2-D array. These are often used to represent matrix or 2nd order tensors."
      ],
      "metadata": {
        "id": "xPfoNlFjyeZe"
      }
    },
    {
      "cell_type": "code",
      "source": [
        "arr = np.array([[1, 2, 3], [4, 5, 6],[6,7,8]])\n",
        "print(arr)\n",
        "print(arr.ndim)\n",
        "print(arr.shape)"
      ],
      "metadata": {
        "colab": {
          "base_uri": "https://localhost:8080/"
        },
        "id": "rjZZM0XVyVfa",
        "outputId": "f86bb3ad-b6a2-4615-d5b9-3f95b7af9833"
      },
      "execution_count": null,
      "outputs": [
        {
          "output_type": "stream",
          "name": "stdout",
          "text": [
            "[[1 2 3]\n",
            " [4 5 6]\n",
            " [6 7 8]]\n",
            "2\n",
            "(3, 3)\n"
          ]
        }
      ]
    },
    {
      "cell_type": "markdown",
      "source": [
        "Create 3-D array: An array that has 2-D arrays (matrices) as its elements is called 3-D array.\n",
        "These are often used to represent a 3rd order tensor."
      ],
      "metadata": {
        "id": "JuOvjp93yyOM"
      }
    },
    {
      "cell_type": "code",
      "source": [
        "arr = np.array([[[1, 2, 3], [4, 5, 6]], [[7, 8, 9], [10, 11, 12]]])\n",
        "print(arr)\n",
        "print(arr.ndim)\n",
        "print(arr.shape)"
      ],
      "metadata": {
        "colab": {
          "base_uri": "https://localhost:8080/"
        },
        "id": "V3VSWCtvy0fB",
        "outputId": "f7acb523-e53f-4692-c7d2-981ea9762b9d"
      },
      "execution_count": null,
      "outputs": [
        {
          "output_type": "stream",
          "name": "stdout",
          "text": [
            "[[[ 1  2  3]\n",
            "  [ 4  5  6]]\n",
            "\n",
            " [[ 7  8  9]\n",
            "  [10 11 12]]]\n",
            "3\n",
            "(2, 2, 3)\n"
          ]
        }
      ]
    },
    {
      "cell_type": "code",
      "source": [],
      "metadata": {
        "id": "uuYBoQddk82N"
      },
      "execution_count": null,
      "outputs": []
    },
    {
      "cell_type": "code",
      "source": [],
      "metadata": {
        "id": "NfIL_Y4Yk8zB"
      },
      "execution_count": null,
      "outputs": []
    },
    {
      "cell_type": "markdown",
      "source": [
        "# NOTE: \n",
        "        A 0-D array has 0 square brackets\n",
        "        1-D array has 1 square brackets at the start and end\n",
        "        2-D array has 2 square brackets at the start and end\n",
        "        3-D array has 3 square brakets at the start and end"
      ],
      "metadata": {
        "id": "cn3mU8Hi3kCG"
      }
    },
    {
      "cell_type": "markdown",
      "source": [
        "Higher Dimensional Arrays: An array can have any number of dimensions.\n",
        "When the array is created, you can define the number of dimensions by using the ndmin argument."
      ],
      "metadata": {
        "id": "6wPA_75e2JuH"
      }
    },
    {
      "cell_type": "code",
      "source": [
        "arr = np.array([[1, 2, 3, 4],[3,4,5,6]], ndmin=5)\n",
        "print(arr)\n",
        "print(arr.shape)\n"
      ],
      "metadata": {
        "colab": {
          "base_uri": "https://localhost:8080/"
        },
        "id": "A8iBKV4015pc",
        "outputId": "7b5b2323-83a1-4ad1-98db-c8bd2749ac88"
      },
      "execution_count": null,
      "outputs": [
        {
          "output_type": "stream",
          "name": "stdout",
          "text": [
            "[[[[[1 2 3 4]\n",
            "    [3 4 5 6]]]]]\n",
            "(1, 1, 1, 2, 4)\n"
          ]
        }
      ]
    },
    {
      "cell_type": "code",
      "source": [
        "a = np.array([1, 2, 3, 4])\n",
        "b = np.array([5, 6, 7, 8])\n",
        "\n",
        "# Add the arrays\n",
        "c = a + b\n",
        "print(\"Addition of arrays a and b:\", c)\n",
        "\n",
        "# Multiply the arrays\n",
        "d = a * b\n",
        "print(\"Multiplication of arrays a and b:\", d)"
      ],
      "metadata": {
        "id": "5-v8RJblpOdc"
      },
      "execution_count": null,
      "outputs": []
    },
    {
      "cell_type": "code",
      "source": [
        "f = np.dot(a, b)\n",
        "print(\"Dot product of arrays a and b:\", f)"
      ],
      "metadata": {
        "id": "5vpXi-DgevhT"
      },
      "execution_count": null,
      "outputs": []
    },
    {
      "cell_type": "code",
      "source": [
        "Z = np.random.randint((16,4))\n",
        "print(Z)"
      ],
      "metadata": {
        "id": "vU8dHPWhfCRT"
      },
      "execution_count": null,
      "outputs": []
    },
    {
      "cell_type": "markdown",
      "source": [
        "# NumPy Array Indexing"
      ],
      "metadata": {
        "id": "L5GnalYS4PNC"
      }
    },
    {
      "cell_type": "markdown",
      "source": [
        "Array indexing is the same as accessing an array element.\n",
        "\n",
        "You can access an array element by referring to its index number.\n",
        "\n",
        "The indexes in NumPy arrays start with 0, meaning that the first element has index 0, and the second has index 1 etc."
      ],
      "metadata": {
        "id": "T2lnzXuq4YmB"
      }
    },
    {
      "cell_type": "code",
      "source": [
        "arr = np.array([1, 2, 3, 4])\n",
        "\n",
        "print(arr[0])"
      ],
      "metadata": {
        "colab": {
          "base_uri": "https://localhost:8080/"
        },
        "id": "ZuSFcybDzOo_",
        "outputId": "022648a1-6a58-424b-98a9-3c5f51379bc1"
      },
      "execution_count": null,
      "outputs": [
        {
          "output_type": "stream",
          "name": "stdout",
          "text": [
            "1\n"
          ]
        }
      ]
    },
    {
      "cell_type": "markdown",
      "source": [
        "Get third and fourth elements from the following array and add them."
      ],
      "metadata": {
        "id": "BkaiDIBE4r94"
      }
    },
    {
      "cell_type": "code",
      "source": [
        "#@title Get third and fourth elements from the following array and add them.\n",
        "import numpy as np\n",
        "arr = np.array([1, 2, 3, 4])\n",
        "\n",
        "print(arr[2] + arr[3])"
      ],
      "metadata": {
        "colab": {
          "base_uri": "https://localhost:8080/"
        },
        "id": "xg5b7NO44f5W",
        "outputId": "a38d519c-9e14-46e4-f883-9c64db5612f2"
      },
      "execution_count": null,
      "outputs": [
        {
          "output_type": "stream",
          "name": "stdout",
          "text": [
            "7\n"
          ]
        }
      ]
    },
    {
      "cell_type": "code",
      "source": [
        "sum = 0\n",
        "for i in arr:\n",
        "  sum += i\n",
        "print(sum)"
      ],
      "metadata": {
        "colab": {
          "base_uri": "https://localhost:8080/"
        },
        "id": "qqSefhgkyzJe",
        "outputId": "9de27e12-05a3-4e61-99d8-26dc481c7eef"
      },
      "execution_count": null,
      "outputs": [
        {
          "output_type": "stream",
          "name": "stdout",
          "text": [
            "10\n"
          ]
        }
      ]
    },
    {
      "cell_type": "markdown",
      "source": [
        "Access 2-D Arrays: To access elements from 2-D arrays we can use comma separated integers representing the dimension and the index of the element.\n",
        "\n",
        "Think of 2-D arrays like a table with **rows** and **columns**, where the **dimension** represents the **row** and the **index** represents the **column**."
      ],
      "metadata": {
        "id": "si0z25mt489_"
      }
    },
    {
      "cell_type": "code",
      "source": [
        "arr = np.array([[1,2,3,4,5], [6,7,8,9,10]])\n",
        "\n",
        "print('2nd element on 1st row: ', arr[1, 1:5])"
      ],
      "metadata": {
        "colab": {
          "base_uri": "https://localhost:8080/"
        },
        "id": "TF84YTz44vCB",
        "outputId": "23de6bde-bddf-47cb-9629-19e0da723d6f"
      },
      "execution_count": null,
      "outputs": [
        {
          "output_type": "stream",
          "name": "stdout",
          "text": [
            "2nd element on 1st row:  [ 7  8  9 10]\n"
          ]
        }
      ]
    },
    {
      "cell_type": "code",
      "source": [
        "#@title Access the element on the 2nd row, 5th column\n",
        "arr = np.array([[1,2,3,4,5], [6,7,8,9,10]])\n",
        "\n",
        "print('5th element on 2nd row: ', arr[1, 4])"
      ],
      "metadata": {
        "colab": {
          "base_uri": "https://localhost:8080/"
        },
        "id": "0qXi04YH6Rpq",
        "outputId": "a8f9f184-c3d3-4535-81ef-423973cb016a"
      },
      "execution_count": null,
      "outputs": [
        {
          "output_type": "stream",
          "name": "stdout",
          "text": [
            "5th element on 2nd row:  10\n"
          ]
        }
      ]
    },
    {
      "cell_type": "markdown",
      "source": [
        "Access 3-D Arrays: To access elements from 3-D arrays we can use comma separated integers representing the dimensions and the index of the element."
      ],
      "metadata": {
        "id": "VnUIR8Pe6fcN"
      }
    },
    {
      "cell_type": "code",
      "source": [
        "arr = np.array([[[1, 2, 3], [4, 5, 6]], [[7, 8, 9], [10, 11, 12]]])\n",
        "\n",
        "print('3rd element of the 2nd array of the 1st array: ',arr[0, 1, 2])"
      ],
      "metadata": {
        "colab": {
          "base_uri": "https://localhost:8080/"
        },
        "id": "NM9VtO166UPn",
        "outputId": "9cddbf9e-51c0-4ca2-da81-8b5612904935"
      },
      "execution_count": null,
      "outputs": [
        {
          "output_type": "stream",
          "name": "stdout",
          "text": [
            "3rd element of the 2nd array of the 1st array:  6\n"
          ]
        }
      ]
    },
    {
      "cell_type": "markdown",
      "source": [
        "Negative Indexing"
      ],
      "metadata": {
        "id": "ngW9VhdJ7Ryp"
      }
    },
    {
      "cell_type": "code",
      "source": [
        "arr = np.array([[1,2,3,4,5], [6,7,8,9,10]])\n",
        "\n",
        "print('Last element from 2nd dim: ', arr[1, -1])\n",
        "\n",
        "#print('Last element from 2nd dim: ', arr[-1, -1])"
      ],
      "metadata": {
        "colab": {
          "base_uri": "https://localhost:8080/"
        },
        "id": "BqjDH_C07Of8",
        "outputId": "b7e22466-b7b1-481e-faba-e8d3dd878cba"
      },
      "execution_count": null,
      "outputs": [
        {
          "output_type": "stream",
          "name": "stdout",
          "text": [
            "Last element from 2nd dim:  10\n"
          ]
        }
      ]
    },
    {
      "cell_type": "code",
      "source": [],
      "metadata": {
        "id": "4OPrOh0E7CYA"
      },
      "execution_count": null,
      "outputs": []
    },
    {
      "cell_type": "markdown",
      "source": [
        "# NumPy Array Slicing\n",
        "\n",
        "  Slicing in python means taking elements from one given index to another given index.\n",
        "\n",
        "We pass slice instead of index like this: [start:end].\n",
        "\n",
        "We can also define the step, like this: [start:end:step].\n",
        "\n",
        "If we don't pass start its considered 0\n",
        "\n",
        "If we don't pass end its considered length of array in that dimension\n",
        "\n",
        "If we don't pass step its considered 1"
      ],
      "metadata": {
        "id": "ijL9lUW48Yf-"
      }
    },
    {
      "cell_type": "markdown",
      "source": [
        "Slice elements from index 1 to index 5 from the following array:"
      ],
      "metadata": {
        "id": "5fWcVHts8pJp"
      }
    },
    {
      "cell_type": "code",
      "source": [
        "arr = np.array([1, 2, 3, 4, 5, 6, 7])\n",
        "\n",
        "print(arr[1:5])"
      ],
      "metadata": {
        "colab": {
          "base_uri": "https://localhost:8080/"
        },
        "id": "ZqT60Pfm8j4x",
        "outputId": "b5d347bc-c270-41f7-83cc-7852633ac3c4"
      },
      "execution_count": null,
      "outputs": [
        {
          "output_type": "stream",
          "name": "stdout",
          "text": [
            "[2 3 4 5]\n"
          ]
        }
      ]
    },
    {
      "cell_type": "markdown",
      "source": [
        "Slice elements from index 4 to the end of the array"
      ],
      "metadata": {
        "id": "FB64pBtb8yeV"
      }
    },
    {
      "cell_type": "code",
      "source": [
        "arr = np.array([1, 2, 3, 4, 5, 6, 7])\n",
        "\n",
        "print(arr[4:])"
      ],
      "metadata": {
        "colab": {
          "base_uri": "https://localhost:8080/"
        },
        "id": "R_SVf1Tf8sMk",
        "outputId": "ce2fba24-b8f6-442d-b8fc-2efdc3eb2b19"
      },
      "execution_count": null,
      "outputs": [
        {
          "output_type": "stream",
          "name": "stdout",
          "text": [
            "[5 6 7]\n"
          ]
        }
      ]
    },
    {
      "cell_type": "markdown",
      "source": [
        "Negative Slicing"
      ],
      "metadata": {
        "id": "_JGBVAw985c6"
      }
    },
    {
      "cell_type": "code",
      "source": [
        "arr = np.array([1, 2, 3, 4, 5, 6, 7])\n",
        "\n",
        "print(arr[-3:-1])"
      ],
      "metadata": {
        "colab": {
          "base_uri": "https://localhost:8080/"
        },
        "id": "gtnTUaLe81Ax",
        "outputId": "89189aec-989b-4e60-ddce-a32ec323fdcf"
      },
      "execution_count": null,
      "outputs": [
        {
          "output_type": "stream",
          "name": "stdout",
          "text": [
            "[5 6]\n"
          ]
        }
      ]
    },
    {
      "cell_type": "markdown",
      "source": [
        "Slicing with Step"
      ],
      "metadata": {
        "id": "AldAQ3IE9az5"
      }
    },
    {
      "cell_type": "code",
      "source": [
        "arr = np.array([1, 2, 3, 4, 5, 6, 7])\n",
        "\n",
        "print(arr[1:5:2])"
      ],
      "metadata": {
        "colab": {
          "base_uri": "https://localhost:8080/"
        },
        "id": "dJChTOeg9DXU",
        "outputId": "b8dea484-422d-4dea-a9df-a05f652c4cca"
      },
      "execution_count": null,
      "outputs": [
        {
          "output_type": "stream",
          "name": "stdout",
          "text": [
            "[2 4]\n"
          ]
        }
      ]
    },
    {
      "cell_type": "markdown",
      "source": [
        "Slicing **2-D Arrays**"
      ],
      "metadata": {
        "id": "K6xqPFew9kiO"
      }
    },
    {
      "cell_type": "markdown",
      "source": [
        "From the second element, slice elements from index 1 to index 4 (not included):"
      ],
      "metadata": {
        "id": "JZsJ3d5y9tGU"
      }
    },
    {
      "cell_type": "code",
      "source": [
        "arr = np.array([[1, 2, 3, 4, 5], [6, 7, 8, 9, 10]])\n",
        "\n",
        "print(arr[1, 1:4])"
      ],
      "metadata": {
        "colab": {
          "base_uri": "https://localhost:8080/"
        },
        "id": "kt8b6ZTr9f7H",
        "outputId": "9d6a1c86-94ca-46af-90a4-b0a5d8c7bdb5"
      },
      "execution_count": null,
      "outputs": [
        {
          "output_type": "stream",
          "name": "stdout",
          "text": [
            "[7 8 9]\n"
          ]
        }
      ]
    },
    {
      "cell_type": "code",
      "source": [
        "#@title From both elements, return index 2:\n",
        "arr = np.array([[1, 2, 3, 4, 5], [6, 7, 8, 9, 10]])\n",
        "\n",
        "print(arr[0:2, 2])"
      ],
      "metadata": {
        "colab": {
          "base_uri": "https://localhost:8080/"
        },
        "id": "97olK1mE92lW",
        "outputId": "7e1eacc3-1446-4523-9a8a-47d501e9551c"
      },
      "execution_count": null,
      "outputs": [
        {
          "output_type": "stream",
          "name": "stdout",
          "text": [
            "[3 8]\n"
          ]
        }
      ]
    },
    {
      "cell_type": "code",
      "source": [
        "#@title From both elements, slice index 1 to index 4 (not included), this will return a 2-D array:\n",
        "\n",
        "arr = np.array([[1, 2, 3, 4, 5], [6, 7, 8, 9, 10]])\n",
        "\n",
        "print(arr[0:2, 1:4])\n"
      ],
      "metadata": {
        "colab": {
          "base_uri": "https://localhost:8080/"
        },
        "id": "IoAS_YAU-Rat",
        "outputId": "9fa0dffd-6755-4491-d103-e6ef8f2085c6"
      },
      "execution_count": null,
      "outputs": [
        {
          "output_type": "stream",
          "name": "stdout",
          "text": [
            "[[2 3 4]\n",
            " [7 8 9]]\n"
          ]
        }
      ]
    },
    {
      "cell_type": "markdown",
      "source": [
        "# NumPy Data types\n",
        "\n",
        "**Data Types in Python**\n",
        "By default Python have these data types:\n",
        "\n",
        "*strings* - used to represent text data, the text is given under quote marks. e.g. \"ABCD\"\n",
        "\n",
        "*integer* - used to represent integer numbers. e.g. -1, -2, -3\n",
        "\n",
        "*float* - used to represent real numbers. e.g. 1.2, 42.42\n",
        "\n",
        "*boolean* - used to represent True or False.\n",
        "\n",
        "*complex* - used to represent complex numbers. e.g. 1.0 + 2.0j, 1.5 + 2.5j\n",
        "\n",
        "------------------------------------------------------------------------\n",
        "\n",
        "**Data Types in NumPy**\n",
        "NumPy has some extra data types, and refer to data types with one character, like i for integers, u for unsigned integers etc.\n",
        "\n",
        "Below is a list of all data types in NumPy and the characters used to represent them.\n",
        "\n",
        "i - integer\n",
        "\n",
        "b - boolean\n",
        "\n",
        "u - unsigned integer\n",
        "\n",
        "f - float\n",
        "\n",
        "c - complex float\n",
        "\n",
        "m - timedelta\n",
        "\n",
        "M - datetime\n",
        "\n",
        "O - object\n",
        "\n",
        "S - string\n",
        "\n",
        "U - unicode string\n",
        "\n",
        "V - fixed chunk of memory for other type ( void )"
      ],
      "metadata": {
        "id": "S4CA6LKX_p34"
      }
    },
    {
      "cell_type": "markdown",
      "source": [
        "Checking the Data Type of an Array"
      ],
      "metadata": {
        "id": "zKQeQFyFAhM4"
      }
    },
    {
      "cell_type": "code",
      "source": [
        "arr = np.array([1, 2, 3, 4])\n",
        "\n",
        "print(arr.dtype)"
      ],
      "metadata": {
        "colab": {
          "base_uri": "https://localhost:8080/"
        },
        "id": "bsUoai4q_PAZ",
        "outputId": "45963182-c044-4920-9950-6e81efb1a853"
      },
      "execution_count": null,
      "outputs": [
        {
          "output_type": "stream",
          "name": "stdout",
          "text": [
            "int64\n"
          ]
        }
      ]
    },
    {
      "cell_type": "markdown",
      "source": [
        "Get the data type of an array containing strings:"
      ],
      "metadata": {
        "id": "jD8PZsuSAlqD"
      }
    },
    {
      "cell_type": "code",
      "source": [
        "arr = np.array(['apple', 'banana', 'cherry'])\n",
        "\n",
        "print(arr.dtype)"
      ],
      "metadata": {
        "colab": {
          "base_uri": "https://localhost:8080/"
        },
        "id": "zKMHVz3HAkC8",
        "outputId": "30295299-4798-466a-99f2-bc047e6c801b"
      },
      "execution_count": null,
      "outputs": [
        {
          "output_type": "stream",
          "name": "stdout",
          "text": [
            "<U6\n"
          ]
        }
      ]
    },
    {
      "cell_type": "markdown",
      "source": [
        "Creating Arrays With a Defined Data Type"
      ],
      "metadata": {
        "id": "jbs3g-RFAr0o"
      }
    },
    {
      "cell_type": "code",
      "source": [
        "arr = np.array([1, 2, 3, 4], dtype='S')\n",
        "\n",
        "print(arr)\n",
        "print(arr.dtype)"
      ],
      "metadata": {
        "colab": {
          "base_uri": "https://localhost:8080/"
        },
        "id": "ilacMUsPAuRq",
        "outputId": "0dc117c5-d6ec-4771-a7e1-468c3b1923e8"
      },
      "execution_count": null,
      "outputs": [
        {
          "output_type": "stream",
          "name": "stdout",
          "text": [
            "[b'1' b'2' b'3' b'4']\n",
            "|S1\n"
          ]
        }
      ]
    },
    {
      "cell_type": "markdown",
      "source": [
        "**NOTE: above output, b --> byte, for above example it means byte String**"
      ],
      "metadata": {
        "id": "XWZG5aJqBsva"
      }
    },
    {
      "cell_type": "markdown",
      "source": [
        "For i, u, f, S and U we can define size as well."
      ],
      "metadata": {
        "id": "il2oHDUnBIBT"
      }
    },
    {
      "cell_type": "code",
      "source": [
        "arr = np.array([1, 2, 3, 4], dtype='i4')\n",
        "\n",
        "print(arr)\n",
        "print(arr.dtype)"
      ],
      "metadata": {
        "colab": {
          "base_uri": "https://localhost:8080/"
        },
        "id": "Uo0VLO1tAwca",
        "outputId": "5bdce3ae-fbdb-4298-85a8-aba3d9cdc710"
      },
      "execution_count": null,
      "outputs": [
        {
          "output_type": "stream",
          "name": "stdout",
          "text": [
            "[1 2 3 4]\n",
            "int32\n"
          ]
        }
      ]
    },
    {
      "cell_type": "code",
      "source": [],
      "metadata": {
        "id": "ENxUerpCBT8x"
      },
      "execution_count": null,
      "outputs": []
    },
    {
      "cell_type": "markdown",
      "source": [
        "# NumPy Array Iterating\n",
        "  Iterating means going through elements one by one.\n",
        "\n",
        "  As we deal with multi-dimensional arrays in numpy, we can do this using basic for loop of python.\n",
        "\n",
        "  If we iterate on a 1-D array it will go through each element one by one."
      ],
      "metadata": {
        "id": "f4BfTmbSCgnK"
      }
    },
    {
      "cell_type": "markdown",
      "source": [
        "Iterate on the elements of the following 1-D array:"
      ],
      "metadata": {
        "id": "TqlMijJ4CtQz"
      }
    },
    {
      "cell_type": "code",
      "source": [
        "arr = np.array([1, 2, 3])\n",
        "\n",
        "for x in arr:\n",
        "  print(x)"
      ],
      "metadata": {
        "colab": {
          "base_uri": "https://localhost:8080/"
        },
        "id": "bAD2XMacCush",
        "outputId": "e1a64f49-9b87-4d8c-dcc0-37fda0d86de3"
      },
      "execution_count": null,
      "outputs": [
        {
          "output_type": "stream",
          "name": "stdout",
          "text": [
            "1\n",
            "2\n",
            "3\n"
          ]
        }
      ]
    },
    {
      "cell_type": "markdown",
      "source": [
        "Iterate on the elements of the following 2-D array:"
      ],
      "metadata": {
        "id": "O--fquuZC2Ng"
      }
    },
    {
      "cell_type": "code",
      "source": [
        "arr = np.array([[1, 2, 3], [4, 5, 6]])\n",
        "\n",
        "for x in arr:\n",
        "  print(x)"
      ],
      "metadata": {
        "colab": {
          "base_uri": "https://localhost:8080/"
        },
        "id": "qDleR3mvCxVO",
        "outputId": "a752dee1-56fb-4dec-e1db-d73887841b3f"
      },
      "execution_count": null,
      "outputs": [
        {
          "output_type": "stream",
          "name": "stdout",
          "text": [
            "[1 2 3]\n",
            "[4 5 6]\n"
          ]
        }
      ]
    },
    {
      "cell_type": "markdown",
      "source": [
        "To return the actual values, the scalars, we have to iterate the arrays in each dimension"
      ],
      "metadata": {
        "id": "IAdzkTkiC9Fd"
      }
    },
    {
      "cell_type": "code",
      "source": [
        "arr = np.array([[1, 2, 3], [4, 5, 6]])\n",
        "\n",
        "for x in arr:\n",
        "  for y in x:\n",
        "    print(y)"
      ],
      "metadata": {
        "colab": {
          "base_uri": "https://localhost:8080/"
        },
        "id": "jm3UiQa8C4am",
        "outputId": "2d34db7d-3611-4d3e-b06d-0e698758ef60"
      },
      "execution_count": null,
      "outputs": [
        {
          "output_type": "stream",
          "name": "stdout",
          "text": [
            "1\n",
            "2\n",
            "3\n",
            "4\n",
            "5\n",
            "6\n"
          ]
        }
      ]
    },
    {
      "cell_type": "markdown",
      "source": [
        "Iterate on the elements of the following 3-D array:"
      ],
      "metadata": {
        "id": "QeZMz8okDU4d"
      }
    },
    {
      "cell_type": "code",
      "source": [
        "arr = np.array([[[1, 2, 3], [4, 5, 6]], [[7, 8, 9], [10, 11, 12]]])\n",
        "\n",
        "for x in arr:\n",
        "  print(x)"
      ],
      "metadata": {
        "colab": {
          "base_uri": "https://localhost:8080/"
        },
        "id": "JQbXExmSDAMb",
        "outputId": "6f76e2a0-f020-4858-b98e-11ef6b98ff40"
      },
      "execution_count": null,
      "outputs": [
        {
          "output_type": "stream",
          "name": "stdout",
          "text": [
            "[[1 2 3]\n",
            " [4 5 6]]\n",
            "[[ 7  8  9]\n",
            " [10 11 12]]\n"
          ]
        }
      ]
    },
    {
      "cell_type": "markdown",
      "source": [
        "Iterate down to the scalars:"
      ],
      "metadata": {
        "id": "UGOrEu1jDh3B"
      }
    },
    {
      "cell_type": "code",
      "source": [
        "arr = np.array([[[1, 2, 3], [4, 5, 6]], [[7, 8, 9], [10, 11, 12]]])\n",
        "\n",
        "for x in arr:\n",
        "  for y in x:\n",
        "    for z in y:\n",
        "      print(z)"
      ],
      "metadata": {
        "colab": {
          "base_uri": "https://localhost:8080/"
        },
        "id": "a7Omg98LDcQ5",
        "outputId": "96a3864c-8976-418a-e0d7-618af9b391bb"
      },
      "execution_count": null,
      "outputs": [
        {
          "output_type": "stream",
          "name": "stdout",
          "text": [
            "1\n",
            "2\n",
            "3\n",
            "4\n",
            "5\n",
            "6\n",
            "7\n",
            "8\n",
            "9\n",
            "10\n",
            "11\n",
            "12\n"
          ]
        }
      ]
    },
    {
      "cell_type": "code",
      "source": [],
      "metadata": {
        "id": "8TRlkeMHDlGh"
      },
      "execution_count": null,
      "outputs": []
    },
    {
      "cell_type": "markdown",
      "source": [
        "# Iterating Arrays Using nditer()\n",
        "  \n",
        "  \n",
        "  The function nditer() is a helping function that can be used from very basic to very advanced iterations. It solves some basic issues which we face in iteration, lets go through it with examples.\n",
        "\n",
        "\n",
        "Iterating on Each Scalar Element\n",
        "  In basic for loops, iterating through each scalar of an array we need to use n for loops which can be difficult to write for arrays with very high dimensionality."
      ],
      "metadata": {
        "id": "e-ix4BoHDwWN"
      }
    },
    {
      "cell_type": "markdown",
      "source": [
        "Iterate through the following 3-D array:"
      ],
      "metadata": {
        "id": "-oWzY57ND5h9"
      }
    },
    {
      "cell_type": "code",
      "source": [
        "arr = np.array([[[1, 2], [3, 4]], [[5, 6], [7, 8]]])\n",
        "\n",
        "for x in np.nditer(arr):\n",
        "  print(x)"
      ],
      "metadata": {
        "colab": {
          "base_uri": "https://localhost:8080/"
        },
        "id": "CbjF8MPZD95w",
        "outputId": "b8f38dcd-69f4-4244-bbc7-2978b08804b6"
      },
      "execution_count": null,
      "outputs": [
        {
          "output_type": "stream",
          "name": "stdout",
          "text": [
            "1\n",
            "2\n",
            "3\n",
            "4\n",
            "5\n",
            "6\n",
            "7\n",
            "8\n"
          ]
        }
      ]
    },
    {
      "cell_type": "markdown",
      "source": [],
      "metadata": {
        "id": "LuxfXd8_D9GQ"
      }
    },
    {
      "cell_type": "markdown",
      "source": [
        "# Populate arrays with sequences of numbers"
      ],
      "metadata": {
        "id": "qLzVPO5rGNbS"
      }
    },
    {
      "cell_type": "code",
      "source": [
        "arr = np.arange(5, 12)\n",
        "print(arr)\n",
        "print(arr.shape)\n",
        "print(arr.ndim)"
      ],
      "metadata": {
        "colab": {
          "base_uri": "https://localhost:8080/"
        },
        "id": "UT52mD-oGPfs",
        "outputId": "9e62af43-84af-4aff-ed86-53c030412b08"
      },
      "execution_count": null,
      "outputs": [
        {
          "output_type": "stream",
          "name": "stdout",
          "text": [
            "[ 5  6  7  8  9 10 11]\n",
            "(7,)\n",
            "1\n"
          ]
        }
      ]
    },
    {
      "cell_type": "code",
      "source": [
        "#arrange with step size\n",
        "arr = np.arange(5, 12, 3)\n",
        "print(arr)\n",
        "print(arr.shape)\n",
        "print(arr.ndim)"
      ],
      "metadata": {
        "colab": {
          "base_uri": "https://localhost:8080/"
        },
        "id": "0Gi14NFPGVD8",
        "outputId": "edb426d1-2575-4131-c48d-813d95788fe3"
      },
      "execution_count": null,
      "outputs": [
        {
          "output_type": "stream",
          "name": "stdout",
          "text": [
            "[ 5  8 11]\n",
            "(3,)\n",
            "1\n"
          ]
        }
      ]
    },
    {
      "cell_type": "code",
      "source": [],
      "metadata": {
        "id": "kogpNCITG35s"
      },
      "execution_count": null,
      "outputs": []
    },
    {
      "cell_type": "markdown",
      "source": [
        "# Populate arrays with random numbers"
      ],
      "metadata": {
        "id": "yVdN5aS0Hrsv"
      }
    },
    {
      "cell_type": "markdown",
      "source": [
        "\n",
        "\n",
        "numpy.random.randint() fills random integer values\n",
        "Syntax: numpy.random.randint(low, high=None, size=None, dtype=’l’)\n",
        "  \n",
        "  where size = [int or tuple of ints, optional] Output shape. If the given shape is, e.g., (m, n, k), then m * n * k samples are drawn. Default is None, in which case a single value is returned.\n",
        "  \n",
        "  dtype : [optional] Desired output data-type.\n",
        "\n",
        "**Note:**The numpy.random.rand() function creates an array of specified shape and fills it with random values, its syntax is different than randint"
      ],
      "metadata": {
        "id": "QIOWz69vHuuN"
      }
    },
    {
      "cell_type": "markdown",
      "source": [
        "Randomly constructing 1D array "
      ],
      "metadata": {
        "id": "6GnzoGcEIOy3"
      }
    },
    {
      "cell_type": "code",
      "source": [
        "arr = np.random.randint(low=50, high=101, size=(6))\n",
        "print(arr);"
      ],
      "metadata": {
        "colab": {
          "base_uri": "https://localhost:8080/"
        },
        "id": "NRF1Dn69IX8f",
        "outputId": "469eb8ee-a1d0-4cb2-d909-1e9a4806ac22"
      },
      "execution_count": null,
      "outputs": [
        {
          "output_type": "stream",
          "name": "stdout",
          "text": [
            "[100  80  70  52  95  84]\n"
          ]
        }
      ]
    },
    {
      "cell_type": "markdown",
      "source": [
        "Randomly constructing 2D array"
      ],
      "metadata": {
        "id": "UFZnxmkZKcYW"
      }
    },
    {
      "cell_type": "code",
      "source": [
        "arr = np.random.randint(low=50, high=101, size=(6,2))\n",
        "print(arr)"
      ],
      "metadata": {
        "colab": {
          "base_uri": "https://localhost:8080/"
        },
        "id": "HHYnVUrHKgBv",
        "outputId": "414614af-9dba-4bc2-ad71-a33255b6b366"
      },
      "execution_count": null,
      "outputs": [
        {
          "output_type": "stream",
          "name": "stdout",
          "text": [
            "[[66 91]\n",
            " [58 74]\n",
            " [58 96]\n",
            " [81 96]\n",
            " [82 93]\n",
            " [69 52]]\n"
          ]
        }
      ]
    },
    {
      "cell_type": "code",
      "source": [
        "#@title Write a program to create 16 batches with each batch having 4 elements where each value can range from 0 to 3\n",
        "arr = np.random.randint(low=0, high=64, size=(16,4))\n",
        "print(arr)\n"
      ],
      "metadata": {
        "colab": {
          "base_uri": "https://localhost:8080/"
        },
        "id": "8JEIzpS6kt9c",
        "outputId": "2f09efcc-d5e5-4897-a29d-fc38f19c376a"
      },
      "execution_count": null,
      "outputs": [
        {
          "output_type": "stream",
          "name": "stdout",
          "text": [
            "[[36 13 56 39]\n",
            " [56 22 46 51]\n",
            " [58 32 46 32]\n",
            " [32 39 57 31]\n",
            " [ 7 16 49 61]\n",
            " [18 43  8 54]\n",
            " [10  2 47 55]\n",
            " [36  2 44 59]\n",
            " [32 58 29 18]\n",
            " [60 54 52 51]\n",
            " [49 11 21  9]\n",
            " [17 54 61  9]\n",
            " [30 28 61 10]\n",
            " [57 27 27  0]\n",
            " [16  0 41 40]\n",
            " [23 59 50 16]]\n"
          ]
        }
      ]
    },
    {
      "cell_type": "code",
      "source": [
        "arr = np.random.randint(low=50, high=101, size=(3,3,3))\n",
        "print(arr)"
      ],
      "metadata": {
        "colab": {
          "base_uri": "https://localhost:8080/"
        },
        "id": "VG6SAqzrIlVr",
        "outputId": "dabb0f2e-5cad-43f7-e41c-0322c2e5faa2"
      },
      "execution_count": null,
      "outputs": [
        {
          "output_type": "stream",
          "name": "stdout",
          "text": [
            "[[[82 51 80]\n",
            "  [84 94 97]\n",
            "  [98 54 84]]\n",
            "\n",
            " [[82 83 98]\n",
            "  [87 72 65]\n",
            "  [87 55 90]]\n",
            "\n",
            " [[86 85 71]\n",
            "  [72 52 94]\n",
            "  [91 60 94]]]\n"
          ]
        }
      ]
    },
    {
      "cell_type": "code",
      "source": [],
      "metadata": {
        "id": "ilsKVMIiKvn4"
      },
      "execution_count": null,
      "outputs": []
    },
    {
      "cell_type": "markdown",
      "source": [
        "# Mathematical operation on NumPy operands"
      ],
      "metadata": {
        "id": "PFcfLq3pcFPn"
      }
    },
    {
      "cell_type": "markdown",
      "source": [
        "If you want to add or subtract two arrays, linear algebra requires that the two operands have the same dimensions. Furthermore, if you want to multiply two arrays, linear algebra imposes strict rules on the dimensional compatibility of operands. Fortunately, NumPy uses a trick called broadcasting to virtually expand the smaller operand to dimensions compatible for linear algebra. For example, the following operation uses broadcasting to add 2.0 to the value of every item in the array created in the previous code cell:"
      ],
      "metadata": {
        "id": "4r6Zc2ttcpTS"
      }
    },
    {
      "cell_type": "code",
      "source": [
        "arr = np.array([[2,3,4],[4,5,6]])\n",
        "print(arr + 2)\n",
        "print(arr*2)"
      ],
      "metadata": {
        "colab": {
          "base_uri": "https://localhost:8080/"
        },
        "id": "Z-EaAJRbcnU2",
        "outputId": "cb5f071f-5760-4917-c713-250a70d6764b"
      },
      "execution_count": null,
      "outputs": [
        {
          "output_type": "stream",
          "name": "stdout",
          "text": [
            "[[4 5 6]\n",
            " [6 7 8]]\n",
            "[[ 4  6  8]\n",
            " [ 8 10 12]]\n"
          ]
        }
      ]
    },
    {
      "cell_type": "code",
      "source": [
        "arr1=np.array([[1,2,3],[5,6,7]])\n",
        "arr2=np.array([2])\n",
        "arr3=arr1+arr2\n",
        "print(arr3)\n",
        "print(arr3.ndim)"
      ],
      "metadata": {
        "colab": {
          "base_uri": "https://localhost:8080/"
        },
        "id": "k7qndfaHf4OI",
        "outputId": "f8295f55-220b-4d66-9ec2-763406a375cd"
      },
      "execution_count": null,
      "outputs": [
        {
          "output_type": "stream",
          "name": "stdout",
          "text": [
            "[[3 4 5]\n",
            " [7 8 9]]\n",
            "2\n"
          ]
        }
      ]
    },
    {
      "cell_type": "markdown",
      "source": [
        "**Create a Linear Dataset**\n",
        "\n",
        "Create a simple dataset consisting of a single feature and a label as follows:\n",
        "\n",
        "1. Assign a sequence of integers from 6 to 20 (inclusive) to a NumPy array named feature.\n",
        "\n",
        "2. Assign 15 values to a NumPy array named label such that:\n",
        "\n",
        "    \n",
        "    label = (3)(feature) + 4\n",
        "\n",
        "For example, the first value for label should be:\n",
        "    \n",
        "    label = (3)(6) + 4 = 22"
      ],
      "metadata": {
        "id": "fsYx5Q_SjbMj"
      }
    },
    {
      "cell_type": "code",
      "source": [
        "feature = np.arange(6,21)\n",
        "label = 3* feature + 4\n",
        "\n",
        "print(feature)\n",
        "print(label)"
      ],
      "metadata": {
        "colab": {
          "base_uri": "https://localhost:8080/"
        },
        "id": "z5xiL__Wkkeg",
        "outputId": "0c5b88e4-e2ba-4742-e62a-d5ac06bca173"
      },
      "execution_count": null,
      "outputs": [
        {
          "output_type": "stream",
          "name": "stdout",
          "text": [
            "[ 6  7  8  9 10 11 12 13 14 15 16 17 18 19 20]\n",
            "[22 25 28 31 34 37 40 43 46 49 52 55 58 61 64]\n"
          ]
        }
      ]
    },
    {
      "cell_type": "code",
      "source": [
        "#add noise\n",
        "noise = np.random.random(15)*2 - 2\n",
        "print(noise)\n",
        "label=label+noise\n",
        "print(label)"
      ],
      "metadata": {
        "colab": {
          "base_uri": "https://localhost:8080/"
        },
        "id": "DYep8bCEk2ev",
        "outputId": "7827b363-0523-47e7-8193-ebd5e70ea7a6"
      },
      "execution_count": null,
      "outputs": [
        {
          "output_type": "stream",
          "name": "stdout",
          "text": [
            "[-1.31684178 -0.71890651 -0.45795076 -1.84507574 -1.27826447 -1.78587304\n",
            " -1.66489536 -1.49836011 -1.69290921 -1.79713505 -1.33567005 -1.94499324\n",
            " -1.16550113 -0.78117982 -1.90553436]\n",
            "[18.83162607 22.44663928 25.62302273 27.1789464  30.91735138 33.37825832\n",
            " 36.52791524 39.62681505 42.4095198  45.24791457 48.68695484 51.2427384\n",
            " 54.89278244 58.21959371 60.25532997]\n"
          ]
        }
      ]
    },
    {
      "cell_type": "code",
      "source": [
        "\n"
      ],
      "metadata": {
        "id": "0O1jl7nflyB1"
      },
      "execution_count": null,
      "outputs": []
    }
  ]
}